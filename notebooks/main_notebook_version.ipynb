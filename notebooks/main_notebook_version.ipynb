{
 "cells": [
  {
   "cell_type": "code",
   "execution_count": 1,
   "metadata": {
    "collapsed": true
   },
   "outputs": [],
   "source": [
    "# Constants\n",
    "import config.execution_parameters as consts\n",
    "\n",
    "# Project libraries\n",
    "import src.simulator_package.simulator_functions\n",
    "from src.simulator_package.simulator_functions import *\n",
    "import src.hmm_package.generate_hmm\n",
    "from src.hmm_package.generate_hmm import *\n",
    "import src.plot_and_print_info.plots_and_print_info\n",
    "from src.plot_and_print_info.plots_and_print_info import *\n",
    "\n",
    "import random\n",
    "import importlib"
   ]
  },
  {
   "cell_type": "code",
   "execution_count": 2,
   "outputs": [],
   "source": [
    "importlib.reload(src.hmm_package.generate_hmm)\n",
    "importlib.reload(src.simulator_package.simulator_functions)\n",
    "importlib.reload(consts)\n",
    "importlib.reload(src.plot_and_print_info.plots_and_print_info)\n",
    "from src.hmm_package.generate_hmm import *\n",
    "from src.simulator_package.simulator_functions import *\n",
    "from config.execution_parameters import *\n",
    "from src.plot_and_print_info.plots_and_print_info import *"
   ],
   "metadata": {
    "collapsed": false,
    "pycharm": {
     "name": "#%%\n"
    }
   }
  },
  {
   "cell_type": "code",
   "execution_count": 3,
   "outputs": [],
   "source": [
    "# Store constants\n",
    "cm = {}\n",
    "for k, v in consts.__dict__.items():\n",
    "    if not k.startswith('__'):\n",
    "        cm[k] = v"
   ],
   "metadata": {
    "collapsed": false,
    "pycharm": {
     "name": "#%%\n"
    }
   }
  },
  {
   "cell_type": "markdown",
   "source": [
    "## Generate the simulation"
   ],
   "metadata": {
    "collapsed": false,
    "pycharm": {
     "name": "#%% md\n"
    }
   }
  },
  {
   "cell_type": "code",
   "execution_count": 4,
   "outputs": [
    {
     "name": "stderr",
     "output_type": "stream",
     "text": [
      "2022-06-18 10:02:00.759177: I tensorflow/core/platform/cpu_feature_guard.cc:151] This TensorFlow binary is optimized with oneAPI Deep Neural Network Library (oneDNN) to use the following CPU instructions in performance-critical operations:  AVX2 FMA\n",
      "To enable them in other operations, rebuild TensorFlow with the appropriate compiler flags.\n"
     ]
    }
   ],
   "source": [
    "# Generate the simulation instantiating the SimulationClass and calling its method 'simulate'\n",
    "advertising_campaign = SimulationClass(cm, ANALYSIS_MODE)\n",
    "advertising_campaign.simulate(cm)\n",
    "\n",
    "adstock = compute_adstock(cm, observation=advertising_campaign.results[\"user_expositions\"])\n",
    "output = np.append( np.zeros([adstock.shape[0], 1]), advertising_campaign.results[\"user_outcome\"], axis=1 )"
   ],
   "metadata": {
    "collapsed": false,
    "pycharm": {
     "name": "#%%\n"
    }
   }
  },
  {
   "cell_type": "code",
   "execution_count": 5,
   "outputs": [
    {
     "name": "stdout",
     "output_type": "stream",
     "text": [
      "Percentage of conversion is: 0.5231533558305211%.\n"
     ]
    },
    {
     "data": {
      "text/plain": "0.5231533558305211"
     },
     "execution_count": 5,
     "metadata": {},
     "output_type": "execute_result"
    }
   ],
   "source": [
    "count_conversions(output)"
   ],
   "metadata": {
    "collapsed": false,
    "pycharm": {
     "name": "#%%\n"
    }
   }
  },
  {
   "cell_type": "code",
   "execution_count": 6,
   "outputs": [],
   "source": [
    "clicks = [sum(el for el in output[:,day] if el==1.0) for day in range(time+1)]"
   ],
   "metadata": {
    "collapsed": false,
    "pycharm": {
     "name": "#%%\n"
    }
   }
  },
  {
   "cell_type": "code",
   "execution_count": 7,
   "outputs": [
    {
     "data": {
      "text/plain": "array([[0., 0., 0., ..., 2., 2., 2.],\n       [0., 0., 0., ..., 2., 2., 2.],\n       [0., 0., 0., ..., 2., 2., 2.],\n       ...,\n       [0., 0., 0., ..., 0., 0., 0.],\n       [0., 0., 0., ..., 0., 0., 0.],\n       [0., 0., 0., ..., 0., 0., 0.]])"
     },
     "execution_count": 7,
     "metadata": {},
     "output_type": "execute_result"
    }
   ],
   "source": [
    "output"
   ],
   "metadata": {
    "collapsed": false,
    "pycharm": {
     "name": "#%%\n"
    }
   }
  },
  {
   "cell_type": "code",
   "execution_count": 8,
   "outputs": [
    {
     "ename": "NameError",
     "evalue": "name 'N_users' is not defined",
     "output_type": "error",
     "traceback": [
      "\u001B[0;31m---------------------------------------------------------------------------\u001B[0m",
      "\u001B[0;31mNameError\u001B[0m                                 Traceback (most recent call last)",
      "Input \u001B[0;32mIn [8]\u001B[0m, in \u001B[0;36m<module>\u001B[0;34m\u001B[0m\n\u001B[0;32m----> 1\u001B[0m \u001B[43mplot_all_funnel_positions\u001B[49m\u001B[43m(\u001B[49m\u001B[43madvertising_campaign\u001B[49m\u001B[43m,\u001B[49m\u001B[43m \u001B[49m\u001B[38;5;241;43m5\u001B[39;49m\u001B[43m)\u001B[49m\n",
      "File \u001B[0;32m~/PycharmProjects/AttributionSingleUser/src/plot_and_print_info/plots_and_print_info.py:75\u001B[0m, in \u001B[0;36mplot_all_funnel_positions\u001B[0;34m(simulation, n_to_plot)\u001B[0m\n\u001B[1;32m     73\u001B[0m plt\u001B[38;5;241m.\u001B[39mfigure()\n\u001B[1;32m     74\u001B[0m plt\u001B[38;5;241m.\u001B[39mtitle(\u001B[38;5;124m\"\u001B[39m\u001B[38;5;124mFunnel Position\u001B[39m\u001B[38;5;124m\"\u001B[39m)\n\u001B[0;32m---> 75\u001B[0m users_list \u001B[38;5;241m=\u001B[39m [usr \u001B[38;5;28;01mfor\u001B[39;00m usr \u001B[38;5;129;01min\u001B[39;00m \u001B[38;5;28mrange\u001B[39m(\u001B[43mN_users\u001B[49m)]\n\u001B[1;32m     76\u001B[0m rnd\u001B[38;5;241m.\u001B[39mshuffle(users_list)\n\u001B[1;32m     77\u001B[0m \u001B[38;5;28;01mfor\u001B[39;00m usr \u001B[38;5;129;01min\u001B[39;00m users_list[:n_to_plot]:\n",
      "\u001B[0;31mNameError\u001B[0m: name 'N_users' is not defined"
     ]
    },
    {
     "data": {
      "text/plain": "<Figure size 432x288 with 1 Axes>",
      "image/png": "[encoded data removed]"
     },
     "metadata": {
      "needs_background": "light"
     },
     "output_type": "display_data"
    }
   ],
   "source": [
    "plot_all_funnel_positions(cm, advertising_campaign, 5)"
   ],
   "metadata": {
    "collapsed": false,
    "pycharm": {
     "name": "#%%\n"
    }
   }
  },
  {
   "cell_type": "code",
   "execution_count": 15,
   "outputs": [
    {
     "ename": "SyntaxError",
     "evalue": "invalid syntax (1517189022.py, line 1)",
     "output_type": "error",
     "traceback": [
      "\u001B[0;36m  Input \u001B[0;32mIn [15]\u001B[0;36m\u001B[0m\n\u001B[0;31m    [1:10]\u001B[0m\n\u001B[0m      ^\u001B[0m\n\u001B[0;31mSyntaxError\u001B[0m\u001B[0;31m:\u001B[0m invalid syntax\n"
     ]
    }
   ],
   "source": [
    "[1:10]"
   ],
   "metadata": {
    "collapsed": false,
    "pycharm": {
     "name": "#%%\n"
    }
   }
  },
  {
   "cell_type": "markdown",
   "source": [
    "## Generate some empty users to facilitate the fitting"
   ],
   "metadata": {
    "collapsed": false,
    "pycharm": {
     "name": "#%% md\n"
    }
   }
  },
  {
   "cell_type": "code",
   "execution_count": null,
   "outputs": [],
   "source": [
    "# We want to fit the model over a pool of empty users, with a certain conversion rate to mimic external factors\n",
    "empty_users = 5000\n",
    "adstock_only_empty = tf.zeros([empty_users, N_states, execution_duration+1], dtype=float)\n",
    "output_only_empty = np.zeros([empty_users, execution_duration+1])\n",
    "\n",
    "# Lets add a 3% of conversion due to external factors\n",
    "for temp in range(round(0.03*empty_users)):\n",
    "    output_only_empty[temp, random.randint(1,execution_duration+1):] = 1"
   ],
   "metadata": {
    "collapsed": false,
    "pycharm": {
     "name": "#%%\n"
    }
   }
  },
  {
   "cell_type": "code",
   "execution_count": null,
   "outputs": [],
   "source": [
    "adstock_with_empty = tf.concat([adstock,adstock_only_empty], axis=0)\n",
    "output_with_empty = tf.concat([output,output_only_empty], axis=0)"
   ],
   "metadata": {
    "collapsed": false,
    "pycharm": {
     "name": "#%%\n"
    }
   }
  },
  {
   "cell_type": "code",
   "execution_count": null,
   "outputs": [],
   "source": [],
   "metadata": {
    "collapsed": false,
    "pycharm": {
     "name": "#%%\n"
    }
   }
  },
  {
   "cell_type": "code",
   "execution_count": 21,
   "outputs": [
    {
     "name": "stdout",
     "output_type": "stream",
     "text": [
      "Mu: [-2.0, -1.0, -4.0] Beta: [0.6, -0.3, 0.2, 0.4, -0.3, 0.7, 0.2, -0.3, 1.0] Init Prob: [<tf.Tensor: shape=(), dtype=float32, numpy=0.90000004>] Click Prob: [<tf.Tensor: shape=(), dtype=float32, numpy=0.85>]\n",
      "Epoch 1/100\n",
      "11/11 [==============================] - 4s 373ms/step - loss: 9087.0430\n",
      "Mu: [-2.0108945, -0.98911065, -3.9891124] Beta: [0.5891084, -0.28911525, 0.21085955, 0.4, -0.3, 0.7, 0.18910837, -0.2891236, 1.0100821] Init Prob: [<tf.Tensor: shape=(), dtype=float32, numpy=0.9009767>] Click Prob: [<tf.Tensor: shape=(), dtype=float32, numpy=0.8486059>]\n",
      "Epoch 2/100\n",
      "11/11 [==============================] - 4s 371ms/step - loss: 8861.2100\n",
      "Mu: [-2.0213335, -0.97867143, -3.978694] Beta: [0.57868326, -0.2786828, 0.22115931, 0.4, -0.3, 0.7, 0.17868753, -0.2786969, 1.0191731] Init Prob: [<tf.Tensor: shape=(), dtype=float32, numpy=0.901908>] Click Prob: [<tf.Tensor: shape=(), dtype=float32, numpy=0.8472588>]\n",
      "Epoch 3/100\n",
      "11/11 [==============================] - 4s 369ms/step - loss: 8644.8887\n",
      "Mu: [-2.0316525, -0.96830994, -3.9684985] Beta: [0.5683851, -0.26834747, 0.231104, 0.4, -0.3, 0.7, 0.16841537, -0.2683666, 1.0271915] Init Prob: [<tf.Tensor: shape=(), dtype=float32, numpy=0.90282595>] Click Prob: [<tf.Tensor: shape=(), dtype=float32, numpy=0.84591496>]\n",
      "Epoch 4/100\n",
      "11/11 [==============================] - 4s 385ms/step - loss: 8438.5410\n",
      "Mu: [-2.0418506, -0.95801526, -3.9585154] Beta: [0.5582097, -0.25808838, 0.24063858, 0.4, -0.3, 0.7, 0.15828492, -0.25806567, 1.0330836] Init Prob: [<tf.Tensor: shape=(), dtype=float32, numpy=0.9037326>] Click Prob: [<tf.Tensor: shape=(), dtype=float32, numpy=0.8445693>]\n",
      "Epoch 5/100\n",
      "11/11 [==============================] - 4s 375ms/step - loss: 8241.0332\n",
      "Mu: [-2.0519426, -0.94778156, -3.9488375] Beta: [0.54814494, -0.24790564, 0.2497229, 0.4, -0.3, 0.7, 0.14827739, -0.2478321, 1.0379754] Init Prob: [<tf.Tensor: shape=(), dtype=float32, numpy=0.904628>] Click Prob: [<tf.Tensor: shape=(), dtype=float32, numpy=0.84322757>]\n",
      "Epoch 6/100\n",
      "11/11 [==============================] - 5s 449ms/step - loss: 8052.7979\n",
      "Mu: [-2.0618868, -0.93761414, -3.9391851] Beta: [0.5382512, -0.23781669, 0.25872344, 0.4, -0.3, 0.7, 0.13845183, -0.23764238, 1.0412886] Init Prob: [<tf.Tensor: shape=(), dtype=float32, numpy=0.9055122>] Click Prob: [<tf.Tensor: shape=(), dtype=float32, numpy=0.8418861>]\n",
      "Epoch 7/100\n",
      "11/11 [==============================] - 5s 444ms/step - loss: 7869.1465\n",
      "Mu: [-2.071703, -0.92758214, -3.9295812] Beta: [0.52850324, -0.2278918, 0.2674885, 0.4, -0.3, 0.7, 0.12878874, -0.22761095, 1.04414] Init Prob: [<tf.Tensor: shape=(), dtype=float32, numpy=0.90638494>] Click Prob: [<tf.Tensor: shape=(), dtype=float32, numpy=0.84054506>]\n",
      "Epoch 8/100\n",
      "11/11 [==============================] - 5s 416ms/step - loss: 7703.3472\n",
      "Mu: [-2.0813816, -0.9176141, -3.9199827] Beta: [0.51890093, -0.21806926, 0.27632332, 0.4, -0.3, 0.7, 0.1193032, -0.21762373, 1.0462698] Init Prob: [<tf.Tensor: shape=(), dtype=float32, numpy=0.9072466>] Click Prob: [<tf.Tensor: shape=(), dtype=float32, numpy=0.8392063>]\n",
      "Epoch 9/100\n",
      "11/11 [==============================] - 4s 379ms/step - loss: 7535.5708\n",
      "Mu: [-2.0909379, -0.9077403, -3.9108002] Beta: [0.50945836, -0.20838296, 0.28445128, 0.4, -0.3, 0.7, 0.10997313, -0.20774952, 1.0463086] Init Prob: [<tf.Tensor: shape=(), dtype=float32, numpy=0.908097>] Click Prob: [<tf.Tensor: shape=(), dtype=float32, numpy=0.83787>]\n",
      "Epoch 10/100\n",
      "11/11 [==============================] - 4s 396ms/step - loss: 7376.7490\n",
      "Mu: [-2.100362, -0.8979136, -3.901793] Beta: [0.50015545, -0.19874707, 0.29224986, 0.4, -0.3, 0.7, 0.10081127, -0.19790106, 1.0441042] Init Prob: [<tf.Tensor: shape=(), dtype=float32, numpy=0.9089364>] Click Prob: [<tf.Tensor: shape=(), dtype=float32, numpy=0.8365314>]\n",
      "Epoch 11/100\n",
      "11/11 [==============================] - 4s 382ms/step - loss: 7228.8101\n",
      "Mu: [-2.1096437, -0.8881662, -3.8926885] Beta: [0.4910165, -0.18921237, 0.29996276, 0.4, -0.3, 0.7, 0.09181402, -0.18809642, 1.0422084] Init Prob: [<tf.Tensor: shape=(), dtype=float32, numpy=0.9097649>] Click Prob: [<tf.Tensor: shape=(), dtype=float32, numpy=0.83519334>]\n",
      "Epoch 12/100\n",
      "11/11 [==============================] - 4s 373ms/step - loss: 7080.7842\n",
      "Mu: [-2.1187978, -0.87856185, -3.883496] Beta: [0.4820337, -0.17986314, 0.3078225, 0.4, -0.3, 0.7, 0.08298027, -0.17848606, 1.0399442] Init Prob: [<tf.Tensor: shape=(), dtype=float32, numpy=0.91058254>] Click Prob: [<tf.Tensor: shape=(), dtype=float32, numpy=0.83385545>]\n",
      "Epoch 13/100\n",
      "11/11 [==============================] - 7s 625ms/step - loss: 6943.7559\n",
      "Mu: [-2.1278336, -0.86902297, -3.8745396] Beta: [0.4731793, -0.17060511, 0.31518197, 0.4, -0.3, 0.7, 0.07429738, -0.16893177, 1.03643] Init Prob: [<tf.Tensor: shape=(), dtype=float32, numpy=0.91138965>] Click Prob: [<tf.Tensor: shape=(), dtype=float32, numpy=0.8325147>]\n",
      "Epoch 14/100\n",
      "11/11 [==============================] - 4s 375ms/step - loss: 6813.1909\n",
      "Mu: [-2.1367426, -0.85961056, -3.8654025] Beta: [0.46447298, -0.16149744, 0.3227139, 0.4, -0.3, 0.7, 0.06578391, -0.15952794, 1.0336026] Init Prob: [<tf.Tensor: shape=(), dtype=float32, numpy=0.91218626>] Click Prob: [<tf.Tensor: shape=(), dtype=float32, numpy=0.83117414>]\n",
      "Epoch 15/100\n",
      "11/11 [==============================] - 4s 355ms/step - loss: 6684.5220\n",
      "Mu: [-2.1455357, -0.8503067, -3.856382] Beta: [0.4559108, -0.15255524, 0.3300711, 0.4, -0.3, 0.7, 0.05740827, -0.15020043, 1.0296988] Init Prob: [<tf.Tensor: shape=(), dtype=float32, numpy=0.91297245>] Click Prob: [<tf.Tensor: shape=(), dtype=float32, numpy=0.82983565>]\n",
      "Epoch 16/100\n",
      "11/11 [==============================] - 4s 348ms/step - loss: 6567.1821\n",
      "Mu: [-2.1541967, -0.84109586, -3.8472934] Beta: [0.4475167, -0.1437355, 0.33750066, 0.4, -0.3, 0.7, 0.04919108, -0.14098008, 1.0257894] Init Prob: [<tf.Tensor: shape=(), dtype=float32, numpy=0.9137486>] Click Prob: [<tf.Tensor: shape=(), dtype=float32, numpy=0.8284936>]\n",
      "Epoch 17/100\n",
      "11/11 [==============================] - 4s 355ms/step - loss: 6449.3608\n",
      "Mu: [-2.1627505, -0.83195627, -3.8383186] Beta: [0.4392304, -0.13500378, 0.34456378, 0.4, -0.3, 0.7, 0.041128453, -0.13188554, 1.0219303] Init Prob: [<tf.Tensor: shape=(), dtype=float32, numpy=0.91451484>] Click Prob: [<tf.Tensor: shape=(), dtype=float32, numpy=0.8271511>]\n",
      "Epoch 18/100\n",
      "11/11 [==============================] - 4s 351ms/step - loss: 6337.7515\n",
      "Mu: [-2.1711779, -0.8229332, -3.8292763] Beta: [0.43110612, -0.12644874, 0.35164943, 0.4, -0.3, 0.7, 0.033239853, -0.12289168, 1.0178145] Init Prob: [<tf.Tensor: shape=(), dtype=float32, numpy=0.91527104>] Click Prob: [<tf.Tensor: shape=(), dtype=float32, numpy=0.82580495>]\n",
      "Epoch 19/100\n",
      "11/11 [==============================] - 4s 353ms/step - loss: 6230.0884\n",
      "Mu: [-2.1794865, -0.8139895, -3.8203185] Beta: [0.4231339, -0.118024215, 0.35855988, 0.4, -0.3, 0.7, 0.02547552, -0.11394191, 1.0124197] Init Prob: [<tf.Tensor: shape=(), dtype=float32, numpy=0.9160178>] Click Prob: [<tf.Tensor: shape=(), dtype=float32, numpy=0.8244549>]\n",
      "Epoch 20/100\n",
      "11/11 [==============================] - 4s 352ms/step - loss: 6130.4873\n",
      "Mu: [-2.1876864, -0.8051895, -3.8111746] Beta: [0.4152848, -0.10976828, 0.36566848, 0.4, -0.3, 0.7, 0.017878579, -0.105198905, 1.0084814] Init Prob: [<tf.Tensor: shape=(), dtype=float32, numpy=0.9167548>] Click Prob: [<tf.Tensor: shape=(), dtype=float32, numpy=0.82310617>]\n",
      "Epoch 21/100\n",
      "11/11 [==============================] - 4s 361ms/step - loss: 6032.9634\n",
      "Mu: [-2.1957765, -0.7964788, -3.8021016] Beta: [0.40757498, -0.10163858, 0.37260446, 0.4, -0.3, 0.7, 0.010395875, -0.0965425, 1.0043116] Init Prob: [<tf.Tensor: shape=(), dtype=float32, numpy=0.9174825>] Click Prob: [<tf.Tensor: shape=(), dtype=float32, numpy=0.821754>]\n",
      "Epoch 22/100\n",
      "11/11 [==============================] - 4s 361ms/step - loss: 5939.7266\n",
      "Mu: [-2.2037532, -0.78786165, -3.7930686] Beta: [0.4000068, -0.093671724, 0.37935102, 0.4, -0.3, 0.7, 0.0030803303, -0.087991886, 0.99923164] Init Prob: [<tf.Tensor: shape=(), dtype=float32, numpy=0.91820085>] Click Prob: [<tf.Tensor: shape=(), dtype=float32, numpy=0.82039607>]\n",
      "Epoch 23/100\n",
      "11/11 [==============================] - 4s 352ms/step - loss: 5854.9761\n",
      "Mu: [-2.2116275, -0.77933997, -3.783997] Beta: [0.3925665, -0.08581722, 0.3858903, 0.4, -0.3, 0.7, -0.0, -0.07953163, 0.99426085] Init Prob: [<tf.Tensor: shape=(), dtype=float32, numpy=0.9189102>] Click Prob: [<tf.Tensor: shape=(), dtype=float32, numpy=0.81903756>]\n",
      "Epoch 24/100\n",
      "11/11 [==============================] - 4s 348ms/step - loss: 5789.1284\n",
      "Mu: [-2.2194266, -0.7708876, -3.775024] Beta: [0.38521394, -0.078117795, 0.39253667, 0.4, -0.3, 0.7, -0.0, -0.07113514, 0.9886707] Init Prob: [<tf.Tensor: shape=(), dtype=float32, numpy=0.9196106>] Click Prob: [<tf.Tensor: shape=(), dtype=float32, numpy=0.81767356>]\n",
      "Epoch 25/100\n",
      "11/11 [==============================] - 4s 348ms/step - loss: 5728.4595\n",
      "Mu: [-2.2271602, -0.76257485, -3.765838] Beta: [0.3779595, -0.07060862, 0.39925814, 0.4, -0.3, 0.7, -0.0, -0.06290672, 0.9842516] Init Prob: [<tf.Tensor: shape=(), dtype=float32, numpy=0.9203021>] Click Prob: [<tf.Tensor: shape=(), dtype=float32, numpy=0.81630266>]\n",
      "Epoch 26/100\n",
      "11/11 [==============================] - 4s 349ms/step - loss: 5663.2720\n",
      "Mu: [-2.2348447, -0.754304, -3.7568443] Beta: [0.3707837, -0.06321914, 0.40594816, 0.4, -0.3, 0.7, -0.0, -0.054733466, 0.97948337] Init Prob: [<tf.Tensor: shape=(), dtype=float32, numpy=0.920985>] Click Prob: [<tf.Tensor: shape=(), dtype=float32, numpy=0.8149216>]\n",
      "Epoch 27/100\n",
      "11/11 [==============================] - 4s 349ms/step - loss: 5605.9634\n",
      "Mu: [-2.24247, -0.746015, -3.747941] Beta: [0.3636931, -0.055821273, 0.41204792, 0.4, -0.3, 0.7, -0.0, -0.046524666, 0.97401917] Init Prob: [<tf.Tensor: shape=(), dtype=float32, numpy=0.92165935>] Click Prob: [<tf.Tensor: shape=(), dtype=float32, numpy=0.8135321>]\n",
      "Epoch 28/100\n",
      "11/11 [==============================] - 4s 349ms/step - loss: 5546.3027\n",
      "Mu: [-2.2500355, -0.73789, -3.738761] Beta: [0.35668415, -0.048675835, 0.41868922, 0.4, -0.3, 0.7, -0.0, -0.03852164, 0.96985126] Init Prob: [<tf.Tensor: shape=(), dtype=float32, numpy=0.9223253>] Click Prob: [<tf.Tensor: shape=(), dtype=float32, numpy=0.8121339>]\n",
      "Epoch 29/100\n",
      "11/11 [==============================] - 4s 368ms/step - loss: 5493.2612\n",
      "Mu: [-2.257547, -0.72978073, -3.7297335] Beta: [0.34975255, -0.041585874, 0.42484832, 0.4, -0.3, 0.7, -0.0, -0.030480849, 0.96461654] Init Prob: [<tf.Tensor: shape=(), dtype=float32, numpy=0.92298293>] Click Prob: [<tf.Tensor: shape=(), dtype=float32, numpy=0.8107269>]\n",
      "Epoch 30/100\n",
      "11/11 [==============================] - 4s 362ms/step - loss: 5441.9287\n",
      "Mu: [-2.265012, -0.7217679, -3.7207346] Beta: [0.34288904, -0.03466924, 0.431026, 0.4, -0.3, 0.7, -0.0, -0.022553513, 0.9598162] Init Prob: [<tf.Tensor: shape=(), dtype=float32, numpy=0.92363244>] Click Prob: [<tf.Tensor: shape=(), dtype=float32, numpy=0.8093112>]\n",
      "Epoch 31/100\n",
      "11/11 [==============================] - 4s 369ms/step - loss: 5387.8540\n",
      "Mu: [-2.2724183, -0.7138653, -3.7115643] Beta: [0.33611757, -0.027946873, 0.4375186, 0.4, -0.3, 0.7, -0.0, -0.014788189, 0.9558092] Init Prob: [<tf.Tensor: shape=(), dtype=float32, numpy=0.9242739>] Click Prob: [<tf.Tensor: shape=(), dtype=float32, numpy=0.8078854>]\n",
      "Epoch 32/100\n",
      "11/11 [==============================] - 4s 370ms/step - loss: 5338.5996\n",
      "Mu: [-2.2797666, -0.705987, -3.7026858] Beta: [0.32942387, -0.021291072, 0.44317535, 0.4, -0.3, 0.7, -0.0, -0.0070389234, 0.9505608] Init Prob: [<tf.Tensor: shape=(), dtype=float32, numpy=0.92490745>] Click Prob: [<tf.Tensor: shape=(), dtype=float32, numpy=0.8064561>]\n",
      "Epoch 33/100\n",
      "11/11 [==============================] - 4s 361ms/step - loss: 5292.7588\n",
      "Mu: [-2.2870808, -0.698216, -3.6939352] Beta: [0.3227893, -0.0148140155, 0.44889486, 0.4, -0.3, 0.7, -0.0, 0.0, 0.9449853] Init Prob: [<tf.Tensor: shape=(), dtype=float32, numpy=0.92553324>] Click Prob: [<tf.Tensor: shape=(), dtype=float32, numpy=0.80501574>]\n",
      "Epoch 34/100\n",
      "11/11 [==============================] - 4s 368ms/step - loss: 5237.8882\n",
      "Mu: [-2.2943194, -0.69052505, -3.6848714] Beta: [0.31625944, -0.0085324235, 0.45511156, 0.4, -0.3, 0.7, -0.0, 0.0, 0.940855] Init Prob: [<tf.Tensor: shape=(), dtype=float32, numpy=0.92615145>] Click Prob: [<tf.Tensor: shape=(), dtype=float32, numpy=0.80357015>]\n",
      "Epoch 35/100\n",
      "11/11 [==============================] - 4s 378ms/step - loss: 5190.5127\n",
      "Mu: [-2.3015146, -0.6828987, -3.6758955] Beta: [0.30978513, -0.002308279, 0.4609501, 0.4, -0.3, 0.7, -0.0, 0.0, 0.9362893] Init Prob: [<tf.Tensor: shape=(), dtype=float32, numpy=0.92676204>] Click Prob: [<tf.Tensor: shape=(), dtype=float32, numpy=0.8021147>]\n",
      "Epoch 36/100\n",
      "11/11 [==============================] - 4s 382ms/step - loss: 5147.3296\n",
      "Mu: [-2.3086483, -0.67531276, -3.6670392] Beta: [0.30340162, 0.0, 0.46635768, 0.4, -0.3, 0.7, -0.0, 0.0, 0.9307582] Init Prob: [<tf.Tensor: shape=(), dtype=float32, numpy=0.92736536>] Click Prob: [<tf.Tensor: shape=(), dtype=float32, numpy=0.8006557>]\n",
      "Epoch 37/100\n",
      "11/11 [==============================] - 4s 372ms/step - loss: 5110.3672\n",
      "Mu: [-2.3157394, -0.6678515, -3.6583102] Beta: [0.29709017, 0.0, 0.47166014, 0.4, -0.3, 0.7, -0.0, 0.0, 0.9246826] Init Prob: [<tf.Tensor: shape=(), dtype=float32, numpy=0.92796147>] Click Prob: [<tf.Tensor: shape=(), dtype=float32, numpy=0.79918885>]\n",
      "Epoch 38/100\n",
      "11/11 [==============================] - 4s 366ms/step - loss: 5067.3618\n",
      "Mu: [-2.3227894, -0.6604462, -3.649465] Beta: [0.2908303, 0.0, 0.47688803, 0.4, -0.3, 0.7, -0.0, 0.0, 0.91970557] Init Prob: [<tf.Tensor: shape=(), dtype=float32, numpy=0.9285505>] Click Prob: [<tf.Tensor: shape=(), dtype=float32, numpy=0.79772186>]\n",
      "Epoch 39/100\n",
      "11/11 [==============================] - 4s 372ms/step - loss: 5027.4565\n",
      "Mu: [-2.3297822, -0.65304726, -3.6409132] Beta: [0.284664, 0.0, 0.48167473, 0.4, -0.3, 0.7, -0.0, 0.0, 0.91296124] Init Prob: [<tf.Tensor: shape=(), dtype=float32, numpy=0.9291325>] Click Prob: [<tf.Tensor: shape=(), dtype=float32, numpy=0.79625285>]\n",
      "Epoch 40/100\n",
      "11/11 [==============================] - 4s 368ms/step - loss: 4994.1572\n",
      "Mu: [-2.336724, -0.64572334, -3.632243] Beta: [0.27855626, 0.0, 0.48620445, 0.4, -0.3, 0.7, -0.0, 0.0, 0.9067112] Init Prob: [<tf.Tensor: shape=(), dtype=float32, numpy=0.9297077>] Click Prob: [<tf.Tensor: shape=(), dtype=float32, numpy=0.7947757>]\n",
      "Epoch 41/100\n",
      "11/11 [==============================] - 4s 366ms/step - loss: 4951.2446\n",
      "Mu: [-2.3436327, -0.63840175, -3.6239147] Beta: [0.27250767, 0.0, 0.49000785, 0.4, -0.3, 0.7, -0.0, 0.0, 0.89872456] Init Prob: [<tf.Tensor: shape=(), dtype=float32, numpy=0.93027616>] Click Prob: [<tf.Tensor: shape=(), dtype=float32, numpy=0.7932928>]\n",
      "Epoch 42/100\n",
      "11/11 [==============================] - 4s 382ms/step - loss: 4920.7075\n",
      "Mu: [-2.3504941, -0.6311698, -3.6153429] Beta: [0.26651832, 0.0, 0.4944048, 0.4, -0.3, 0.7, -0.0, 0.0, 0.89301294] Init Prob: [<tf.Tensor: shape=(), dtype=float32, numpy=0.93083787>] Click Prob: [<tf.Tensor: shape=(), dtype=float32, numpy=0.79180497>]\n",
      "Epoch 43/100\n",
      "11/11 [==============================] - 4s 351ms/step - loss: 4879.4409\n",
      "Mu: [-2.357308, -0.6240683, -3.6066852] Beta: [0.26060662, 0.0, 0.4987537, 0.4, -0.3, 0.7, -0.0, 0.0, 0.8864337] Init Prob: [<tf.Tensor: shape=(), dtype=float32, numpy=0.931393>] Click Prob: [<tf.Tensor: shape=(), dtype=float32, numpy=0.79031616>]\n",
      "Epoch 44/100\n",
      "11/11 [==============================] - 4s 350ms/step - loss: 4846.5122\n",
      "Mu: [-2.3640888, -0.61692, -3.5984838] Beta: [0.25474107, 0.0, 0.5020915, 0.4, -0.3, 0.7, -0.0, 0.0, 0.8788313] Init Prob: [<tf.Tensor: shape=(), dtype=float32, numpy=0.9319417>] Click Prob: [<tf.Tensor: shape=(), dtype=float32, numpy=0.7888206>]\n",
      "Epoch 45/100\n",
      "11/11 [==============================] - 4s 346ms/step - loss: 4811.5728\n",
      "Mu: [-2.3708167, -0.6098487, -3.5901082] Beta: [0.24895863, 0.0, 0.50553674, 0.4, -0.3, 0.7, -0.0, 0.0, 0.8720682] Init Prob: [<tf.Tensor: shape=(), dtype=float32, numpy=0.93248403>] Click Prob: [<tf.Tensor: shape=(), dtype=float32, numpy=0.7873225>]\n",
      "Epoch 46/100\n",
      "11/11 [==============================] - 5s 424ms/step - loss: 4779.2661\n",
      "Mu: [-2.3774915, -0.60289913, -3.58145] Beta: [0.24324937, 0.0, 0.50946456, 0.4, -0.3, 0.7, -0.0, 0.0, 0.8661739] Init Prob: [<tf.Tensor: shape=(), dtype=float32, numpy=0.93302006>] Click Prob: [<tf.Tensor: shape=(), dtype=float32, numpy=0.78581476>]\n",
      "Epoch 47/100\n",
      "11/11 [==============================] - 4s 383ms/step - loss: 4745.6060\n",
      "Mu: [-2.384124, -0.5959625, -3.5729887] Beta: [0.23759599, 0.0, 0.5128981, 0.4, -0.3, 0.7, -0.0, 0.0, 0.8593125] Init Prob: [<tf.Tensor: shape=(), dtype=float32, numpy=0.9335499>] Click Prob: [<tf.Tensor: shape=(), dtype=float32, numpy=0.7843054>]\n",
      "Epoch 48/100\n",
      "11/11 [==============================] - 5s 439ms/step - loss: 4720.0498\n",
      "Mu: [-2.3907137, -0.5890862, -3.5645547] Beta: [0.2320153, 0.0, 0.51636124, 0.4, -0.3, 0.7, -0.0, 0.0, 0.85293734] Init Prob: [<tf.Tensor: shape=(), dtype=float32, numpy=0.9340736>] Click Prob: [<tf.Tensor: shape=(), dtype=float32, numpy=0.7827927>]\n",
      "Epoch 49/100\n",
      "11/11 [==============================] - 4s 380ms/step - loss: 4688.9370\n",
      "Mu: [-2.3972657, -0.5822195, -3.556342] Beta: [0.22647548, 0.0, 0.51884294, 0.4, -0.3, 0.7, -0.0, 0.0, 0.8457865] Init Prob: [<tf.Tensor: shape=(), dtype=float32, numpy=0.93459135>] Click Prob: [<tf.Tensor: shape=(), dtype=float32, numpy=0.7812724>]\n",
      "Epoch 50/100\n",
      "11/11 [==============================] - 4s 373ms/step - loss: 4656.6064\n",
      "Mu: [-2.4037683, -0.5754681, -3.5478563] Beta: [0.22101483, 0.0, 0.52219224, 0.4, -0.3, 0.7, -0.0, 0.0, 0.83997506] Init Prob: [<tf.Tensor: shape=(), dtype=float32, numpy=0.93510306>] Click Prob: [<tf.Tensor: shape=(), dtype=float32, numpy=0.77974427>]\n",
      "Epoch 51/100\n",
      "11/11 [==============================] - 4s 373ms/step - loss: 4622.4160\n",
      "Mu: [-2.4102142, -0.56879103, -3.5393538] Beta: [0.21563749, 0.0, 0.52493316, 0.4, -0.3, 0.7, -0.0, 0.0, 0.83343446] Init Prob: [<tf.Tensor: shape=(), dtype=float32, numpy=0.9356091>] Click Prob: [<tf.Tensor: shape=(), dtype=float32, numpy=0.7782129>]\n",
      "Epoch 52/100\n",
      "11/11 [==============================] - 4s 374ms/step - loss: 4593.7559\n",
      "Mu: [-2.4166365, -0.5621358, -3.530941] Beta: [0.21028513, 0.0, 0.52781266, 0.4, -0.3, 0.7, -0.0, 0.0, 0.8275726] Init Prob: [<tf.Tensor: shape=(), dtype=float32, numpy=0.9361093>] Click Prob: [<tf.Tensor: shape=(), dtype=float32, numpy=0.77667534>]\n",
      "Epoch 53/100\n",
      "11/11 [==============================] - 4s 373ms/step - loss: 4567.3901\n",
      "Mu: [-2.4230158, -0.55553603, -3.5226595] Beta: [0.2050058, 0.0, 0.530234, 0.4, -0.3, 0.7, -0.0, 0.0, 0.82104695] Init Prob: [<tf.Tensor: shape=(), dtype=float32, numpy=0.9366038>] Click Prob: [<tf.Tensor: shape=(), dtype=float32, numpy=0.77513814>]\n",
      "Epoch 54/100\n",
      "11/11 [==============================] - 4s 370ms/step - loss: 4540.9258\n",
      "Mu: [-2.4293375, -0.5490532, -3.5142624] Beta: [0.19981387, 0.0, 0.53243756, 0.4, -0.3, 0.7, -0.0, 0.0, 0.8147491] Init Prob: [<tf.Tensor: shape=(), dtype=float32, numpy=0.9370928>] Click Prob: [<tf.Tensor: shape=(), dtype=float32, numpy=0.7735924>]\n",
      "Epoch 55/100\n",
      "11/11 [==============================] - 4s 376ms/step - loss: 4515.2642\n",
      "Mu: [-2.4356296, -0.54265463, -3.505689] Beta: [0.19465671, 0.0, 0.53510785, 0.4, -0.3, 0.7, -0.0, 0.0, 0.80923533] Init Prob: [<tf.Tensor: shape=(), dtype=float32, numpy=0.9375762>] Click Prob: [<tf.Tensor: shape=(), dtype=float32, numpy=0.77203715>]\n",
      "Epoch 56/100\n",
      "11/11 [==============================] - 4s 370ms/step - loss: 4491.7251\n",
      "Mu: [-2.4418812, -0.53624725, -3.4972758] Beta: [0.18956254, 0.0, 0.53772885, 0.4, -0.3, 0.7, -0.0, 0.0, 0.80374384] Init Prob: [<tf.Tensor: shape=(), dtype=float32, numpy=0.9380542>] Click Prob: [<tf.Tensor: shape=(), dtype=float32, numpy=0.770484>]\n",
      "Epoch 57/100\n",
      "11/11 [==============================] - 4s 370ms/step - loss: 4464.2686\n",
      "Mu: [-2.4481032, -0.52982885, -3.489124] Beta: [0.18450731, 0.0, 0.53929675, 0.4, -0.3, 0.7, -0.0, 0.0, 0.7966583] Init Prob: [<tf.Tensor: shape=(), dtype=float32, numpy=0.93852687>] Click Prob: [<tf.Tensor: shape=(), dtype=float32, numpy=0.7689205>]\n",
      "Epoch 58/100\n",
      "11/11 [==============================] - 4s 396ms/step - loss: 4440.4976\n",
      "Mu: [-2.4542642, -0.5236224, -3.480699] Beta: [0.17954968, 0.0, 0.54111916, 0.4, -0.3, 0.7, -0.0, 0.0, 0.7916072] Init Prob: [<tf.Tensor: shape=(), dtype=float32, numpy=0.9389943>] Click Prob: [<tf.Tensor: shape=(), dtype=float32, numpy=0.76734805>]\n",
      "Epoch 59/100\n",
      "11/11 [==============================] - 4s 370ms/step - loss: 4417.1890\n",
      "Mu: [-2.4603927, -0.5174208, -3.472341] Beta: [0.1746331, 0.0, 0.54306567, 0.4, -0.3, 0.7, -0.0, 0.0, 0.78547233] Init Prob: [<tf.Tensor: shape=(), dtype=float32, numpy=0.93945646>] Click Prob: [<tf.Tensor: shape=(), dtype=float32, numpy=0.7657739>]\n",
      "Epoch 60/100\n",
      "11/11 [==============================] - 4s 367ms/step - loss: 4392.7910\n",
      "Mu: [-2.4664845, -0.5112281, -3.463962] Beta: [0.16976327, 0.0, 0.5449829, 0.4, -0.3, 0.7, -0.0, 0.0, 0.7799303] Init Prob: [<tf.Tensor: shape=(), dtype=float32, numpy=0.9399136>] Click Prob: [<tf.Tensor: shape=(), dtype=float32, numpy=0.7641968>]\n",
      "Epoch 61/100\n",
      "11/11 [==============================] - 4s 385ms/step - loss: 4368.4902\n",
      "Mu: [-2.4725277, -0.5051544, -3.4555962] Beta: [0.16496965, 0.0, 0.5466851, 0.4, -0.3, 0.7, -0.0, 0.0, 0.77465826] Init Prob: [<tf.Tensor: shape=(), dtype=float32, numpy=0.9403657>] Click Prob: [<tf.Tensor: shape=(), dtype=float32, numpy=0.7626162>]\n",
      "Epoch 62/100\n",
      "11/11 [==============================] - 4s 382ms/step - loss: 4347.8101\n",
      "Mu: [-2.4785116, -0.49919787, -3.4470425] Beta: [0.16026917, 0.0, 0.5482835, 0.4, -0.3, 0.7, -0.0, 0.0, 0.7692931] Init Prob: [<tf.Tensor: shape=(), dtype=float32, numpy=0.9408127>] Click Prob: [<tf.Tensor: shape=(), dtype=float32, numpy=0.76102924>]\n",
      "Epoch 63/100\n",
      "11/11 [==============================] - 4s 371ms/step - loss: 4326.3975\n",
      "Mu: [-2.4844995, -0.49326673, -3.4385326] Beta: [0.15555593, 0.0, 0.5501602, 0.4, -0.3, 0.7, -0.0, 0.0, 0.76507956] Init Prob: [<tf.Tensor: shape=(), dtype=float32, numpy=0.9412548>] Click Prob: [<tf.Tensor: shape=(), dtype=float32, numpy=0.7594353>]\n",
      "Epoch 64/100\n",
      "11/11 [==============================] - 4s 371ms/step - loss: 4304.9209\n",
      "Mu: [-2.4904275, -0.4873313, -3.4303439] Beta: [0.15093163, 0.0, 0.5510364, 0.4, -0.3, 0.7, -0.0, 0.0, 0.7587476] Init Prob: [<tf.Tensor: shape=(), dtype=float32, numpy=0.9416921>] Click Prob: [<tf.Tensor: shape=(), dtype=float32, numpy=0.7578378>]\n",
      "Epoch 65/100\n",
      "11/11 [==============================] - 4s 371ms/step - loss: 4281.5610\n",
      "Mu: [-2.49632, -0.48154724, -3.4220128] Beta: [0.14636041, 0.0, 0.5522087, 0.4, -0.3, 0.7, -0.0, 0.0, 0.7534763] Init Prob: [<tf.Tensor: shape=(), dtype=float32, numpy=0.9421246>] Click Prob: [<tf.Tensor: shape=(), dtype=float32, numpy=0.7562331>]\n",
      "Epoch 66/100\n",
      "11/11 [==============================] - 4s 373ms/step - loss: 4262.8735\n",
      "Mu: [-2.5021815, -0.47579065, -3.413655] Beta: [0.14183637, 0.0, 0.5530961, 0.4, -0.3, 0.7, -0.0, 0.0, 0.7480941] Init Prob: [<tf.Tensor: shape=(), dtype=float32, numpy=0.9425525>] Click Prob: [<tf.Tensor: shape=(), dtype=float32, numpy=0.75462055>]\n",
      "Epoch 67/100\n",
      "11/11 [==============================] - 4s 377ms/step - loss: 4247.1934\n",
      "Mu: [-2.508012, -0.4700488, -3.4052477] Beta: [0.13736746, 0.0, 0.55434406, 0.4, -0.3, 0.7, -0.0, 0.0, 0.7437165] Init Prob: [<tf.Tensor: shape=(), dtype=float32, numpy=0.94297576>] Click Prob: [<tf.Tensor: shape=(), dtype=float32, numpy=0.75300884>]\n",
      "Epoch 68/100\n",
      "11/11 [==============================] - 4s 377ms/step - loss: 4219.1958\n",
      "Mu: [-2.5137987, -0.46442187, -3.3969176] Beta: [0.13294664, 0.0, 0.55516434, 0.4, -0.3, 0.7, -0.0, 0.0, 0.7393413] Init Prob: [<tf.Tensor: shape=(), dtype=float32, numpy=0.9433943>] Click Prob: [<tf.Tensor: shape=(), dtype=float32, numpy=0.7513906>]\n",
      "Epoch 69/100\n",
      "11/11 [==============================] - 4s 383ms/step - loss: 4207.7305\n",
      "Mu: [-2.5195422, -0.4588819, -3.3884428] Beta: [0.12860191, 0.0, 0.5563627, 0.4, -0.3, 0.7, -0.0, 0.0, 0.7344099] Init Prob: [<tf.Tensor: shape=(), dtype=float32, numpy=0.94380844>] Click Prob: [<tf.Tensor: shape=(), dtype=float32, numpy=0.7497665>]\n",
      "Epoch 70/100\n",
      "11/11 [==============================] - 4s 370ms/step - loss: 4181.5693\n",
      "Mu: [-2.525251, -0.45342925, -3.380002] Beta: [0.124297865, 0.0, 0.5571517, 0.4, -0.3, 0.7, -0.0, 0.0, 0.729872] Init Prob: [<tf.Tensor: shape=(), dtype=float32, numpy=0.9442181>] Click Prob: [<tf.Tensor: shape=(), dtype=float32, numpy=0.7481307>]\n",
      "Epoch 71/100\n",
      "11/11 [==============================] - 4s 372ms/step - loss: 4165.5874\n",
      "Mu: [-2.5309308, -0.44801712, -3.3716807] Beta: [0.120033406, 0.0, 0.5578694, 0.4, -0.3, 0.7, -0.0, 0.0, 0.72508264] Init Prob: [<tf.Tensor: shape=(), dtype=float32, numpy=0.94462335>] Click Prob: [<tf.Tensor: shape=(), dtype=float32, numpy=0.7464964>]\n",
      "Epoch 72/100\n",
      "11/11 [==============================] - 4s 371ms/step - loss: 4148.6758\n",
      "Mu: [-2.536566, -0.44271106, -3.3632195] Beta: [0.115846224, 0.0, 0.5585442, 0.4, -0.3, 0.7, -0.0, 0.0, 0.72104585] Init Prob: [<tf.Tensor: shape=(), dtype=float32, numpy=0.9450244>] Click Prob: [<tf.Tensor: shape=(), dtype=float32, numpy=0.7448591>]\n",
      "Epoch 73/100\n",
      "11/11 [==============================] - 4s 373ms/step - loss: 4126.7510\n",
      "Mu: [-2.542181, -0.4373995, -3.354986] Beta: [0.11168068, 0.0, 0.558738, 0.4, -0.3, 0.7, -0.0, 0.0, 0.7160655] Init Prob: [<tf.Tensor: shape=(), dtype=float32, numpy=0.9454211>] Click Prob: [<tf.Tensor: shape=(), dtype=float32, numpy=0.74321467>]\n",
      "Epoch 74/100\n",
      "11/11 [==============================] - 4s 369ms/step - loss: 4112.4409\n",
      "Mu: [-2.5477514, -0.43221086, -3.346545] Beta: [0.107587054, 0.0, 0.55965996, 0.4, -0.3, 0.7, -0.0, 0.0, 0.71192175] Init Prob: [<tf.Tensor: shape=(), dtype=float32, numpy=0.94581366>] Click Prob: [<tf.Tensor: shape=(), dtype=float32, numpy=0.7415674>]\n",
      "Epoch 75/100\n",
      "11/11 [==============================] - 5s 483ms/step - loss: 4094.6763\n",
      "Mu: [-2.5532897, -0.42711127, -3.3382094] Beta: [0.10354425, 0.0, 0.5598078, 0.4, -0.3, 0.7, -0.0, 0.0, 0.706881] Init Prob: [<tf.Tensor: shape=(), dtype=float32, numpy=0.9462019>] Click Prob: [<tf.Tensor: shape=(), dtype=float32, numpy=0.73991203>]\n",
      "Epoch 76/100\n",
      "11/11 [==============================] - 4s 382ms/step - loss: 4083.5371\n",
      "Mu: [-2.5587928, -0.4220366, -3.3298478] Beta: [0.099547364, 0.0, 0.55981594, 0.4, -0.3, 0.7, -0.0, 0.0, 0.70255834] Init Prob: [<tf.Tensor: shape=(), dtype=float32, numpy=0.94658625>] Click Prob: [<tf.Tensor: shape=(), dtype=float32, numpy=0.7382523>]\n",
      "Epoch 77/100\n",
      "11/11 [==============================] - 4s 358ms/step - loss: 4062.4966\n",
      "Mu: [-2.5642729, -0.41702518, -3.321783] Beta: [0.09559791, 0.0, 0.5591539, 0.4, -0.3, 0.7, -0.0, 0.0, 0.69704694] Init Prob: [<tf.Tensor: shape=(), dtype=float32, numpy=0.9469666>] Click Prob: [<tf.Tensor: shape=(), dtype=float32, numpy=0.7365855>]\n",
      "Epoch 78/100\n",
      "11/11 [==============================] - 4s 358ms/step - loss: 4049.0422\n",
      "Mu: [-2.5697021, -0.41215253, -3.3129723] Beta: [0.091715924, 0.0, 0.56028, 0.4, -0.3, 0.7, -0.0, 0.0, 0.69472414] Init Prob: [<tf.Tensor: shape=(), dtype=float32, numpy=0.9473429>] Click Prob: [<tf.Tensor: shape=(), dtype=float32, numpy=0.73491454>]\n",
      "Epoch 79/100\n",
      "11/11 [==============================] - 4s 359ms/step - loss: 4034.0261\n",
      "Mu: [-2.5751202, -0.40732157, -3.3046052] Beta: [0.08784348, 0.0, 0.5606243, 0.4, -0.3, 0.7, -0.0, 0.0, 0.69062334] Init Prob: [<tf.Tensor: shape=(), dtype=float32, numpy=0.9477152>] Click Prob: [<tf.Tensor: shape=(), dtype=float32, numpy=0.7332457>]\n",
      "Epoch 80/100\n",
      "11/11 [==============================] - 4s 358ms/step - loss: 4019.3274\n",
      "Mu: [-2.5804877, -0.40252522, -3.2962594] Beta: [0.08405451, 0.0, 0.5603631, 0.4, -0.3, 0.7, -0.0, 0.0, 0.68637985] Init Prob: [<tf.Tensor: shape=(), dtype=float32, numpy=0.94808376>] Click Prob: [<tf.Tensor: shape=(), dtype=float32, numpy=0.7315666>]\n",
      "Epoch 81/100\n",
      "11/11 [==============================] - 4s 355ms/step - loss: 3999.8945\n",
      "Mu: [-2.5858262, -0.39786494, -3.287784] Beta: [0.08030782, 0.0, 0.56050223, 0.4, -0.3, 0.7, -0.0, 0.0, 0.6822994] Init Prob: [<tf.Tensor: shape=(), dtype=float32, numpy=0.9484484>] Click Prob: [<tf.Tensor: shape=(), dtype=float32, numpy=0.72988224>]\n",
      "Epoch 82/100\n",
      "11/11 [==============================] - 4s 359ms/step - loss: 3989.9673\n",
      "Mu: [-2.5911422, -0.39330512, -3.279274] Beta: [0.07659513, 0.0, 0.5604621, 0.4, -0.3, 0.7, -0.0, 0.0, 0.67864907] Init Prob: [<tf.Tensor: shape=(), dtype=float32, numpy=0.94880927>] Click Prob: [<tf.Tensor: shape=(), dtype=float32, numpy=0.728194>]\n",
      "Epoch 83/100\n",
      "11/11 [==============================] - 4s 357ms/step - loss: 3972.3728\n",
      "Mu: [-2.5964181, -0.38875523, -3.270938] Beta: [0.07294158, 0.0, 0.56002086, 0.4, -0.3, 0.7, -0.0, 0.0, 0.6744245] Init Prob: [<tf.Tensor: shape=(), dtype=float32, numpy=0.9491666>] Click Prob: [<tf.Tensor: shape=(), dtype=float32, numpy=0.72650623>]\n",
      "Epoch 84/100\n",
      "11/11 [==============================] - 4s 357ms/step - loss: 3957.5347\n",
      "Mu: [-2.6016862, -0.38424277, -3.2626345] Beta: [0.069300264, -3.3573353e-05, 0.55947125, 0.4, -0.3, 0.7, -0.0, 0.0, 0.67044914] Init Prob: [<tf.Tensor: shape=(), dtype=float32, numpy=0.94952023>] Click Prob: [<tf.Tensor: shape=(), dtype=float32, numpy=0.7248103>]\n",
      "Epoch 85/100\n",
      "11/11 [==============================] - 4s 355ms/step - loss: 3945.0073\n",
      "Mu: [-2.6069028, -0.37985337, -3.254501] Beta: [0.06573879, -0.00036971047, 0.5587342, 0.4, -0.3, 0.7, -0.0, 0.0, 0.6660757] Init Prob: [<tf.Tensor: shape=(), dtype=float32, numpy=0.94987017>] Click Prob: [<tf.Tensor: shape=(), dtype=float32, numpy=0.7231133>]\n",
      "Epoch 86/100\n",
      "11/11 [==============================] - 4s 354ms/step - loss: 3934.8159\n",
      "Mu: [-2.6121123, -0.3755304, -3.2461388] Beta: [0.062186815, -0.00079935754, 0.5583935, 0.4, -0.3, 0.7, -0.0, 0.0, 0.662492] Init Prob: [<tf.Tensor: shape=(), dtype=float32, numpy=0.95021653>] Click Prob: [<tf.Tensor: shape=(), dtype=float32, numpy=0.7214099>]\n",
      "Epoch 87/100\n",
      "11/11 [==============================] - 4s 353ms/step - loss: 3918.7671\n",
      "Mu: [-2.617263, -0.371268, -3.2377212] Beta: [0.058719616, -0.0013543814, 0.5578054, 0.4, -0.3, 0.7, -0.0, 0.0, 0.6582348] Init Prob: [<tf.Tensor: shape=(), dtype=float32, numpy=0.95055944>] Click Prob: [<tf.Tensor: shape=(), dtype=float32, numpy=0.719698>]\n",
      "Epoch 88/100\n",
      "11/11 [==============================] - 4s 360ms/step - loss: 3908.0986\n",
      "Mu: [-2.6224039, -0.3670684, -3.22946] Beta: [0.055276036, -0.0021319322, 0.5574459, 0.4, -0.3, 0.7, -0.0, 0.0, 0.65417033] Init Prob: [<tf.Tensor: shape=(), dtype=float32, numpy=0.95089877>] Click Prob: [<tf.Tensor: shape=(), dtype=float32, numpy=0.717987>]\n",
      "Epoch 89/100\n",
      "11/11 [==============================] - 4s 362ms/step - loss: 3891.8384\n",
      "Mu: [-2.627503, -0.36296767, -3.2212176] Beta: [0.051888034, -0.0030494786, 0.55603915, 0.4, -0.3, 0.7, -0.0, 0.0, 0.6501009] Init Prob: [<tf.Tensor: shape=(), dtype=float32, numpy=0.9512348>] Click Prob: [<tf.Tensor: shape=(), dtype=float32, numpy=0.7162692>]\n",
      "Epoch 90/100\n",
      "11/11 [==============================] - 4s 369ms/step - loss: 3880.1663\n",
      "Mu: [-2.6325874, -0.35897025, -3.212616] Beta: [0.048527885, -0.004184699, 0.5561201, 0.4, -0.3, 0.7, -0.0, 0.0, 0.64777243] Init Prob: [<tf.Tensor: shape=(), dtype=float32, numpy=0.95156753>] Click Prob: [<tf.Tensor: shape=(), dtype=float32, numpy=0.7145407>]\n",
      "Epoch 91/100\n",
      "11/11 [==============================] - 4s 371ms/step - loss: 3872.5620\n",
      "Mu: [-2.637625, -0.35503197, -3.204227] Beta: [0.045238383, -0.005520749, 0.5550248, 0.4, -0.3, 0.7, -0.0, 0.0, 0.64394534] Init Prob: [<tf.Tensor: shape=(), dtype=float32, numpy=0.9518969>] Click Prob: [<tf.Tensor: shape=(), dtype=float32, numpy=0.71282357>]\n",
      "Epoch 92/100\n",
      "11/11 [==============================] - 4s 361ms/step - loss: 3855.9670\n",
      "Mu: [-2.6426606, -0.3511058, -3.1961684] Beta: [0.041959703, -0.006921024, 0.55358845, 0.4, -0.3, 0.7, -0.0, 0.0, 0.63901585] Init Prob: [<tf.Tensor: shape=(), dtype=float32, numpy=0.95222294>] Click Prob: [<tf.Tensor: shape=(), dtype=float32, numpy=0.7110922>]\n",
      "Epoch 93/100\n",
      "11/11 [==============================] - 4s 370ms/step - loss: 3846.2234\n",
      "Mu: [-2.6476488, -0.34735462, -3.1877813] Beta: [0.03873395, -0.008641683, 0.5527035, 0.4, -0.3, 0.7, -0.0, 0.0, 0.63547295] Init Prob: [<tf.Tensor: shape=(), dtype=float32, numpy=0.95254576>] Click Prob: [<tf.Tensor: shape=(), dtype=float32, numpy=0.70936114>]\n",
      "Epoch 94/100\n",
      "11/11 [==============================] - 4s 372ms/step - loss: 3829.8879\n",
      "Mu: [-2.6526272, -0.34359506, -3.179481] Beta: [0.035538983, -0.010325947, 0.5513981, 0.4, -0.3, 0.7, -0.0, 0.0, 0.63233113] Init Prob: [<tf.Tensor: shape=(), dtype=float32, numpy=0.95286536>] Click Prob: [<tf.Tensor: shape=(), dtype=float32, numpy=0.707621>]\n",
      "Epoch 95/100\n",
      "11/11 [==============================] - 4s 373ms/step - loss: 3827.0493\n",
      "Mu: [-2.6575675, -0.33989227, -3.1714313] Beta: [0.032397352, -0.01224987, 0.5494627, 0.4, -0.3, 0.7, -0.0, 0.0, 0.6272298] Init Prob: [<tf.Tensor: shape=(), dtype=float32, numpy=0.953182>] Click Prob: [<tf.Tensor: shape=(), dtype=float32, numpy=0.7058803>]\n",
      "Epoch 96/100\n",
      "11/11 [==============================] - 4s 353ms/step - loss: 3811.9614\n",
      "Mu: [-2.6625047, -0.33616596, -3.1631036] Beta: [0.029260423, -0.014063203, 0.54873574, 0.4, -0.3, 0.7, -0.0, 0.0, 0.6243808] Init Prob: [<tf.Tensor: shape=(), dtype=float32, numpy=0.9534954>] Click Prob: [<tf.Tensor: shape=(), dtype=float32, numpy=0.7041336>]\n",
      "Epoch 97/100\n",
      "11/11 [==============================] - 4s 350ms/step - loss: 3801.3005\n",
      "Mu: [-2.6674, -0.3326955, -3.1547477] Beta: [0.026200868, -0.016447255, 0.5473107, 0.4, -0.3, 0.7, -0.0, 0.0, 0.6206466] Init Prob: [<tf.Tensor: shape=(), dtype=float32, numpy=0.9538057>] Click Prob: [<tf.Tensor: shape=(), dtype=float32, numpy=0.70238>]\n",
      "Epoch 98/100\n",
      "11/11 [==============================] - 4s 351ms/step - loss: 3790.1792\n",
      "Mu: [-2.6722732, -0.32918957, -3.1464617] Beta: [0.023148565, -0.01872795, 0.545859, 0.4, -0.3, 0.7, -0.0, 0.0, 0.6172053] Init Prob: [<tf.Tensor: shape=(), dtype=float32, numpy=0.954113>] Click Prob: [<tf.Tensor: shape=(), dtype=float32, numpy=0.7006246>]\n",
      "Epoch 99/100\n",
      "11/11 [==============================] - 4s 364ms/step - loss: 3777.2644\n",
      "Mu: [-2.6771154, -0.32577476, -3.1383343] Beta: [0.020160623, -0.021275943, 0.544082, 0.4, -0.3, 0.7, -0.0, 0.0, 0.61291707] Init Prob: [<tf.Tensor: shape=(), dtype=float32, numpy=0.9544174>] Click Prob: [<tf.Tensor: shape=(), dtype=float32, numpy=0.698868>]\n",
      "Epoch 100/100\n",
      "11/11 [==============================] - 4s 357ms/step - loss: 3770.5869\n"
     ]
    }
   ],
   "source": [
    "MU = [ -2.7419195, -1.1010361, -5.92728  ]\n",
    "inverse_sigmoid = lambda x: np.log(x/(1-x))\n",
    "# Now try to fit the model sampled from the real parameters.\n",
    "initializer={\n",
    "    'BETA': tf.keras.initializers.Constant([ 0.6, -0.3, 0.2, 0.4, -0.3, 0.7, 0.2, -0.3, 1.]),\n",
    "    'INIT_PROB': tf.keras.initializers.Constant(inverse_sigmoid(0.9)), #\n",
    "    'CLICK_PROB': tf.keras.initializers.Constant(inverse_sigmoid(0.85))},\n",
    "model = build_hmm_to_fit_beta(cm, mu=MU, initializer=initializer )\n",
    "\n",
    "compiler = CompilerInfoBeta(cm, False)\n",
    "model.compile(\n",
    "    loss = compiler.loss,\n",
    "    optimizer = compiler.optimizer,\n",
    "    run_eagerly = True\n",
    ")\n",
    "BETA = [0.7, -0.3, 0.15, 0.4, -0.4, 0.8]\n",
    "history = fit_model(cm, model, adstock, output)\n",
    "#save_result(model, adstock, output, initializer)\n",
    "#"
   ],
   "metadata": {
    "collapsed": false,
    "pycharm": {
     "name": "#%%\n"
    }
   }
  },
  {
   "cell_type": "code",
   "execution_count": 22,
   "outputs": [
    {
     "data": {
      "text/plain": "[<matplotlib.lines.Line2D at 0x7f878f727250>]"
     },
     "execution_count": 22,
     "metadata": {},
     "output_type": "execute_result"
    },
    {
     "data": {
      "text/plain": "<Figure size 432x288 with 1 Axes>",
      "image/png": "[encoded data removed]"
     },
     "metadata": {
      "needs_background": "light"
     },
     "output_type": "display_data"
    }
   ],
   "source": [
    "plt.plot(model.history.epoch, model.history.history['loss'])"
   ],
   "metadata": {
    "collapsed": false,
    "pycharm": {
     "name": "#%%\n"
    }
   }
  },
  {
   "cell_type": "code",
   "execution_count": 24,
   "outputs": [
    {
     "name": "stdout",
     "output_type": "stream",
     "text": [
      "Mu: [-2.6819289, -0.32243776, -3.130069] Beta: [0.017221672, -0.024005938, 0.5423065, 0.4, -0.3, 0.7, -0.0, 0.0, 0.6091145] Init Prob: [<tf.Tensor: shape=(), dtype=float32, numpy=0.9547188>] Click Prob: [<tf.Tensor: shape=(), dtype=float32, numpy=0.6971052>]\n",
      "Epoch 1/100\n",
      "11/11 [==============================] - 4s 384ms/step - loss: 3757.1560\n",
      "Mu: [-2.6867461, -0.31910777, -3.1221652] Beta: [0.014267718, -0.026792388, 0.54013926, 0.4, -0.3, 0.7, -0.0, 0.0, 0.604837] Init Prob: [<tf.Tensor: shape=(), dtype=float32, numpy=0.9550173>] Click Prob: [<tf.Tensor: shape=(), dtype=float32, numpy=0.69533205>]\n",
      "Epoch 2/100\n",
      "11/11 [==============================] - 4s 371ms/step - loss: 3747.1226\n",
      "Mu: [-2.6915205, -0.31585988, -3.1139874] Beta: [0.011379179, -0.029706761, 0.5380958, 0.4, -0.3, 0.7, -0.0, 0.0, 0.6009716] Init Prob: [<tf.Tensor: shape=(), dtype=float32, numpy=0.95531297>] Click Prob: [<tf.Tensor: shape=(), dtype=float32, numpy=0.69356203>]\n",
      "Epoch 3/100\n",
      "11/11 [==============================] - 4s 387ms/step - loss: 3737.9775\n",
      "Mu: [-2.6962743, -0.3127147, -3.105748] Beta: [0.0085263755, -0.032853942, 0.53603554, 0.4, -0.3, 0.7, -0.0, 0.0, 0.5975912] Init Prob: [<tf.Tensor: shape=(), dtype=float32, numpy=0.95560575>] Click Prob: [<tf.Tensor: shape=(), dtype=float32, numpy=0.69178575>]\n",
      "Epoch 4/100\n",
      "11/11 [==============================] - 4s 371ms/step - loss: 3726.7161\n",
      "Mu: [-2.7009938, -0.3096525, -3.097541] Beta: [0.005735711, -0.03617478, 0.533751, 0.4, -0.3, 0.7, -0.0, 0.0, 0.59355515] Init Prob: [<tf.Tensor: shape=(), dtype=float32, numpy=0.9558958>] Click Prob: [<tf.Tensor: shape=(), dtype=float32, numpy=0.6900059>]\n",
      "Epoch 5/100\n",
      "11/11 [==============================] - 4s 371ms/step - loss: 3720.7363\n",
      "Mu: [-2.7057097, -0.30663297, -3.0895507] Beta: [0.002935708, -0.03961281, 0.53115696, 0.4, -0.3, 0.7, -0.0, 0.0, 0.5895138] Init Prob: [<tf.Tensor: shape=(), dtype=float32, numpy=0.9561831>] Click Prob: [<tf.Tensor: shape=(), dtype=float32, numpy=0.6882187>]\n",
      "Epoch 6/100\n",
      "11/11 [==============================] - 4s 372ms/step - loss: 3713.6282\n",
      "Mu: [-2.710415, -0.30358532, -3.0813766] Beta: [0.00016691713, -0.043054413, 0.5292248, 0.4, -0.3, 0.7, -0.0, 0.0, 0.58627725] Init Prob: [<tf.Tensor: shape=(), dtype=float32, numpy=0.95646775>] Click Prob: [<tf.Tensor: shape=(), dtype=float32, numpy=0.68642426>]\n",
      "Epoch 7/100\n",
      "11/11 [==============================] - 4s 372ms/step - loss: 3700.5815\n",
      "Mu: [-2.7150772, -0.30070728, -3.0729494] Beta: [-0.0, -0.046794392, 0.5279627, 0.4, -0.3, 0.7, -0.0, 0.0, 0.58321744] Init Prob: [<tf.Tensor: shape=(), dtype=float32, numpy=0.95674956>] Click Prob: [<tf.Tensor: shape=(), dtype=float32, numpy=0.6846334>]\n",
      "Epoch 8/100\n",
      "11/11 [==============================] - 4s 372ms/step - loss: 3695.4727\n",
      "Mu: [-2.7197223, -0.29776168, -3.0652306] Beta: [-0.0, -0.050425176, 0.5239505, 0.4, -0.3, 0.7, -0.0, 0.0, 0.57796556] Init Prob: [<tf.Tensor: shape=(), dtype=float32, numpy=0.95702887>] Click Prob: [<tf.Tensor: shape=(), dtype=float32, numpy=0.6828286>]\n",
      "Epoch 9/100\n",
      "11/11 [==============================] - 4s 375ms/step - loss: 3686.9749\n",
      "Mu: [-2.724383, -0.29484335, -3.057231] Beta: [-0.0, -0.05422056, 0.5211416, 0.4, -0.3, 0.7, -0.0, 0.0, 0.5745828] Init Prob: [<tf.Tensor: shape=(), dtype=float32, numpy=0.95730543>] Click Prob: [<tf.Tensor: shape=(), dtype=float32, numpy=0.6810241>]\n",
      "Epoch 10/100\n",
      " 4/11 [=========>....................] - ETA: 3s - loss: 3714.2461"
     ]
    },
    {
     "name": "stderr",
     "output_type": "stream",
     "text": [
      "\n",
      "KeyboardInterrupt\n",
      "\n"
     ]
    }
   ],
   "source": [
    "fit_model(cm, model, adstock, output)"
   ],
   "metadata": {
    "collapsed": false,
    "pycharm": {
     "name": "#%%\n"
    }
   }
  },
  {
   "cell_type": "code",
   "execution_count": 15,
   "outputs": [],
   "source": [],
   "metadata": {
    "collapsed": false,
    "pycharm": {
     "name": "#%%\n"
    }
   }
  },
  {
   "cell_type": "code",
   "execution_count": 17,
   "outputs": [],
   "source": [],
   "metadata": {
    "collapsed": false,
    "pycharm": {
     "name": "#%%\n"
    }
   }
  },
  {
   "cell_type": "code",
   "execution_count": 20,
   "outputs": [
    {
     "ename": "AttributeError",
     "evalue": "'dict' object has no attribute 'N_users'",
     "output_type": "error",
     "traceback": [
      "\u001B[0;31m---------------------------------------------------------------------------\u001B[0m",
      "\u001B[0;31mAttributeError\u001B[0m                            Traceback (most recent call last)",
      "Input \u001B[0;32mIn [20]\u001B[0m, in \u001B[0;36m<module>\u001B[0;34m\u001B[0m\n\u001B[0;32m----> 1\u001B[0m \u001B[43mcm\u001B[49m\u001B[38;5;241;43m.\u001B[39;49m\u001B[43mN_users\u001B[49m\n",
      "\u001B[0;31mAttributeError\u001B[0m: 'dict' object has no attribute 'N_users'"
     ]
    }
   ],
   "source": [],
   "metadata": {
    "collapsed": false,
    "pycharm": {
     "name": "#%%\n"
    }
   }
  },
  {
   "cell_type": "code",
   "execution_count": null,
   "outputs": [],
   "source": [],
   "metadata": {
    "collapsed": false,
    "pycharm": {
     "name": "#%%\n"
    }
   }
  }
 ],
 "metadata": {
  "kernelspec": {
   "display_name": "Python 3",
   "language": "python",
   "name": "python3"
  },
  "language_info": {
   "codemirror_mode": {
    "name": "ipython",
    "version": 2
   },
   "file_extension": ".py",
   "mimetype": "text/x-python",
   "name": "python",
   "nbconvert_exporter": "python",
   "pygments_lexer": "ipython2",
   "version": "2.7.6"
  }
 },
 "nbformat": 4,
 "nbformat_minor": 0
}