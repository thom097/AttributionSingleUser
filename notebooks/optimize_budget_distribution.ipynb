{
 "cells": [
  {
   "cell_type": "code",
   "execution_count": 1,
   "metadata": {
    "collapsed": true
   },
   "outputs": [],
   "source": [
    "import src.optimization_package.optimizer\n",
    "from src.optimization_package.optimizer import OptimizerPGPE\n",
    "import config.CONSTANTS_HMM\n",
    "from config.CONSTANTS_HMM import N_camp\n",
    "import importlib\n",
    "import numpy as np\n",
    "from joblib import delayed, Parallel"
   ]
  },
  {
   "cell_type": "code",
   "execution_count": 2,
   "outputs": [],
   "source": [
    "importlib.reload(src.optimization_package.optimizer)\n",
    "from src.optimization_package.optimizer import OptimizerPGPE\n",
    "importlib.reload(config.CONSTANTS_HMM)\n",
    "from config.CONSTANTS_HMM import N_camp"
   ],
   "metadata": {
    "collapsed": false,
    "pycharm": {
     "name": "#%%\n"
    }
   }
  },
  {
   "cell_type": "code",
   "execution_count": 3,
   "outputs": [],
   "source": [
    "uniform_initialization = {\n",
    "    'tot_impressions': 5000,\n",
    "    'num_campaigns': N_camp\n",
    "}\n",
    "\n",
    "policy = OptimizerPGPE(num_sample=64, hmm_trials=20, N_users_to_simulate=5000, uniform_initialization=uniform_initialization)"
   ],
   "metadata": {
    "collapsed": false,
    "pycharm": {
     "name": "#%%\n"
    }
   }
  },
  {
   "cell_type": "code",
   "execution_count": 4,
   "outputs": [
    {
     "name": "stderr",
     "output_type": "stream",
     "text": [
      "2022-06-12 18:44:24.856966: I tensorflow/core/platform/cpu_feature_guard.cc:151] This TensorFlow binary is optimized with oneAPI Deep Neural Network Library (oneDNN) to use the following CPU instructions in performance-critical operations:  AVX2 FMA\n",
      "To enable them in other operations, rebuild TensorFlow with the appropriate compiler flags.\n",
      "2022-06-12 18:44:24.868412: I tensorflow/core/platform/cpu_feature_guard.cc:151] This TensorFlow binary is optimized with oneAPI Deep Neural Network Library (oneDNN) to use the following CPU instructions in performance-critical operations:  AVX2 FMA\n",
      "To enable them in other operations, rebuild TensorFlow with the appropriate compiler flags.\n",
      "2022-06-12 18:44:24.965000: I tensorflow/core/platform/cpu_feature_guard.cc:151] This TensorFlow binary is optimized with oneAPI Deep Neural Network Library (oneDNN) to use the following CPU instructions in performance-critical operations:  AVX2 FMA\n",
      "To enable them in other operations, rebuild TensorFlow with the appropriate compiler flags.\n",
      "2022-06-12 18:44:24.981166: I tensorflow/core/platform/cpu_feature_guard.cc:151] This TensorFlow binary is optimized with oneAPI Deep Neural Network Library (oneDNN) to use the following CPU instructions in performance-critical operations:  AVX2 FMA\n",
      "To enable them in other operations, rebuild TensorFlow with the appropriate compiler flags.\n"
     ]
    },
    {
     "name": "stdout",
     "output_type": "stream",
     "text": [
      "[0.05157, 0.09997, 0.43666, 0.09437, 0.09661, 0.09546, 0.04683, 0.1241, 0.66821, 0.084, 0.80392, 0.10664, 0.79013, 0.58645, 0.57183, 0.12935, 0.12615, 0.70333, 0.16523, 0.03369, 0.08485, 0.49312, 0.38817, 0.25942, 0.25181, 0.20929, 0.43561, 0.14213, 0.80898, 0.66013, 0.097, 0.34444, 0.47776, 0.57498, 0.34928, 0.0407, 0.79238, 0.49308, 0.79423, 0.43652, 0.8115, 0.1042, 0.37769, 0.10087, 0.09427, 0.16967, 0.80425, 0.34327, 0.28724, 0.34159, 0.12507, 0.14965, 0.05055, 0.06033, 0.72675, 0.26264, 0.06025, 0.13673, 0.42686, 0.09675, 0.03016, 0.48118, 0.09183, 0.49604]\n"
     ]
    },
    {
     "name": "stderr",
     "output_type": "stream",
     "text": [
      "2022-06-12 18:46:50.914638: I tensorflow/core/platform/cpu_feature_guard.cc:151] This TensorFlow binary is optimized with oneAPI Deep Neural Network Library (oneDNN) to use the following CPU instructions in performance-critical operations:  AVX2 FMA\n",
      "To enable them in other operations, rebuild TensorFlow with the appropriate compiler flags.\n"
     ]
    },
    {
     "name": "stdout",
     "output_type": "stream",
     "text": [
      "Budget distribution:  [0.25 0.25 0.25 0.25] Return:  0.36467 Variance:  [2.4 2.4 2.4 2.4]\n",
      "[0.35841, 0.35023, 0.38472, 0.79093, 0.23692, 0.20211, 0.15735, 0.6769, 0.28125, 0.05563, 0.52767, 0.21547, 0.293, 0.76364, 0.20908, 0.50438, 0.6358, 0.43549, 0.78851, 0.22745, 0.18164, 0.2882, 0.0862, 0.6221, 0.56341, 0.11678, 0.21167, 0.56536, 0.15933, 0.71274, 0.64033, 0.16059, 0.23842, 0.21566, 0.18051, 0.39348, 0.24707, 0.55523, 0.19063, 0.17429, 0.77564, 0.67966, 0.79605, 0.77455, 0.1077, 0.14204, 0.31443, 0.16, 0.68596, 0.26846, 0.76841, 0.63489, 0.73333, 0.18567, 0.26262, 0.66418, 0.39006, 0.04921, 0.18846, 0.34251, 0.60928, 0.29454, 0.18311, 0.59068]\n",
      "Budget distribution:  [0.22924204 0.2597255  0.28136037 0.22967208] Return:  0.40435 Variance:  [2.06429304 1.66450769 1.44165431 2.05778805]\n",
      "[0.55705, 0.63262, 0.66626, 0.25365, 0.52911, 0.65763, 0.27141, 0.36945, 0.56627, 0.585, 0.43025, 0.55154, 0.34394, 0.3475, 0.25451, 0.45275, 0.61887, 0.49365, 0.1509, 0.63973, 0.54134, 0.39046, 0.66371, 0.66333, 0.3255, 0.63041, 0.53194, 0.19466, 0.4563, 0.36734, 0.34432, 0.5538, 0.28845, 0.40122, 0.56817, 0.46451, 0.78805, 0.65083, 0.6137, 0.40199, 0.63541, 0.69824, 0.48728, 0.71598, 0.58432, 0.79144, 0.49826, 0.41307, 0.74662, 0.56786, 0.56522, 0.54287, 0.4081, 0.31879, 0.53265, 0.35534, 0.64955, 0.22089, 0.59255, 0.50329, 0.54434, 0.50454, 0.44166, 0.23564]\n",
      "Budget distribution:  [0.2050281  0.24863417 0.35534006 0.19099768] Return:  0.48894 Variance:  [1.5581327  1.07733179 0.50680024 1.77475518]\n",
      "[0.63824, 0.63279, 0.65633, 0.67658, 0.67614, 0.63993, 0.64567, 0.76287, 0.75705, 0.46249, 0.71199, 0.69501, 0.72848, 0.58975, 0.55503, 0.6607, 0.62834, 0.61509, 0.57705, 0.63595, 0.69386, 0.66056, 0.58288, 0.50865, 0.59174, 0.62717, 0.64395, 0.61689, 0.6176, 0.66909, 0.69369, 0.65396, 0.76912, 0.76048, 0.68395, 0.5796, 0.45394, 0.60799, 0.73587, 0.45087, 0.69794, 0.59038, 0.625, 0.51976, 0.57718, 0.66645, 0.6234, 0.64035, 0.62053, 0.69471, 0.6935, 0.56312, 0.59049, 0.49029, 0.46178, 0.65698, 0.60374, 0.61013, 0.58422, 0.61646, 0.61146, 0.73307, 0.56982, 0.61557]\n",
      "Budget distribution:  [0.13545138 0.208669   0.53340253 0.12247709] Return:  0.6519 Variance:  [1.58891433 0.67145194 0.06791079 1.92186268]\n",
      "[0.66373, 0.6635, 0.62727, 0.76152, 0.69979, 0.68927, 0.72397, 0.69132, 0.75685, 0.67793, 0.71216, 0.64186, 0.78172, 0.65213, 0.7692, 0.75019, 0.67621, 0.53134, 0.73374, 0.75811, 0.66343, 0.64868, 0.76145, 0.62699, 0.66791, 0.69098, 0.71361, 0.71432, 0.75679, 0.76986, 0.73067, 0.74304, 0.61929, 0.75977, 0.70184, 0.66508, 0.71839, 0.71287, 0.61505, 0.73302, 0.6442, 0.68108, 0.63023, 0.66933, 0.70779, 0.74991, 0.73659, 0.59455, 0.6515, 0.67856, 0.64928, 0.71442, 0.68666, 0.72078, 0.69151, 0.62999, 0.6745, 0.59224, 0.73939, 0.68799, 0.66464, 0.72818, 0.73457, 0.68524]\n",
      "Budget distribution:  [0.14037438 0.1947596  0.57850455 0.08636147] Return:  0.69708 Variance:  [0.66688095 0.33469874 0.02098341 1.75320816]\n",
      "[0.78878, 0.80358, 0.78631, 0.78356, 0.78911, 0.78383, 0.79181, 0.79455, 0.76934, 0.7991, 0.7992, 0.77131, 0.78242, 0.79493, 0.8014, 0.79337, 0.78834, 0.79181, 0.79038, 0.80201, 0.78268, 0.79934, 0.79081, 0.77976, 0.78639, 0.77183, 0.79333, 0.80566, 0.79101, 0.77814, 0.78287, 0.79703, 0.78461, 0.78314, 0.78318, 0.78576, 0.77915, 0.78599, 0.79198, 0.79179, 0.80709, 0.80363, 0.80005, 0.7926, 0.79632, 0.78841, 0.79414, 0.80349, 0.77125, 0.77844, 0.78094, 0.7862, 0.7902, 0.78925, 0.79553, 0.78535, 0.80436, 0.7832, 0.79782, 0.79317, 0.79769, 0.79055, 0.78477, 0.78469]\n",
      "Budget distribution:  [0.07463147 0.12153615 0.76911049 0.03472189] Return:  0.78946 Variance:  [8.29039106e-01 3.04628822e-01 2.07288937e-03 3.71017193e+00]\n"
     ]
    },
    {
     "name": "stderr",
     "output_type": "stream",
     "text": [
      "Exception in thread ExecutorManagerThread:\n",
      "Traceback (most recent call last):\n",
      "  File \"/Library/Frameworks/Python.framework/Versions/3.8/lib/python3.8/threading.py\", line 932, in _bootstrap_inner\n",
      "    self.run()\n",
      "  File \"/Users/Thom/Library/Caches/JetBrains/PyCharm2021.3/demo/PyCharmLearningProject/venv/lib/python3.8/site-packages/joblib/externals/loky/process_executor.py\", line 575, in run\n",
      "    self.flag_executor_shutting_down()\n",
      "  File \"/Users/Thom/Library/Caches/JetBrains/PyCharm2021.3/demo/PyCharmLearningProject/venv/lib/python3.8/site-packages/joblib/externals/loky/process_executor.py\", line 770, in flag_executor_shutting_down\n",
      "    self.kill_workers(reason=\"executor shutting down\")\n",
      "  File \"/Users/Thom/Library/Caches/JetBrains/PyCharm2021.3/demo/PyCharmLearningProject/venv/lib/python3.8/site-packages/joblib/externals/loky/process_executor.py\", line 781, in kill_workers\n",
      "    recursive_terminate(p)\n",
      "  File \"/Users/Thom/Library/Caches/JetBrains/PyCharm2021.3/demo/PyCharmLearningProject/venv/lib/python3.8/site-packages/joblib/externals/loky/backend/utils.py\", line 28, in recursive_terminate\n",
      "    _recursive_terminate_without_psutil(process)\n",
      "  File \"/Users/Thom/Library/Caches/JetBrains/PyCharm2021.3/demo/PyCharmLearningProject/venv/lib/python3.8/site-packages/joblib/externals/loky/backend/utils.py\", line 53, in _recursive_terminate_without_psutil\n",
      "    _recursive_terminate(process.pid)\n",
      "  File \"/Users/Thom/Library/Caches/JetBrains/PyCharm2021.3/demo/PyCharmLearningProject/venv/lib/python3.8/site-packages/joblib/externals/loky/backend/utils.py\", line 92, in _recursive_terminate\n",
      "    children_pids = subprocess.check_output(\n",
      "  File \"/Library/Frameworks/Python.framework/Versions/3.8/lib/python3.8/subprocess.py\", line 411, in check_output\n",
      "    return run(*popenargs, stdout=PIPE, timeout=timeout, check=True,\n",
      "  File \"/Library/Frameworks/Python.framework/Versions/3.8/lib/python3.8/subprocess.py\", line 512, in run\n",
      "    raise CalledProcessError(retcode, process.args,\n",
      "subprocess.CalledProcessError: Command '['pgrep', '-P', '61883']' died with <Signals.SIGINT: 2>.\n",
      "\n",
      "KeyboardInterrupt\n",
      "\n"
     ]
    }
   ],
   "source": [
    "budgets_list = []\n",
    "convs_list = np.array([])\n",
    "learning_rate = 1\n",
    "\n",
    "while True:\n",
    "    budgets = policy.get_theta()\n",
    "    returns = Parallel(n_jobs=4)(delayed(policy.act)(budget) for budget in budgets)\n",
    "\n",
    "    print(returns)\n",
    "\n",
    "    delta_params = np.array(policy.eval_gradient(budgets, returns, use_baseline=True))\n",
    "\n",
    "    print('Budget distribution: ', policy.get_budget_distribution(),         'Return: ', policy.act(policy.get_budget_distribution()),\n",
    "          'Variance: ', policy.variance)\n",
    "\n",
    "    params = policy.get_params()\n",
    "    policy.set_params(params + learning_rate*delta_params)\n",
    "\n",
    "    learning_rate = max(0.95*learning_rate, 1e-3)\n",
    "    #convs_list *= 0.99\n",
    "\n",
    "    if max(policy.variance) < 1e-4:\n",
    "        break"
   ],
   "metadata": {
    "collapsed": false,
    "pycharm": {
     "name": "#%%\n"
    }
   }
  },
  {
   "cell_type": "code",
   "execution_count": null,
   "outputs": [],
   "source": [
    "np.mean([0.45989, 0.466, 0.48327, 0.46501, 0.4779, 0.46358, 0.47808, 0.48013, 0.48484, 0.45388, 0.4657, 0.47299, 0.45442, 0.4719, 0.47902, 0.4875, 0.47216, 0.47563, 0.48212, 0.47095, 0.46474, 0.45953, 0.48298, 0.48572, 0.46531, 0.49117, 0.46822, 0.47105, 0.48765, 0.46717, 0.4613, 0.47137, 0.4725, 0.48674, 0.48742, 0.48113, 0.46859, 0.49692, 0.46038, 0.49049, 0.4961, 0.46852, 0.48149, 0.47633, 0.48159, 0.46804, 0.48147, 0.47345, 0.47052, 0.48261, 0.45707, 0.47309, 0.47618, 0.4826, 0.47049, 0.46822, 0.47146, 0.46319, 0.47802, 0.47406, 0.47052, 0.48033, 0.46026, 0.46729])"
   ],
   "metadata": {
    "collapsed": false,
    "pycharm": {
     "name": "#%%\n"
    }
   }
  },
  {
   "cell_type": "code",
   "execution_count": null,
   "outputs": [],
   "source": [],
   "metadata": {
    "collapsed": false,
    "pycharm": {
     "name": "#%%\n"
    }
   }
  }
 ],
 "metadata": {
  "kernelspec": {
   "display_name": "Python 3",
   "language": "python",
   "name": "python3"
  },
  "language_info": {
   "codemirror_mode": {
    "name": "ipython",
    "version": 2
   },
   "file_extension": ".py",
   "mimetype": "text/x-python",
   "name": "python",
   "nbconvert_exporter": "python",
   "pygments_lexer": "ipython2",
   "version": "2.7.6"
  }
 },
 "nbformat": 4,
 "nbformat_minor": 0
}