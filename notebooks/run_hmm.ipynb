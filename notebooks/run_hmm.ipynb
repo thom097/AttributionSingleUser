{
 "cells": [
  {
   "cell_type": "markdown",
   "source": [
    "# HMM to estimate Funnel position"
   ],
   "metadata": {
    "collapsed": false,
    "pycharm": {
     "name": "#%% md\n"
    }
   }
  },
  {
   "cell_type": "markdown",
   "source": [
    "## Import libraries and constants"
   ],
   "metadata": {
    "collapsed": false,
    "pycharm": {
     "name": "#%% md\n"
    }
   }
  },
  {
   "cell_type": "code",
   "execution_count": 1,
   "outputs": [],
   "source": [
    "import matplotlib.pyplot as plt\n",
    "\n",
    "import config.CONSTANTS_HMM as consts\n",
    "\n",
    "# Project libraries\n",
    "import src.hmm_package.generate_hmm\n",
    "from src.hmm_package.generate_hmm import *\n",
    "from src.plot_and_print_info.plots_and_print_info import *\n",
    "\n",
    "# Built in libraries\n",
    "import numpy as np\n",
    "import importlib"
   ],
   "metadata": {
    "collapsed": false,
    "pycharm": {
     "name": "#%%\n"
    }
   }
  },
  {
   "cell_type": "code",
   "execution_count": 9,
   "outputs": [],
   "source": [
    "importlib.reload(src.hmm_package.generate_hmm)\n",
    "from src.hmm_package.generate_hmm import *\n",
    "importlib.reload(consts)\n",
    "from config.CONSTANTS_HMM import *"
   ],
   "metadata": {
    "collapsed": false,
    "pycharm": {
     "name": "#%%\n"
    }
   }
  },
  {
   "cell_type": "code",
   "execution_count": 3,
   "outputs": [],
   "source": [
    "# Store constants\n",
    "cm = {}\n",
    "for k, v in consts.__dict__.items():\n",
    "    if not k.startswith('__'):\n",
    "        cm[k] = v"
   ],
   "metadata": {
    "collapsed": false,
    "pycharm": {
     "name": "#%%\n"
    }
   }
  },
  {
   "cell_type": "markdown",
   "source": [
    "## Compute Observation and Adstock"
   ],
   "metadata": {
    "collapsed": false,
    "pycharm": {
     "name": "#%% md\n"
    }
   }
  },
  {
   "cell_type": "markdown",
   "source": [
    "To study the behaviour of the Hidden Markov Model, we generate a random exposition of the users to some campaigns. The parameters for the simulation are in config/CONSTANTS_HMM.py"
   ],
   "metadata": {
    "collapsed": false,
    "pycharm": {
     "name": "#%% md\n"
    }
   }
  },
  {
   "cell_type": "code",
   "execution_count": 4,
   "outputs": [
    {
     "name": "stderr",
     "output_type": "stream",
     "text": [
      "2022-06-18 10:46:39.596087: I tensorflow/core/platform/cpu_feature_guard.cc:151] This TensorFlow binary is optimized with oneAPI Deep Neural Network Library (oneDNN) to use the following CPU instructions in performance-critical operations:  AVX2 FMA\n",
      "To enable them in other operations, rebuild TensorFlow with the appropriate compiler flags.\n"
     ]
    }
   ],
   "source": [
    "# Generate Test observation\n",
    "observation = simulate_observations(cm)\n",
    "\n",
    "# Compute Adstock\n",
    "adstock = compute_adstock(cm, observation=observation)"
   ],
   "metadata": {
    "collapsed": false,
    "pycharm": {
     "name": "#%%\n"
    }
   }
  },
  {
   "cell_type": "markdown",
   "source": [
    "## Real HMM to Estimate"
   ],
   "metadata": {
    "collapsed": false,
    "pycharm": {
     "name": "#%% md\n"
    }
   }
  },
  {
   "cell_type": "code",
   "execution_count": 5,
   "outputs": [],
   "source": [
    "# Generate the distributions to build the Real HMM.\n",
    "# The parameter MU, describing the behaviour of a user unexposed, has been fitted in a separate notebook and is considered known.\n",
    "#NB The variable STATES_ARE_OBSERVABLE is set in config/execution_parameters.\n",
    "hmm_distributions = generate_hmm_distributions(cm, initial_state_prob_vector= INITIAL_STATE_PROB,\n",
    "                                               click_prob=tf.constant(CLICK_PROB),\n",
    "                                               adstock=adstock)\n",
    "\n",
    "# Create Real HMM to fit\n",
    "real_hmm = tfd.HiddenMarkovModel(\n",
    "    initial_distribution=hmm_distributions['initial_distribution'],\n",
    "    transition_distribution=hmm_distributions['transition_distribution'],\n",
    "    observation_distribution=hmm_distributions['observation_distribution'],\n",
    "    time_varying_transition_distribution=True,\n",
    "    num_steps=time+1\n",
    ")\n",
    "\n",
    "# Sample emissions\n",
    "emission_real = real_hmm.sample().numpy()"
   ],
   "metadata": {
    "collapsed": false,
    "pycharm": {
     "name": "#%%\n"
    }
   }
  },
  {
   "cell_type": "code",
   "execution_count": 6,
   "outputs": [
    {
     "data": {
      "text/plain": "array([[0, 0, 0, ..., 1, 0, 1],\n       [0, 0, 0, ..., 0, 2, 2],\n       [0, 0, 0, ..., 0, 0, 1],\n       ...,\n       [0, 0, 0, ..., 0, 0, 1],\n       [0, 0, 0, ..., 0, 0, 0],\n       [0, 0, 0, ..., 0, 0, 0]], dtype=int32)"
     },
     "execution_count": 6,
     "metadata": {},
     "output_type": "execute_result"
    }
   ],
   "source": [
    "emission_real"
   ],
   "metadata": {
    "collapsed": false,
    "pycharm": {
     "name": "#%%\n"
    }
   }
  },
  {
   "cell_type": "markdown",
   "source": [
    "### Visualize the Real HMM"
   ],
   "metadata": {
    "collapsed": false,
    "pycharm": {
     "name": "#%% md\n"
    }
   }
  },
  {
   "cell_type": "code",
   "execution_count": 7,
   "outputs": [
    {
     "name": "stdout",
     "output_type": "stream",
     "text": [
      "Percentage of conversion is: 0.1754%.\n"
     ]
    },
    {
     "data": {
      "text/plain": "<Figure size 2160x72 with 1 Axes>",
      "image/png": "[encoded data removed]"
     },
     "metadata": {
      "needs_background": "light"
     },
     "output_type": "display_data"
    }
   ],
   "source": [
    "# Count conversions from sampled data\n",
    "# We aim to see a conversion rate around 20/25%.\n",
    "\n",
    "tot_conversions = count_conversions(emission_real)\n",
    "plot_sample_emissions(real_hmm)"
   ],
   "metadata": {
    "collapsed": false,
    "pycharm": {
     "name": "#%%\n"
    }
   }
  },
  {
   "cell_type": "markdown",
   "source": [
    "## Fit model with real parameter for Sanity Check"
   ],
   "metadata": {
    "collapsed": false,
    "pycharm": {
     "name": "#%% md\n"
    }
   }
  },
  {
   "cell_type": "code",
   "execution_count": 10,
   "outputs": [
    {
     "name": "stdout",
     "output_type": "stream",
     "text": [
      "Mu: [-2.0, -1.0, -4.0] Beta: [0.75, -0.6, 0.1, 0.3, -0.4, 0.5, 0.1, -0.5, 0.9, 0.0, -0.1, 0.1] Init Prob: [<tf.Tensor: shape=(), dtype=float32, numpy=0.7109495>] Click Prob: [<tf.Tensor: shape=(), dtype=float32, numpy=0.557822>]\n",
      "Epoch 1/200\n"
     ]
    },
    {
     "name": "stderr",
     "output_type": "stream",
     "text": [
      "2022-06-18 10:48:15.252578: W tensorflow/python/util/util.cc:368] Sets are not currently considered sequences, but this may change in the future, so consider avoiding using them.\n"
     ]
    },
    {
     "ename": "ValueError",
     "evalue": "Cannot assign value to variable ' transition_prob_layer_beta_1/Beta:0': Shape mismatch.The variable shape (12,), and the assigned value shape (9,) are incompatible.",
     "output_type": "error",
     "traceback": [
      "\u001B[0;31m---------------------------------------------------------------------------\u001B[0m",
      "\u001B[0;31mValueError\u001B[0m                                Traceback (most recent call last)",
      "Input \u001B[0;32mIn [10]\u001B[0m, in \u001B[0;36m<module>\u001B[0;34m\u001B[0m\n\u001B[1;32m     10\u001B[0m model_test\u001B[38;5;241m.\u001B[39mcompile(\n\u001B[1;32m     11\u001B[0m     loss \u001B[38;5;241m=\u001B[39m compiler\u001B[38;5;241m.\u001B[39mloss,\n\u001B[1;32m     12\u001B[0m     optimizer \u001B[38;5;241m=\u001B[39m compiler\u001B[38;5;241m.\u001B[39moptimizer,\n\u001B[1;32m     13\u001B[0m     run_eagerly \u001B[38;5;241m=\u001B[39m \u001B[38;5;28;01mTrue\u001B[39;00m\n\u001B[1;32m     14\u001B[0m )\n\u001B[1;32m     15\u001B[0m BETA \u001B[38;5;241m=\u001B[39m [\u001B[38;5;241m0.7\u001B[39m, \u001B[38;5;241m-\u001B[39m\u001B[38;5;241m0.3\u001B[39m, \u001B[38;5;241m0.15\u001B[39m, \u001B[38;5;241m0.4\u001B[39m, \u001B[38;5;241m-\u001B[39m\u001B[38;5;241m0.4\u001B[39m, \u001B[38;5;241m0.8\u001B[39m]\n\u001B[0;32m---> 16\u001B[0m history \u001B[38;5;241m=\u001B[39m \u001B[43mfit_model\u001B[49m\u001B[43m(\u001B[49m\u001B[43mcm\u001B[49m\u001B[43m,\u001B[49m\u001B[43m \u001B[49m\u001B[43mmodel_test\u001B[49m\u001B[43m,\u001B[49m\u001B[43m \u001B[49m\u001B[43madstock\u001B[49m\u001B[43m,\u001B[49m\u001B[43m \u001B[49m\u001B[43memission_real\u001B[49m\u001B[43m)\u001B[49m\n",
      "File \u001B[0;32m~/PycharmProjects/AttributionSingleUser/src/hmm_package/generate_hmm.py:401\u001B[0m, in \u001B[0;36mfit_model\u001B[0;34m(cm, model, adstock, emission_real)\u001B[0m\n\u001B[1;32m    396\u001B[0m \u001B[38;5;28;01mdef\u001B[39;00m \u001B[38;5;21mfit_model\u001B[39m(cm, model, adstock, emission_real):\n\u001B[1;32m    397\u001B[0m     print_weights \u001B[38;5;241m=\u001B[39m tf\u001B[38;5;241m.\u001B[39mkeras\u001B[38;5;241m.\u001B[39mcallbacks\u001B[38;5;241m.\u001B[39mLambdaCallback(on_epoch_begin\u001B[38;5;241m=\u001B[39m\u001B[38;5;28;01mlambda\u001B[39;00m batch, logs: \u001B[38;5;28mprint\u001B[39m(\u001B[38;5;124mf\u001B[39m\u001B[38;5;124m\"\u001B[39m\u001B[38;5;124mMu: \u001B[39m\u001B[38;5;132;01m{\u001B[39;00m\u001B[38;5;28mlist\u001B[39m(model\u001B[38;5;241m.\u001B[39mget_weights()[\u001B[38;5;241m0\u001B[39m])\u001B[38;5;132;01m}\u001B[39;00m\u001B[38;5;124m\"\u001B[39m\n\u001B[1;32m    398\u001B[0m                                                                                                \u001B[38;5;124mf\u001B[39m\u001B[38;5;124m\"\u001B[39m\u001B[38;5;124m Beta: \u001B[39m\u001B[38;5;132;01m{\u001B[39;00m\u001B[38;5;28mlist\u001B[39m(model\u001B[38;5;241m.\u001B[39mget_weights()[\u001B[38;5;241m1\u001B[39m])\u001B[38;5;132;01m}\u001B[39;00m\u001B[38;5;124m\"\u001B[39m\n\u001B[1;32m    399\u001B[0m                                                                                                \u001B[38;5;124mf\u001B[39m\u001B[38;5;124m\"\u001B[39m\u001B[38;5;124m Init Prob: \u001B[39m\u001B[38;5;132;01m{\u001B[39;00m\u001B[38;5;28mlist\u001B[39m(tf\u001B[38;5;241m.\u001B[39mkeras\u001B[38;5;241m.\u001B[39mactivations\u001B[38;5;241m.\u001B[39msigmoid(model\u001B[38;5;241m.\u001B[39mget_weights()[\u001B[38;5;241m2\u001B[39m]))\u001B[38;5;132;01m}\u001B[39;00m\u001B[38;5;124m\"\u001B[39m\n\u001B[1;32m    400\u001B[0m                                                                                                \u001B[38;5;124mf\u001B[39m\u001B[38;5;124m\"\u001B[39m\u001B[38;5;124m Click Prob: \u001B[39m\u001B[38;5;132;01m{\u001B[39;00m\u001B[38;5;28mlist\u001B[39m(tf\u001B[38;5;241m.\u001B[39mkeras\u001B[38;5;241m.\u001B[39mactivations\u001B[38;5;241m.\u001B[39msigmoid(model\u001B[38;5;241m.\u001B[39mget_weights()[\u001B[38;5;241m3\u001B[39m]))\u001B[38;5;132;01m}\u001B[39;00m\u001B[38;5;124m\"\u001B[39m))\n\u001B[0;32m--> 401\u001B[0m     \u001B[38;5;28;01mreturn\u001B[39;00m \u001B[43mmodel\u001B[49m\u001B[38;5;241;43m.\u001B[39;49m\u001B[43mfit\u001B[49m\u001B[43m(\u001B[49m\u001B[43madstock\u001B[49m\u001B[43m,\u001B[49m\n\u001B[1;32m    402\u001B[0m \u001B[43m                     \u001B[49m\u001B[43memission_real\u001B[49m\u001B[43m,\u001B[49m\n\u001B[1;32m    403\u001B[0m \u001B[43m                     \u001B[49m\u001B[43mepochs\u001B[49m\u001B[38;5;241;43m=\u001B[39;49m\u001B[43mcm\u001B[49m\u001B[43m[\u001B[49m\u001B[38;5;124;43m'\u001B[39;49m\u001B[38;5;124;43mEPOCHS\u001B[39;49m\u001B[38;5;124;43m'\u001B[39;49m\u001B[43m]\u001B[49m\u001B[43m,\u001B[49m\n\u001B[1;32m    404\u001B[0m \u001B[43m                     \u001B[49m\u001B[43mbatch_size\u001B[49m\u001B[38;5;241;43m=\u001B[39;49m\u001B[43mcm\u001B[49m\u001B[43m[\u001B[49m\u001B[38;5;124;43m'\u001B[39;49m\u001B[38;5;124;43mBATCH_SIZE\u001B[39;49m\u001B[38;5;124;43m'\u001B[39;49m\u001B[43m]\u001B[49m\u001B[43m,\u001B[49m\n\u001B[1;32m    405\u001B[0m \u001B[43m                     \u001B[49m\u001B[43mcallbacks\u001B[49m\u001B[38;5;241;43m=\u001B[39;49m\u001B[43m[\u001B[49m\u001B[43mprint_weights\u001B[49m\u001B[43m]\u001B[49m\u001B[43m,\u001B[49m\n\u001B[1;32m    406\u001B[0m \u001B[43m                     \u001B[49m\u001B[43mverbose\u001B[49m\u001B[38;5;241;43m=\u001B[39;49m\u001B[38;5;28;43;01mTrue\u001B[39;49;00m\u001B[43m)\u001B[49m\n",
      "File \u001B[0;32m~/Library/Caches/JetBrains/PyCharm2021.3/demo/PyCharmLearningProject/venv/lib/python3.8/site-packages/keras/utils/traceback_utils.py:67\u001B[0m, in \u001B[0;36mfilter_traceback.<locals>.error_handler\u001B[0;34m(*args, **kwargs)\u001B[0m\n\u001B[1;32m     65\u001B[0m \u001B[38;5;28;01mexcept\u001B[39;00m \u001B[38;5;167;01mException\u001B[39;00m \u001B[38;5;28;01mas\u001B[39;00m e:  \u001B[38;5;66;03m# pylint: disable=broad-except\u001B[39;00m\n\u001B[1;32m     66\u001B[0m   filtered_tb \u001B[38;5;241m=\u001B[39m _process_traceback_frames(e\u001B[38;5;241m.\u001B[39m__traceback__)\n\u001B[0;32m---> 67\u001B[0m   \u001B[38;5;28;01mraise\u001B[39;00m e\u001B[38;5;241m.\u001B[39mwith_traceback(filtered_tb) \u001B[38;5;28;01mfrom\u001B[39;00m \u001B[38;5;28mNone\u001B[39m\n\u001B[1;32m     68\u001B[0m \u001B[38;5;28;01mfinally\u001B[39;00m:\n\u001B[1;32m     69\u001B[0m   \u001B[38;5;28;01mdel\u001B[39;00m filtered_tb\n",
      "File \u001B[0;32m~/Library/Caches/JetBrains/PyCharm2021.3/demo/PyCharmLearningProject/venv/lib/python3.8/site-packages/tensorflow/python/ops/resource_variable_ops.py:940\u001B[0m, in \u001B[0;36mBaseResourceVariable.assign\u001B[0;34m(self, value, use_locking, name, read_value)\u001B[0m\n\u001B[1;32m    938\u001B[0m   \u001B[38;5;28;01melse\u001B[39;00m:\n\u001B[1;32m    939\u001B[0m     tensor_name \u001B[38;5;241m=\u001B[39m \u001B[38;5;124m\"\u001B[39m\u001B[38;5;124m \u001B[39m\u001B[38;5;124m\"\u001B[39m \u001B[38;5;241m+\u001B[39m \u001B[38;5;28mstr\u001B[39m(\u001B[38;5;28mself\u001B[39m\u001B[38;5;241m.\u001B[39mname)\n\u001B[0;32m--> 940\u001B[0m   \u001B[38;5;28;01mraise\u001B[39;00m \u001B[38;5;167;01mValueError\u001B[39;00m(\n\u001B[1;32m    941\u001B[0m       (\u001B[38;5;124mf\u001B[39m\u001B[38;5;124m\"\u001B[39m\u001B[38;5;124mCannot assign value to variable \u001B[39m\u001B[38;5;124m'\u001B[39m\u001B[38;5;132;01m{\u001B[39;00mtensor_name\u001B[38;5;132;01m}\u001B[39;00m\u001B[38;5;124m'\u001B[39m\u001B[38;5;124m: Shape mismatch.\u001B[39m\u001B[38;5;124m\"\u001B[39m\n\u001B[1;32m    942\u001B[0m        \u001B[38;5;124mf\u001B[39m\u001B[38;5;124m\"\u001B[39m\u001B[38;5;124mThe variable shape \u001B[39m\u001B[38;5;132;01m{\u001B[39;00m\u001B[38;5;28mself\u001B[39m\u001B[38;5;241m.\u001B[39m_shape\u001B[38;5;132;01m}\u001B[39;00m\u001B[38;5;124m, and the \u001B[39m\u001B[38;5;124m\"\u001B[39m\n\u001B[1;32m    943\u001B[0m        \u001B[38;5;124mf\u001B[39m\u001B[38;5;124m\"\u001B[39m\u001B[38;5;124massigned value shape \u001B[39m\u001B[38;5;132;01m{\u001B[39;00mvalue_tensor\u001B[38;5;241m.\u001B[39mshape\u001B[38;5;132;01m}\u001B[39;00m\u001B[38;5;124m are incompatible.\u001B[39m\u001B[38;5;124m\"\u001B[39m))\n\u001B[1;32m    944\u001B[0m kwargs \u001B[38;5;241m=\u001B[39m {}\n\u001B[1;32m    945\u001B[0m \u001B[38;5;28;01mif\u001B[39;00m forward_compat\u001B[38;5;241m.\u001B[39mforward_compatible(\u001B[38;5;241m2022\u001B[39m, \u001B[38;5;241m1\u001B[39m, \u001B[38;5;241m15\u001B[39m):\n\u001B[1;32m    946\u001B[0m   \u001B[38;5;66;03m# If the shape is fully defined, we do a runtime check with the shape of\u001B[39;00m\n\u001B[1;32m    947\u001B[0m   \u001B[38;5;66;03m# value.\u001B[39;00m\n",
      "\u001B[0;31mValueError\u001B[0m: Cannot assign value to variable ' transition_prob_layer_beta_1/Beta:0': Shape mismatch.The variable shape (12,), and the assigned value shape (9,) are incompatible."
     ]
    }
   ],
   "source": [
    "# STATES_ARE_OBSERVABLE is defined in CONSTANTS_HMM\n",
    "# The initializer here is the true parameter. The goal is to compute the optimal loss, and see whether the parameters move away from the optimum.\n",
    "initializer={\n",
    "    'BETA': tf.keras.initializers.Constant(BETA),\n",
    "    'INIT_PROB': tf.keras.initializers.Constant(INITIAL_STATE_PROB),\n",
    "    'CLICK_PROB': tf.keras.initializers.RandomNormal(CLICK_PROB)},\n",
    "model_test = build_hmm_to_fit_beta(cm, mu=MU, initializer=initializer)\n",
    "\n",
    "compiler = CompilerInfoBeta(cm, LR_EXPONENTIAL_DECAY)\n",
    "model_test.compile(\n",
    "    loss = compiler.loss,\n",
    "    optimizer = compiler.optimizer,\n",
    "    run_eagerly = True\n",
    ")\n",
    "BETA = [0.7, -0.3, 0.15, 0.4, -0.4, 0.8]\n",
    "history = fit_model(cm, model_test, adstock, emission_real)"
   ],
   "metadata": {
    "collapsed": false,
    "pycharm": {
     "name": "#%%\n"
    }
   }
  },
  {
   "cell_type": "code",
   "execution_count": 12,
   "outputs": [
    {
     "data": {
      "text/plain": "[0.7, -0.3, 0.15, 0.4, -0.4, 0.8]"
     },
     "execution_count": 12,
     "metadata": {},
     "output_type": "execute_result"
    }
   ],
   "source": [],
   "metadata": {
    "collapsed": false,
    "pycharm": {
     "name": "#%%\n"
    }
   }
  },
  {
   "cell_type": "code",
   "execution_count": null,
   "outputs": [],
   "source": [
    "save_result(model_test, adstock, emission_real, initializer)"
   ],
   "metadata": {
    "collapsed": false,
    "pycharm": {
     "name": "#%%\n"
    }
   }
  },
  {
   "cell_type": "code",
   "execution_count": 9,
   "outputs": [
    {
     "ename": "NameError",
     "evalue": "name 'model_test' is not defined",
     "output_type": "error",
     "traceback": [
      "\u001B[0;31m---------------------------------------------------------------------------\u001B[0m",
      "\u001B[0;31mNameError\u001B[0m                                 Traceback (most recent call last)",
      "Input \u001B[0;32mIn [9]\u001B[0m, in \u001B[0;36m<module>\u001B[0;34m\u001B[0m\n\u001B[0;32m----> 1\u001B[0m plt\u001B[38;5;241m.\u001B[39mplot(\u001B[43mmodel_test\u001B[49m\u001B[38;5;241m.\u001B[39mhistory\u001B[38;5;241m.\u001B[39mepoch, model_test\u001B[38;5;241m.\u001B[39mhistory\u001B[38;5;241m.\u001B[39mhistory[\u001B[38;5;124m'\u001B[39m\u001B[38;5;124mloss\u001B[39m\u001B[38;5;124m'\u001B[39m])\n",
      "\u001B[0;31mNameError\u001B[0m: name 'model_test' is not defined"
     ]
    }
   ],
   "source": [
    "plt.plot(model_test.history.epoch, model_test.history.history['loss'])"
   ],
   "metadata": {
    "collapsed": false,
    "pycharm": {
     "name": "#%%\n"
    }
   }
  },
  {
   "cell_type": "markdown",
   "source": [
    "As you can see above, the parameters slightly change, although the loss remains the same. Below, you can see the average difference for each transition and each user."
   ],
   "metadata": {
    "collapsed": false,
    "pycharm": {
     "name": "#%% md\n"
    }
   }
  },
  {
   "cell_type": "code",
   "execution_count": null,
   "outputs": [],
   "source": [
    "matrix_diff = lambda usr: tf.reduce_sum(make_transition_matrix(cm, MU, model_test.weights[0], adstock[usr:usr+1]) - make_transition_matrix(cm, MU,BETA, adstock[usr:usr+1]), axis=1)/30\n",
    "avg_diff = sum(matrix_diff(usr) for usr in range(N_users))/N_users"
   ],
   "metadata": {
    "collapsed": false,
    "pycharm": {
     "name": "#%%\n"
    }
   }
  },
  {
   "cell_type": "code",
   "execution_count": null,
   "outputs": [],
   "source": [],
   "metadata": {
    "collapsed": false,
    "pycharm": {
     "name": "#%%\n"
    }
   }
  },
  {
   "cell_type": "markdown",
   "source": [
    "## Build and fit the model starting from a random initializer"
   ],
   "metadata": {
    "collapsed": false,
    "pycharm": {
     "name": "#%% md\n"
    }
   }
  },
  {
   "cell_type": "code",
   "execution_count": 29,
   "outputs": [
    {
     "name": "stdout",
     "output_type": "stream",
     "text": [
      "Mu: [-2.0, -1.0, -4.0] Beta: [1.0, 0.0, 0.0, 0.0, 0.0, 1.0] Init Prob: [<tf.Tensor: shape=(), dtype=float32, numpy=0.75>] Click Prob: [<tf.Tensor: shape=(), dtype=float32, numpy=0.25000003>]\n",
      "Epoch 1/200\n",
      "40/40 [==============================] - 15s 372ms/step - loss: 5917.6343\n",
      "Mu: [-2.0386586, -0.9611387, -4.0393357] Beta: [0.9611767, 0.0, -0.0, -0.0, 0.0, 0.9607115] Init Prob: [<tf.Tensor: shape=(), dtype=float32, numpy=0.7570575>] Click Prob: [<tf.Tensor: shape=(), dtype=float32, numpy=0.2435967>]\n",
      "Epoch 2/200\n",
      "40/40 [==============================] - 14s 350ms/step - loss: 5862.7031\n",
      "Mu: [-2.0720928, -0.9269671, -4.075932] Beta: [0.9272661, 0.0, -0.0, -0.0, 0.0, 0.924247] Init Prob: [<tf.Tensor: shape=(), dtype=float32, numpy=0.763723>] Click Prob: [<tf.Tensor: shape=(), dtype=float32, numpy=0.24102667>]\n",
      "Epoch 3/200\n",
      "40/40 [==============================] - 14s 360ms/step - loss: 5823.5254\n",
      "Mu: [-2.099555, -0.89798564, -4.1093597] Beta: [0.89881, 0.0, -0.0, -0.0, 0.0, 0.89113766] Init Prob: [<tf.Tensor: shape=(), dtype=float32, numpy=0.77002454>] Click Prob: [<tf.Tensor: shape=(), dtype=float32, numpy=0.24254853>]\n",
      "Epoch 4/200\n",
      "40/40 [==============================] - 14s 360ms/step - loss: 5794.1377\n",
      "Mu: [-2.1219997, -0.87354374, -4.139856] Beta: [0.875251, 0.0, -0.0, 0.0030939667, 0.0, 0.8612725] Init Prob: [<tf.Tensor: shape=(), dtype=float32, numpy=0.77579015>] Click Prob: [<tf.Tensor: shape=(), dtype=float32, numpy=0.24705824>]\n",
      "Epoch 5/200\n",
      "40/40 [==============================] - 16s 390ms/step - loss: 5771.5835\n",
      "Mu: [-2.1431587, -0.85161406, -4.1677027] Beta: [0.8526899, 0.0, -0.0, 0.016548539, 0.0, 0.8342713] Init Prob: [<tf.Tensor: shape=(), dtype=float32, numpy=0.7815207>] Click Prob: [<tf.Tensor: shape=(), dtype=float32, numpy=0.25105205>]\n",
      "Epoch 6/200\n",
      "40/40 [==============================] - 15s 369ms/step - loss: 5753.6860\n",
      "Mu: [-2.1620834, -0.83214855, -4.1932755] Beta: [0.83184546, 0.0, -0.0, 0.038731672, 0.0, 0.80978036] Init Prob: [<tf.Tensor: shape=(), dtype=float32, numpy=0.78711>] Click Prob: [<tf.Tensor: shape=(), dtype=float32, numpy=0.25484073>]\n",
      "Epoch 7/200\n",
      "40/40 [==============================] - 15s 378ms/step - loss: 5739.1973\n",
      "Mu: [-2.1803553, -0.81441426, -4.2169013] Beta: [0.81193435, 0.0, -0.0, 0.064273186, 0.0, 0.7875601] Init Prob: [<tf.Tensor: shape=(), dtype=float32, numpy=0.79250526>] Click Prob: [<tf.Tensor: shape=(), dtype=float32, numpy=0.25783566>]\n",
      "Epoch 8/200\n",
      "40/40 [==============================] - 14s 356ms/step - loss: 5727.3774\n",
      "Mu: [-2.198839, -0.7985971, -4.238605] Beta: [0.7920665, 0.0, -0.0, 0.091177255, 0.0, 0.7675414] Init Prob: [<tf.Tensor: shape=(), dtype=float32, numpy=0.797665>] Click Prob: [<tf.Tensor: shape=(), dtype=float32, numpy=0.26062298>]\n",
      "Epoch 9/200\n",
      "40/40 [==============================] - 15s 368ms/step - loss: 5717.6675\n",
      "Mu: [-2.2157934, -0.7849273, -4.2586884] Beta: [0.77432466, 0.0, -0.0, 0.12023595, 0.0, 0.749206] Init Prob: [<tf.Tensor: shape=(), dtype=float32, numpy=0.8026106>] Click Prob: [<tf.Tensor: shape=(), dtype=float32, numpy=0.26320237>]\n",
      "Epoch 10/200\n",
      "40/40 [==============================] - 14s 345ms/step - loss: 5709.7119\n",
      "Mu: [-2.2332156, -0.7721176, -4.2773986] Beta: [0.75588745, 0.0, -0.0, 0.14823766, 0.0, 0.73262674] Init Prob: [<tf.Tensor: shape=(), dtype=float32, numpy=0.8073733>] Click Prob: [<tf.Tensor: shape=(), dtype=float32, numpy=0.2651136>]\n",
      "Epoch 11/200\n",
      "40/40 [==============================] - 16s 405ms/step - loss: 5703.1030\n",
      "Mu: [-2.2502086, -0.7617595, -4.294267] Beta: [0.739271, 0.0, -0.0, 0.17494489, -0.00015406872, 0.7181705] Init Prob: [<tf.Tensor: shape=(), dtype=float32, numpy=0.8117635>] Click Prob: [<tf.Tensor: shape=(), dtype=float32, numpy=0.26721954>]\n",
      "Epoch 12/200\n",
      "40/40 [==============================] - 15s 374ms/step - loss: 5697.7163\n",
      "Mu: [-2.2666173, -0.7525467, -4.30999] Beta: [0.7234898, 0.0, -0.0, 0.20146899, -0.0016508714, 0.7052434] Init Prob: [<tf.Tensor: shape=(), dtype=float32, numpy=0.81586605>] Click Prob: [<tf.Tensor: shape=(), dtype=float32, numpy=0.2688356>]\n",
      "Epoch 13/200\n",
      "40/40 [==============================] - 15s 364ms/step - loss: 5693.2803\n",
      "Mu: [-2.2827783, -0.74481606, -4.324737] Beta: [0.7084802, 0.0, -0.0, 0.22659919, -0.0050192797, 0.6933598] Init Prob: [<tf.Tensor: shape=(), dtype=float32, numpy=0.8199512>] Click Prob: [<tf.Tensor: shape=(), dtype=float32, numpy=0.27055073>]\n",
      "Epoch 14/200\n",
      "40/40 [==============================] - 14s 346ms/step - loss: 5689.5591\n",
      "Mu: [-2.299518, -0.7375863, -4.3386426] Beta: [0.69430774, 0.0, -0.0, 0.24692208, -0.007946233, 0.68240404] Init Prob: [<tf.Tensor: shape=(), dtype=float32, numpy=0.8236556>] Click Prob: [<tf.Tensor: shape=(), dtype=float32, numpy=0.27181923>]\n",
      "Epoch 15/200\n",
      "40/40 [==============================] - 14s 354ms/step - loss: 5686.5366\n",
      "Mu: [-2.3155143, -0.73159105, -4.3517294] Beta: [0.67989844, 0.0, -0.0, 0.26788276, -0.012703708, 0.6725445] Init Prob: [<tf.Tensor: shape=(), dtype=float32, numpy=0.82722485>] Click Prob: [<tf.Tensor: shape=(), dtype=float32, numpy=0.27267876>]\n",
      "Epoch 16/200\n",
      "40/40 [==============================] - 14s 350ms/step - loss: 5683.9780\n",
      "Mu: [-2.3298705, -0.7267232, -4.363608] Beta: [0.6704432, 0.0, -0.0, 0.2872942, -0.018558811, 0.66422457] Init Prob: [<tf.Tensor: shape=(), dtype=float32, numpy=0.8306354>] Click Prob: [<tf.Tensor: shape=(), dtype=float32, numpy=0.27360064>]\n",
      "Epoch 17/200\n",
      "40/40 [==============================] - 13s 337ms/step - loss: 5681.8662\n",
      "Mu: [-2.3450844, -0.72276455, -4.375013] Beta: [0.65966666, 0.0, -0.0, 0.30399674, -0.024975147, 0.6564883] Init Prob: [<tf.Tensor: shape=(), dtype=float32, numpy=0.8336786>] Click Prob: [<tf.Tensor: shape=(), dtype=float32, numpy=0.27423543>]\n",
      "Epoch 18/200\n",
      "40/40 [==============================] - 13s 332ms/step - loss: 5680.1201\n",
      "Mu: [-2.3599055, -0.7196039, -4.3857584] Beta: [0.6495574, 0.0, -0.0, 0.31823978, -0.031715035, 0.64945036] Init Prob: [<tf.Tensor: shape=(), dtype=float32, numpy=0.83652174>] Click Prob: [<tf.Tensor: shape=(), dtype=float32, numpy=0.27459273>]\n",
      "Epoch 19/200\n",
      "40/40 [==============================] - 13s 337ms/step - loss: 5678.6431\n",
      "Mu: [-2.3730612, -0.7172912, -4.396238] Beta: [0.64340156, -0.00081020285, -0.0, 0.33147725, -0.038494423, 0.6428813] Init Prob: [<tf.Tensor: shape=(), dtype=float32, numpy=0.83937347>] Click Prob: [<tf.Tensor: shape=(), dtype=float32, numpy=0.2751915>]\n",
      "Epoch 20/200\n",
      "40/40 [==============================] - 14s 351ms/step - loss: 5677.4414\n",
      "Mu: [-2.3868415, -0.7146601, -4.4063625] Beta: [0.6363973, -0.0016141633, -0.0, 0.34215873, -0.044762895, 0.6368342] Init Prob: [<tf.Tensor: shape=(), dtype=float32, numpy=0.8419077>] Click Prob: [<tf.Tensor: shape=(), dtype=float32, numpy=0.27500466>]\n",
      "Epoch 21/200\n",
      "40/40 [==============================] - 14s 346ms/step - loss: 5676.3618\n",
      "Mu: [-2.397619, -0.714514, -4.415899] Beta: [0.6329461, -0.00467154, -0.0, 0.35399035, -0.052826498, 0.6314777] Init Prob: [<tf.Tensor: shape=(), dtype=float32, numpy=0.8441913>] Click Prob: [<tf.Tensor: shape=(), dtype=float32, numpy=0.27570105>]\n",
      "Epoch 22/200\n",
      "40/40 [==============================] - 14s 338ms/step - loss: 5675.4771\n",
      "Mu: [-2.4108355, -0.71287715, -4.425438] Beta: [0.6283799, -0.006830193, -0.0, 0.3620888, -0.05950257, 0.6263352] Init Prob: [<tf.Tensor: shape=(), dtype=float32, numpy=0.84618044>] Click Prob: [<tf.Tensor: shape=(), dtype=float32, numpy=0.27548003>]\n",
      "Epoch 23/200\n",
      "40/40 [==============================] - 14s 350ms/step - loss: 5674.6714\n",
      "Mu: [-2.4214487, -0.71201193, -4.434487] Beta: [0.6246074, -0.0090386, -0.0, 0.36920723, -0.06621134, 0.62190336] Init Prob: [<tf.Tensor: shape=(), dtype=float32, numpy=0.84822214>] Click Prob: [<tf.Tensor: shape=(), dtype=float32, numpy=0.27455503>]\n",
      "Epoch 24/200\n",
      "40/40 [==============================] - 14s 347ms/step - loss: 5673.9849\n",
      "Mu: [-2.432256, -0.7112296, -4.443817] Beta: [0.6232156, -0.011893886, -0.0, 0.37482494, -0.0720152, 0.6173329] Init Prob: [<tf.Tensor: shape=(), dtype=float32, numpy=0.8499162>] Click Prob: [<tf.Tensor: shape=(), dtype=float32, numpy=0.274103>]\n",
      "Epoch 25/200\n",
      "40/40 [==============================] - 14s 343ms/step - loss: 5673.3672\n",
      "Mu: [-2.4423618, -0.7115726, -4.4527674] Beta: [0.621682, -0.016072951, -0.0, 0.38072133, -0.07883396, 0.6132687] Init Prob: [<tf.Tensor: shape=(), dtype=float32, numpy=0.8515097>] Click Prob: [<tf.Tensor: shape=(), dtype=float32, numpy=0.27360946>]\n",
      "Epoch 26/200\n",
      "40/40 [==============================] - 14s 341ms/step - loss: 5672.7778\n",
      "Mu: [-2.4506419, -0.7124917, -4.4610763] Beta: [0.6220323, -0.02062965, -0.0, 0.38731012, -0.085924216, 0.6100205] Init Prob: [<tf.Tensor: shape=(), dtype=float32, numpy=0.8530378>] Click Prob: [<tf.Tensor: shape=(), dtype=float32, numpy=0.2728517>]\n",
      "Epoch 27/200\n",
      "40/40 [==============================] - 14s 346ms/step - loss: 5672.2930\n",
      "Mu: [-2.4604983, -0.71251917, -4.470306] Beta: [0.6204442, -0.02382237, -0.0, 0.3907464, -0.09181646, 0.6059677] Init Prob: [<tf.Tensor: shape=(), dtype=float32, numpy=0.8541772>] Click Prob: [<tf.Tensor: shape=(), dtype=float32, numpy=0.271969>]\n",
      "Epoch 28/200\n",
      "40/40 [==============================] - 14s 341ms/step - loss: 5671.7959\n",
      "Mu: [-2.470048, -0.7126518, -4.4789495] Beta: [0.6201757, -0.028021295, -0.0, 0.39285943, -0.097292624, 0.6027947] Init Prob: [<tf.Tensor: shape=(), dtype=float32, numpy=0.8553444>] Click Prob: [<tf.Tensor: shape=(), dtype=float32, numpy=0.27060086>]\n",
      "Epoch 29/200\n",
      "40/40 [==============================] - 14s 346ms/step - loss: 5671.3311\n",
      "Mu: [-2.4770694, -0.71406126, -4.4879055] Beta: [0.62094516, -0.03191328, -0.0, 0.3962496, -0.10362404, 0.5992625] Init Prob: [<tf.Tensor: shape=(), dtype=float32, numpy=0.8563956>] Click Prob: [<tf.Tensor: shape=(), dtype=float32, numpy=0.26984653>]\n",
      "Epoch 30/200\n",
      "40/40 [==============================] - 14s 342ms/step - loss: 5670.9111\n",
      "Mu: [-2.4842038, -0.7151475, -4.496594] Beta: [0.6219695, -0.03576168, -0.0, 0.40060613, -0.11010309, 0.5964905] Init Prob: [<tf.Tensor: shape=(), dtype=float32, numpy=0.85723674>] Click Prob: [<tf.Tensor: shape=(), dtype=float32, numpy=0.2686993>]\n",
      "Epoch 31/200\n",
      "40/40 [==============================] - 14s 344ms/step - loss: 5670.5127\n",
      "Mu: [-2.4913073, -0.71670175, -4.5048776] Beta: [0.622897, -0.040670633, -0.0, 0.4024338, -0.11589746, 0.5939924] Init Prob: [<tf.Tensor: shape=(), dtype=float32, numpy=0.85807985>] Click Prob: [<tf.Tensor: shape=(), dtype=float32, numpy=0.26715535>]\n",
      "Epoch 32/200\n",
      "40/40 [==============================] - 14s 347ms/step - loss: 5670.1050\n",
      "Mu: [-2.4972677, -0.7186969, -4.513721] Beta: [0.6243831, -0.045179278, -0.0, 0.40328336, -0.12099697, 0.59115976] Init Prob: [<tf.Tensor: shape=(), dtype=float32, numpy=0.85839653>] Click Prob: [<tf.Tensor: shape=(), dtype=float32, numpy=0.2662024>]\n",
      "Epoch 33/200\n",
      "40/40 [==============================] - 14s 342ms/step - loss: 5669.7471\n",
      "Mu: [-2.5033185, -0.7208438, -4.5223455] Beta: [0.62664217, -0.049980763, -0.0, 0.40630165, -0.12737462, 0.58892316] Init Prob: [<tf.Tensor: shape=(), dtype=float32, numpy=0.85904884>] Click Prob: [<tf.Tensor: shape=(), dtype=float32, numpy=0.26498216>]\n",
      "Epoch 34/200\n",
      "40/40 [==============================] - 14s 342ms/step - loss: 5669.3711\n",
      "Mu: [-2.5105696, -0.72216374, -4.531383] Beta: [0.6272651, -0.053617872, -0.0, 0.40517238, -0.13171807, 0.5863804] Init Prob: [<tf.Tensor: shape=(), dtype=float32, numpy=0.8592304>] Click Prob: [<tf.Tensor: shape=(), dtype=float32, numpy=0.26339844>]\n",
      "Epoch 35/200\n",
      "40/40 [==============================] - 14s 342ms/step - loss: 5669.0581\n",
      "Mu: [-2.5144207, -0.72468525, -4.540339] Beta: [0.6289219, -0.057422474, -0.0, 0.4092049, -0.13834836, 0.5841812] Init Prob: [<tf.Tensor: shape=(), dtype=float32, numpy=0.8594694>] Click Prob: [<tf.Tensor: shape=(), dtype=float32, numpy=0.26209974>]\n",
      "Epoch 36/200\n",
      "40/40 [==============================] - 14s 355ms/step - loss: 5668.7046\n",
      "Mu: [-2.5220947, -0.7264883, -4.5492244] Beta: [0.62906975, -0.06231637, -0.0, 0.4063531, -0.14308646, 0.58227324] Init Prob: [<tf.Tensor: shape=(), dtype=float32, numpy=0.8595604>] Click Prob: [<tf.Tensor: shape=(), dtype=float32, numpy=0.2606893>]\n",
      "Epoch 37/200\n",
      "40/40 [==============================] - 14s 351ms/step - loss: 5668.3667\n",
      "Mu: [-2.526342, -0.73008615, -4.558146] Beta: [0.63124615, -0.06720115, -0.0, 0.40874815, -0.14955446, 0.58048505] Init Prob: [<tf.Tensor: shape=(), dtype=float32, numpy=0.8594931>] Click Prob: [<tf.Tensor: shape=(), dtype=float32, numpy=0.2597801>]\n",
      "Epoch 38/200\n",
      "40/40 [==============================] - 14s 342ms/step - loss: 5668.0488\n",
      "Mu: [-2.5309277, -0.7327576, -4.567878] Beta: [0.6327161, -0.07121865, -0.0, 0.4093327, -0.15455195, 0.5781239] Init Prob: [<tf.Tensor: shape=(), dtype=float32, numpy=0.8596217>] Click Prob: [<tf.Tensor: shape=(), dtype=float32, numpy=0.25862855>]\n",
      "Epoch 39/200\n",
      "40/40 [==============================] - 14s 342ms/step - loss: 5667.7402\n",
      "Mu: [-2.5354395, -0.73637944, -4.5764756] Beta: [0.63480294, -0.07654176, -0.0, 0.4098845, -0.16113256, 0.57698476] Init Prob: [<tf.Tensor: shape=(), dtype=float32, numpy=0.85925525>] Click Prob: [<tf.Tensor: shape=(), dtype=float32, numpy=0.25731587>]\n",
      "Epoch 40/200\n",
      "40/40 [==============================] - 14s 346ms/step - loss: 5667.4229\n",
      "Mu: [-2.5396712, -0.73930585, -4.585827] Beta: [0.63619804, -0.080527686, -0.0, 0.41045696, -0.166199, 0.5753931] Init Prob: [<tf.Tensor: shape=(), dtype=float32, numpy=0.85922533>] Click Prob: [<tf.Tensor: shape=(), dtype=float32, numpy=0.25599906>]\n",
      "Epoch 41/200\n",
      "40/40 [==============================] - 14s 344ms/step - loss: 5667.1431\n",
      "Mu: [-2.5443795, -0.7422749, -4.5954485] Beta: [0.63703644, -0.08452384, -0.0, 0.40944007, -0.17130114, 0.57369554] Init Prob: [<tf.Tensor: shape=(), dtype=float32, numpy=0.85876215>] Click Prob: [<tf.Tensor: shape=(), dtype=float32, numpy=0.2546388>]\n",
      "Epoch 42/200\n",
      "40/40 [==============================] - 14s 346ms/step - loss: 5666.8237\n",
      "Mu: [-2.5472634, -0.7458385, -4.604863] Beta: [0.6399488, -0.089278966, -0.0, 0.41142237, -0.1776502, 0.5725525] Init Prob: [<tf.Tensor: shape=(), dtype=float32, numpy=0.8585926>] Click Prob: [<tf.Tensor: shape=(), dtype=float32, numpy=0.25351995>]\n",
      "Epoch 43/200\n",
      "40/40 [==============================] - 14s 349ms/step - loss: 5666.5254\n",
      "Mu: [-2.5522516, -0.7495764, -4.6141257] Beta: [0.6403461, -0.09353912, -0.0, 0.40951356, -0.18259327, 0.57159597] Init Prob: [<tf.Tensor: shape=(), dtype=float32, numpy=0.85816646>] Click Prob: [<tf.Tensor: shape=(), dtype=float32, numpy=0.251962>]\n",
      "Epoch 44/200\n",
      "40/40 [==============================] - 14s 342ms/step - loss: 5666.2402\n",
      "Mu: [-2.5550706, -0.7532741, -4.6241] Beta: [0.6420996, -0.09779696, -0.0, 0.40920454, -0.1876359, 0.5700375] Init Prob: [<tf.Tensor: shape=(), dtype=float32, numpy=0.85746527>] Click Prob: [<tf.Tensor: shape=(), dtype=float32, numpy=0.2508999>]\n",
      "Epoch 45/200\n",
      "40/40 [==============================] - 14s 342ms/step - loss: 5665.9644\n",
      "Mu: [-2.558539, -0.7573491, -4.63326] Beta: [0.6436086, -0.1023795, -0.0, 0.40932354, -0.19311006, 0.56974244] Init Prob: [<tf.Tensor: shape=(), dtype=float32, numpy=0.856821>] Click Prob: [<tf.Tensor: shape=(), dtype=float32, numpy=0.24970654>]\n",
      "Epoch 46/200\n",
      "40/40 [==============================] - 14s 344ms/step - loss: 5665.6919\n",
      "Mu: [-2.562921, -0.7600615, -4.643238] Beta: [0.6429924, -0.105712995, -0.0, 0.40880123, -0.19835632, 0.5688763] Init Prob: [<tf.Tensor: shape=(), dtype=float32, numpy=0.85641026>] Click Prob: [<tf.Tensor: shape=(), dtype=float32, numpy=0.24803284>]\n",
      "Epoch 47/200\n",
      "40/40 [==============================] - 14s 342ms/step - loss: 5665.4111\n",
      "Mu: [-2.564934, -0.7652373, -4.653281] Beta: [0.6452939, -0.11083342, -0.0, 0.4086781, -0.20381574, 0.5678705] Init Prob: [<tf.Tensor: shape=(), dtype=float32, numpy=0.855633>] Click Prob: [<tf.Tensor: shape=(), dtype=float32, numpy=0.24721429>]\n",
      "Epoch 48/200\n",
      "40/40 [==============================] - 14s 344ms/step - loss: 5665.1270\n",
      "Mu: [-2.5688517, -0.7686257, -4.663023] Beta: [0.6458684, -0.114747226, -0.0, 0.40816754, -0.20905983, 0.5677477] Init Prob: [<tf.Tensor: shape=(), dtype=float32, numpy=0.8550105>] Click Prob: [<tf.Tensor: shape=(), dtype=float32, numpy=0.2457791>]\n",
      "Epoch 49/200\n",
      "40/40 [==============================] - 14s 343ms/step - loss: 5664.8501\n",
      "Mu: [-2.570858, -0.77377874, -4.6727347] Beta: [0.6468561, -0.1194888, -0.0, 0.40746236, -0.21495888, 0.56758887] Init Prob: [<tf.Tensor: shape=(), dtype=float32, numpy=0.8541267>] Click Prob: [<tf.Tensor: shape=(), dtype=float32, numpy=0.24465638>]\n",
      "Epoch 50/200\n",
      "40/40 [==============================] - 14s 345ms/step - loss: 5664.5864\n",
      "Mu: [-2.5737224, -0.77781516, -4.683094] Beta: [0.6489185, -0.124258414, -0.0, 0.4073762, -0.21960519, 0.5671093] Init Prob: [<tf.Tensor: shape=(), dtype=float32, numpy=0.85367954>] Click Prob: [<tf.Tensor: shape=(), dtype=float32, numpy=0.24360615>]\n",
      "Epoch 51/200\n",
      "40/40 [==============================] - 14s 343ms/step - loss: 5664.3198\n",
      "Mu: [-2.5753646, -0.7820653, -4.6928787] Beta: [0.651006, -0.12788686, -0.0, 0.4078266, -0.22423229, 0.5674645] Init Prob: [<tf.Tensor: shape=(), dtype=float32, numpy=0.85263735>] Click Prob: [<tf.Tensor: shape=(), dtype=float32, numpy=0.24215987>]\n",
      "Epoch 52/200\n",
      "40/40 [==============================] - 14s 342ms/step - loss: 5664.0708\n",
      "Mu: [-2.5807707, -0.7860027, -4.703594] Beta: [0.64911836, -0.13215089, -0.0, 0.40530166, -0.229844, 0.5669378] Init Prob: [<tf.Tensor: shape=(), dtype=float32, numpy=0.85195524>] Click Prob: [<tf.Tensor: shape=(), dtype=float32, numpy=0.2411612>]\n",
      "Epoch 53/200\n",
      "40/40 [==============================] - 14s 342ms/step - loss: 5663.8262\n",
      "Mu: [-2.581044, -0.79103816, -4.7132387] Beta: [0.65129375, -0.13677643, -0.0, 0.40545473, -0.23542488, 0.5679303] Init Prob: [<tf.Tensor: shape=(), dtype=float32, numpy=0.85084736>] Click Prob: [<tf.Tensor: shape=(), dtype=float32, numpy=0.23992136>]\n",
      "Epoch 54/200\n",
      "40/40 [==============================] - 14s 345ms/step - loss: 5663.6245\n",
      "Mu: [-2.5833116, -0.7948262, -4.7249775] Beta: [0.65272164, -0.14056721, 1.900213e-05, 0.4056833, -0.23954386, 0.56652564] Init Prob: [<tf.Tensor: shape=(), dtype=float32, numpy=0.85043097>] Click Prob: [<tf.Tensor: shape=(), dtype=float32, numpy=0.23899212>]\n",
      "Epoch 55/200\n",
      "40/40 [==============================] - 14s 345ms/step - loss: 5663.3110\n",
      "Mu: [-2.5879996, -0.79867697, -4.734891] Beta: [0.6519612, -0.14489079, -0.0, 0.40289882, -0.24502943, 0.56780803] Init Prob: [<tf.Tensor: shape=(), dtype=float32, numpy=0.8495227>] Click Prob: [<tf.Tensor: shape=(), dtype=float32, numpy=0.23789379>]\n",
      "Epoch 56/200\n",
      "40/40 [==============================] - 14s 343ms/step - loss: 5663.0522\n",
      "Mu: [-2.5891404, -0.80380344, -4.745739] Beta: [0.65276474, -0.14863253, -0.0, 0.40370405, -0.249956, 0.5680061] Init Prob: [<tf.Tensor: shape=(), dtype=float32, numpy=0.8484343>] Click Prob: [<tf.Tensor: shape=(), dtype=float32, numpy=0.23679939>]\n",
      "Epoch 57/200\n",
      "40/40 [==============================] - 14s 342ms/step - loss: 5662.8086\n",
      "Mu: [-2.592786, -0.80760664, -4.7563787] Beta: [0.6519437, -0.15279005, -0.0, 0.40257987, -0.25476605, 0.5687271] Init Prob: [<tf.Tensor: shape=(), dtype=float32, numpy=0.84738874>] Click Prob: [<tf.Tensor: shape=(), dtype=float32, numpy=0.235556>]\n",
      "Epoch 58/200\n",
      "40/40 [==============================] - 14s 346ms/step - loss: 5662.5928\n",
      "Mu: [-2.5956383, -0.81149834, -4.7668676] Beta: [0.65199727, -0.15682931, -0.0, 0.40077475, -0.25899774, 0.5695125] Init Prob: [<tf.Tensor: shape=(), dtype=float32, numpy=0.8465909>] Click Prob: [<tf.Tensor: shape=(), dtype=float32, numpy=0.23438299>]\n",
      "Epoch 59/200\n",
      "40/40 [==============================] - 14s 344ms/step - loss: 5662.3530\n",
      "Mu: [-2.5974236, -0.815598, -4.777988] Beta: [0.65394694, -0.1608896, -0.0, 0.4004406, -0.2634783, 0.5701582] Init Prob: [<tf.Tensor: shape=(), dtype=float32, numpy=0.8456988>] Click Prob: [<tf.Tensor: shape=(), dtype=float32, numpy=0.23351899>]\n",
      "Epoch 60/200\n",
      "40/40 [==============================] - 14s 343ms/step - loss: 5662.1138\n",
      "Mu: [-2.5987005, -0.8211487, -4.7882676] Beta: [0.655607, -0.16604045, -0.0, 0.39948678, -0.2683173, 0.57191813] Init Prob: [<tf.Tensor: shape=(), dtype=float32, numpy=0.8448373>] Click Prob: [<tf.Tensor: shape=(), dtype=float32, numpy=0.23275113>]\n",
      "Epoch 61/200\n",
      "40/40 [==============================] - 14s 342ms/step - loss: 5661.9028\n",
      "Mu: [-2.6016748, -0.825174, -4.799219] Beta: [0.65538025, -0.17012686, -0.0, 0.3994817, -0.2728734, 0.5727656] Init Prob: [<tf.Tensor: shape=(), dtype=float32, numpy=0.84381354>] Click Prob: [<tf.Tensor: shape=(), dtype=float32, numpy=0.23165557>]\n",
      "Epoch 62/200\n",
      "40/40 [==============================] - 14s 342ms/step - loss: 5661.6445\n",
      "Mu: [-2.6029077, -0.8289496, -4.8103757] Beta: [0.6567405, -0.17369588, -0.0, 0.39905238, -0.2772486, 0.57396716] Init Prob: [<tf.Tensor: shape=(), dtype=float32, numpy=0.84274554>] Click Prob: [<tf.Tensor: shape=(), dtype=float32, numpy=0.2308231>]\n",
      "Epoch 63/200\n",
      "40/40 [==============================] - 14s 342ms/step - loss: 5661.4360\n",
      "Mu: [-2.6059334, -0.8327447, -4.8211813] Beta: [0.6562554, -0.1776982, -0.0, 0.39783376, -0.28143495, 0.57553196] Init Prob: [<tf.Tensor: shape=(), dtype=float32, numpy=0.8420012>] Click Prob: [<tf.Tensor: shape=(), dtype=float32, numpy=0.2296241>]\n",
      "Epoch 64/200\n",
      "40/40 [==============================] - 14s 348ms/step - loss: 5661.2427\n",
      "Mu: [-2.6070633, -0.83763254, -4.8329163] Beta: [0.65706444, -0.18188252, -0.0, 0.39912555, -0.28621176, 0.57555145] Init Prob: [<tf.Tensor: shape=(), dtype=float32, numpy=0.8411838>] Click Prob: [<tf.Tensor: shape=(), dtype=float32, numpy=0.22911295>]\n",
      "Epoch 65/200\n",
      "40/40 [==============================] - 14s 342ms/step - loss: 5661.0054\n",
      "Mu: [-2.6095188, -0.841956, -4.843583] Beta: [0.65750736, -0.18682286, -0.0, 0.39580646, -0.28977847, 0.57817036] Init Prob: [<tf.Tensor: shape=(), dtype=float32, numpy=0.840149>] Click Prob: [<tf.Tensor: shape=(), dtype=float32, numpy=0.22822788>]\n",
      "Epoch 66/200\n",
      "40/40 [==============================] - 14s 343ms/step - loss: 5660.7993\n",
      "Mu: [-2.6106632, -0.8461112, -4.854878] Beta: [0.65791535, -0.18998535, -0.0, 0.39700654, -0.29460377, 0.5799109] Init Prob: [<tf.Tensor: shape=(), dtype=float32, numpy=0.83938575>] Click Prob: [<tf.Tensor: shape=(), dtype=float32, numpy=0.22738716>]\n",
      "Epoch 67/200\n",
      "40/40 [==============================] - 14s 342ms/step - loss: 5660.6030\n",
      "Mu: [-2.6130447, -0.8500376, -4.8652773] Beta: [0.659088, -0.1945122, -0.0, 0.39541566, -0.298883, 0.5828628] Init Prob: [<tf.Tensor: shape=(), dtype=float32, numpy=0.8381138>] Click Prob: [<tf.Tensor: shape=(), dtype=float32, numpy=0.2267752>]\n",
      "Epoch 68/200\n",
      "40/40 [==============================] - 14s 344ms/step - loss: 5660.4038\n",
      "Mu: [-2.6146207, -0.8539649, -4.876913] Beta: [0.65989095, -0.19859749, -0.0, 0.39564732, -0.30269995, 0.58393866] Init Prob: [<tf.Tensor: shape=(), dtype=float32, numpy=0.8373768>] Click Prob: [<tf.Tensor: shape=(), dtype=float32, numpy=0.22599182>]\n",
      "Epoch 69/200\n",
      "40/40 [==============================] - 14s 346ms/step - loss: 5660.1943\n",
      "Mu: [-2.6167052, -0.8566911, -4.8883824] Beta: [0.6583581, -0.20100163, 3.208794e-05, 0.3941229, -0.3048868, 0.58576936] Init Prob: [<tf.Tensor: shape=(), dtype=float32, numpy=0.8364768>] Click Prob: [<tf.Tensor: shape=(), dtype=float32, numpy=0.2248553>]\n",
      "Epoch 70/200\n",
      "40/40 [==============================] - 14s 342ms/step - loss: 5660.0029\n",
      "Mu: [-2.6195018, -0.85996455, -4.8999667] Beta: [0.6590909, -0.20485568, -0.0, 0.39478692, -0.30944014, 0.58749] Init Prob: [<tf.Tensor: shape=(), dtype=float32, numpy=0.835917>] Click Prob: [<tf.Tensor: shape=(), dtype=float32, numpy=0.22408831>]\n",
      "Epoch 71/200\n",
      "40/40 [==============================] - 14s 345ms/step - loss: 5659.8125\n",
      "Mu: [-2.620578, -0.86412144, -4.910877] Beta: [0.6592108, -0.20878215, -0.0, 0.3930474, -0.31314158, 0.5901253] Init Prob: [<tf.Tensor: shape=(), dtype=float32, numpy=0.8350215>] Click Prob: [<tf.Tensor: shape=(), dtype=float32, numpy=0.22340381>]\n",
      "Epoch 72/200\n",
      "40/40 [==============================] - 14s 343ms/step - loss: 5659.6406\n",
      "Mu: [-2.6244326, -0.86621577, -4.9224286] Beta: [0.6584955, -0.21135335, 0.00011411535, 0.39189333, -0.31541306, 0.5918998] Init Prob: [<tf.Tensor: shape=(), dtype=float32, numpy=0.8341434>] Click Prob: [<tf.Tensor: shape=(), dtype=float32, numpy=0.22244838>]\n",
      "Epoch 73/200\n",
      "40/40 [==============================] - 14s 345ms/step - loss: 5659.4502\n",
      "Mu: [-2.6243405, -0.87108994, -4.9335384] Beta: [0.6608066, -0.21769409, 0.0004172761, 0.39271602, -0.32034335, 0.5946388] Init Prob: [<tf.Tensor: shape=(), dtype=float32, numpy=0.83302677>] Click Prob: [<tf.Tensor: shape=(), dtype=float32, numpy=0.22244361>]\n",
      "Epoch 74/200\n",
      "40/40 [==============================] - 14s 343ms/step - loss: 5659.2778\n",
      "Mu: [-2.626689, -0.87443304, -4.9449453] Beta: [0.65982056, -0.2198495, 0.00020496224, 0.39149946, -0.32349935, 0.5966683] Init Prob: [<tf.Tensor: shape=(), dtype=float32, numpy=0.8323505>] Click Prob: [<tf.Tensor: shape=(), dtype=float32, numpy=0.22138458>]\n",
      "Epoch 75/200\n",
      "40/40 [==============================] - 14s 343ms/step - loss: 5659.1494\n",
      "Mu: [-2.6271842, -0.8772608, -4.956342] Beta: [0.66156113, -0.22354792, -0.0, 0.39241093, -0.32617438, 0.59940857] Init Prob: [<tf.Tensor: shape=(), dtype=float32, numpy=0.83159935>] Click Prob: [<tf.Tensor: shape=(), dtype=float32, numpy=0.22072768>]\n",
      "Epoch 76/200\n",
      "40/40 [==============================] - 14s 343ms/step - loss: 5658.9248\n",
      "Mu: [-2.630192, -0.88039774, -4.9672747] Beta: [0.65935254, -0.22618741, -0.0, 0.39067876, -0.32897204, 0.6022907] Init Prob: [<tf.Tensor: shape=(), dtype=float32, numpy=0.83032864>] Click Prob: [<tf.Tensor: shape=(), dtype=float32, numpy=0.21986848>]\n",
      "Epoch 77/200\n",
      "40/40 [==============================] - 14s 345ms/step - loss: 5658.7788\n",
      "Mu: [-2.6324015, -0.88205034, -4.9789834] Beta: [0.66079736, -0.2297583, 1.3488457e-05, 0.38923734, -0.33120593, 0.6049929] Init Prob: [<tf.Tensor: shape=(), dtype=float32, numpy=0.8301194>] Click Prob: [<tf.Tensor: shape=(), dtype=float32, numpy=0.21922037>]\n",
      "Epoch 78/200\n",
      "40/40 [==============================] - 14s 343ms/step - loss: 5658.6279\n",
      "Mu: [-2.6342905, -0.88519555, -4.9903026] Beta: [0.66049767, -0.23318696, 0.0001655818, 0.38907155, -0.3342146, 0.6074109] Init Prob: [<tf.Tensor: shape=(), dtype=float32, numpy=0.8286936>] Click Prob: [<tf.Tensor: shape=(), dtype=float32, numpy=0.21883681>]\n",
      "Epoch 79/200\n",
      "40/40 [==============================] - 14s 343ms/step - loss: 5658.4478\n",
      "Mu: [-2.6339543, -0.8893526, -5.0024066] Beta: [0.66233116, -0.23731925, 0.00037133403, 0.390611, -0.3378722, 0.60896873] Init Prob: [<tf.Tensor: shape=(), dtype=float32, numpy=0.82836056>] Click Prob: [<tf.Tensor: shape=(), dtype=float32, numpy=0.21836546>]\n",
      "Epoch 80/200\n",
      "40/40 [==============================] - 15s 382ms/step - loss: 5658.3281\n",
      "Mu: [-2.6357403, -0.89159393, -5.013361] Beta: [0.66300726, -0.24035089, 0.0014749821, 0.38968426, -0.3401008, 0.6125421] Init Prob: [<tf.Tensor: shape=(), dtype=float32, numpy=0.8276017>] Click Prob: [<tf.Tensor: shape=(), dtype=float32, numpy=0.21766382>]\n",
      "Epoch 81/200\n",
      "40/40 [==============================] - 15s 365ms/step - loss: 5658.1489\n",
      "Mu: [-2.638041, -0.89368784, -5.0244718] Beta: [0.66206324, -0.24283883, 0.0021345066, 0.38917097, -0.34238797, 0.61598605] Init Prob: [<tf.Tensor: shape=(), dtype=float32, numpy=0.82678133>] Click Prob: [<tf.Tensor: shape=(), dtype=float32, numpy=0.21687871>]\n",
      "Epoch 82/200\n",
      "40/40 [==============================] - 14s 344ms/step - loss: 5658.0044\n",
      "Mu: [-2.6385877, -0.8976321, -5.036269] Beta: [0.6628475, -0.24717565, 0.0021700747, 0.38938227, -0.34631836, 0.61802953] Init Prob: [<tf.Tensor: shape=(), dtype=float32, numpy=0.8263085>] Click Prob: [<tf.Tensor: shape=(), dtype=float32, numpy=0.2167106>]\n",
      "Epoch 83/200\n",
      "40/40 [==============================] - 14s 342ms/step - loss: 5657.8755\n",
      "Mu: [-2.6398585, -0.8997762, -5.0480995] Beta: [0.66271555, -0.24896039, 0.0021984752, 0.38942486, -0.3484099, 0.6204612] Init Prob: [<tf.Tensor: shape=(), dtype=float32, numpy=0.82550424>] Click Prob: [<tf.Tensor: shape=(), dtype=float32, numpy=0.21625423>]\n",
      "Epoch 84/200\n",
      "40/40 [==============================] - 14s 342ms/step - loss: 5657.7148\n",
      "Mu: [-2.64186, -0.9022289, -5.058717] Beta: [0.66194594, -0.2525471, 0.003778489, 0.38923296, -0.3510802, 0.6242983] Init Prob: [<tf.Tensor: shape=(), dtype=float32, numpy=0.824939>] Click Prob: [<tf.Tensor: shape=(), dtype=float32, numpy=0.21573809>]\n",
      "Epoch 85/200\n",
      "40/40 [==============================] - 14s 342ms/step - loss: 5657.5771\n",
      "Mu: [-2.6438987, -0.9039844, -5.070422] Beta: [0.66368103, -0.25630382, 0.0046825917, 0.38854456, -0.35254997, 0.6259178] Init Prob: [<tf.Tensor: shape=(), dtype=float32, numpy=0.8240563>] Click Prob: [<tf.Tensor: shape=(), dtype=float32, numpy=0.21537784>]\n",
      "Epoch 86/200\n",
      "40/40 [==============================] - 14s 344ms/step - loss: 5657.4556\n",
      "Mu: [-2.6452372, -0.90632147, -5.0822678] Beta: [0.66353345, -0.25910613, 0.0050266115, 0.3893388, -0.35507938, 0.62894386] Init Prob: [<tf.Tensor: shape=(), dtype=float32, numpy=0.82336307>] Click Prob: [<tf.Tensor: shape=(), dtype=float32, numpy=0.2151587>]\n",
      "Epoch 87/200\n",
      "40/40 [==============================] - 14s 346ms/step - loss: 5657.3354\n",
      "Mu: [-2.646077, -0.90889704, -5.093871] Beta: [0.66315424, -0.2618291, 0.0066269953, 0.3895064, -0.35753736, 0.63126993] Init Prob: [<tf.Tensor: shape=(), dtype=float32, numpy=0.82251287>] Click Prob: [<tf.Tensor: shape=(), dtype=float32, numpy=0.21476209>]\n",
      "Epoch 88/200\n",
      "40/40 [==============================] - 14s 342ms/step - loss: 5657.2002\n",
      "Mu: [-2.6484885, -0.9097056, -5.10564] Beta: [0.6615735, -0.26288703, 0.0077416035, 0.38820386, -0.35819903, 0.6334987] Init Prob: [<tf.Tensor: shape=(), dtype=float32, numpy=0.8222834>] Click Prob: [<tf.Tensor: shape=(), dtype=float32, numpy=0.21369958>]\n",
      "Epoch 89/200\n",
      "40/40 [==============================] - 14s 342ms/step - loss: 5657.0708\n",
      "Mu: [-2.6484716, -0.9114758, -5.117017] Beta: [0.6639175, -0.26512158, 0.009103815, 0.38789997, -0.35898516, 0.63655674] Init Prob: [<tf.Tensor: shape=(), dtype=float32, numpy=0.82139677>] Click Prob: [<tf.Tensor: shape=(), dtype=float32, numpy=0.21330366>]\n",
      "Epoch 90/200\n",
      "40/40 [==============================] - 14s 345ms/step - loss: 5656.9478\n",
      "Mu: [-2.6506677, -0.9135628, -5.1288114] Beta: [0.6636102, -0.26899537, 0.010043933, 0.38791814, -0.36175817, 0.63926077] Init Prob: [<tf.Tensor: shape=(), dtype=float32, numpy=0.82119536>] Click Prob: [<tf.Tensor: shape=(), dtype=float32, numpy=0.21321982>]\n",
      "Epoch 91/200\n",
      "40/40 [==============================] - 14s 343ms/step - loss: 5656.8154\n",
      "Mu: [-2.6522815, -0.9156913, -5.1400476] Beta: [0.66283315, -0.2706125, 0.01193138, 0.388488, -0.364141, 0.6423398] Init Prob: [<tf.Tensor: shape=(), dtype=float32, numpy=0.82050693>] Click Prob: [<tf.Tensor: shape=(), dtype=float32, numpy=0.2128025>]\n",
      "Epoch 92/200\n",
      "40/40 [==============================] - 14s 343ms/step - loss: 5656.7046\n",
      "Mu: [-2.6523213, -0.9164765, -5.1523356] Beta: [0.66335857, -0.27241275, 0.012641467, 0.3893592, -0.3651824, 0.6437318] Init Prob: [<tf.Tensor: shape=(), dtype=float32, numpy=0.8198094>] Click Prob: [<tf.Tensor: shape=(), dtype=float32, numpy=0.21236661>]\n",
      "Epoch 93/200\n",
      "40/40 [==============================] - 14s 342ms/step - loss: 5656.5908\n",
      "Mu: [-2.6525738, -0.9200672, -5.1637287] Beta: [0.66457593, -0.27634326, 0.014587201, 0.38984653, -0.36742187, 0.6469387] Init Prob: [<tf.Tensor: shape=(), dtype=float32, numpy=0.8193487>] Click Prob: [<tf.Tensor: shape=(), dtype=float32, numpy=0.21225622>]\n",
      "Epoch 94/200\n",
      "40/40 [==============================] - 14s 356ms/step - loss: 5656.4800\n",
      "Mu: [-2.6547518, -0.92144287, -5.1750193] Beta: [0.6644249, -0.27830204, 0.016925026, 0.38902497, -0.36816466, 0.649489] Init Prob: [<tf.Tensor: shape=(), dtype=float32, numpy=0.81894535>] Click Prob: [<tf.Tensor: shape=(), dtype=float32, numpy=0.21164009>]\n",
      "Epoch 95/200\n",
      "40/40 [==============================] - 14s 345ms/step - loss: 5656.3569\n",
      "Mu: [-2.6580026, -0.9217885, -5.188228] Beta: [0.66261035, -0.27951282, 0.016915126, 0.38726327, -0.36968467, 0.6503759] Init Prob: [<tf.Tensor: shape=(), dtype=float32, numpy=0.8184581>] Click Prob: [<tf.Tensor: shape=(), dtype=float32, numpy=0.21142381>]\n",
      "Epoch 96/200\n",
      "40/40 [==============================] - 14s 342ms/step - loss: 5656.2710\n",
      "Mu: [-2.6584415, -0.92417705, -5.199317] Beta: [0.66419774, -0.2829504, 0.018751815, 0.38688964, -0.37136218, 0.6537409] Init Prob: [<tf.Tensor: shape=(), dtype=float32, numpy=0.8180016>] Click Prob: [<tf.Tensor: shape=(), dtype=float32, numpy=0.21129939>]\n",
      "Epoch 97/200\n",
      "40/40 [==============================] - 14s 344ms/step - loss: 5656.1514\n",
      "Mu: [-2.6590164, -0.92633903, -5.2105236] Beta: [0.66437787, -0.28525737, 0.021136466, 0.38815698, -0.37373862, 0.6561368] Init Prob: [<tf.Tensor: shape=(), dtype=float32, numpy=0.8172737>] Click Prob: [<tf.Tensor: shape=(), dtype=float32, numpy=0.21116546>]\n",
      "Epoch 98/200\n",
      "40/40 [==============================] - 14s 346ms/step - loss: 5656.0845\n",
      "Mu: [-2.6596284, -0.9264366, -5.2228413] Beta: [0.6641826, -0.28585052, 0.022095844, 0.3888189, -0.3741091, 0.6570422] Init Prob: [<tf.Tensor: shape=(), dtype=float32, numpy=0.81698906>] Click Prob: [<tf.Tensor: shape=(), dtype=float32, numpy=0.2104038>]\n",
      "Epoch 99/200\n",
      "40/40 [==============================] - 14s 344ms/step - loss: 5655.9688\n",
      "Mu: [-2.6578906, -0.9314813, -5.2329726] Beta: [0.6668161, -0.2905689, 0.026169509, 0.39182138, -0.3786394, 0.6620193] Init Prob: [<tf.Tensor: shape=(), dtype=float32, numpy=0.81594014>] Click Prob: [<tf.Tensor: shape=(), dtype=float32, numpy=0.21088725>]\n",
      "Epoch 100/200\n",
      "40/40 [==============================] - 14s 349ms/step - loss: 5655.8794\n",
      "Mu: [-2.6604755, -0.9301788, -5.2455] Beta: [0.66467714, -0.29046315, 0.026331915, 0.38960713, -0.3771134, 0.66311634] Init Prob: [<tf.Tensor: shape=(), dtype=float32, numpy=0.81604636>] Click Prob: [<tf.Tensor: shape=(), dtype=float32, numpy=0.21011958>]\n",
      "Epoch 101/200\n",
      "40/40 [==============================] - 14s 343ms/step - loss: 5655.7534\n",
      "Mu: [-2.66159, -0.93339735, -5.2574787] Beta: [0.6653824, -0.29436356, 0.028696, 0.39017174, -0.37999597, 0.6654557] Init Prob: [<tf.Tensor: shape=(), dtype=float32, numpy=0.81549984>] Click Prob: [<tf.Tensor: shape=(), dtype=float32, numpy=0.21015686>]\n",
      "Epoch 102/200\n",
      "40/40 [==============================] - 14s 343ms/step - loss: 5655.6621\n",
      "Mu: [-2.6615093, -0.93489486, -5.268983] Beta: [0.66588885, -0.29548323, 0.031232681, 0.39186233, -0.3807794, 0.6675698] Init Prob: [<tf.Tensor: shape=(), dtype=float32, numpy=0.81477153>] Click Prob: [<tf.Tensor: shape=(), dtype=float32, numpy=0.20998523>]\n",
      "Epoch 103/200\n",
      "40/40 [==============================] - 14s 342ms/step - loss: 5655.5674\n",
      "Mu: [-2.6639788, -0.9352122, -5.280869] Beta: [0.6655442, -0.29612815, 0.032539986, 0.38905245, -0.3807005, 0.66954935] Init Prob: [<tf.Tensor: shape=(), dtype=float32, numpy=0.81460255>] Click Prob: [<tf.Tensor: shape=(), dtype=float32, numpy=0.20934013>]\n",
      "Epoch 104/200\n",
      "40/40 [==============================] - 14s 344ms/step - loss: 5655.4658\n",
      "Mu: [-2.6663182, -0.93524325, -5.2910886] Beta: [0.6639035, -0.29724556, 0.035253115, 0.38821352, -0.38188815, 0.67294914] Init Prob: [<tf.Tensor: shape=(), dtype=float32, numpy=0.8144333>] Click Prob: [<tf.Tensor: shape=(), dtype=float32, numpy=0.20890877>]\n",
      "Epoch 105/200\n",
      "40/40 [==============================] - 14s 343ms/step - loss: 5655.3584\n",
      "Mu: [-2.666539, -0.93531674, -5.3039] Beta: [0.6646266, -0.29786676, 0.035357047, 0.3876899, -0.38115454, 0.6732838] Init Prob: [<tf.Tensor: shape=(), dtype=float32, numpy=0.81343704>] Click Prob: [<tf.Tensor: shape=(), dtype=float32, numpy=0.20859322>]\n",
      "Epoch 106/200\n",
      "40/40 [==============================] - 14s 342ms/step - loss: 5655.2817\n",
      "Mu: [-2.6677232, -0.93915385, -5.314496] Beta: [0.66387737, -0.30124164, 0.0387119, 0.3880006, -0.38404256, 0.6762595] Init Prob: [<tf.Tensor: shape=(), dtype=float32, numpy=0.81308305>] Click Prob: [<tf.Tensor: shape=(), dtype=float32, numpy=0.2086066>]\n",
      "Epoch 107/200\n",
      "40/40 [==============================] - 14s 342ms/step - loss: 5655.1914\n",
      "Mu: [-2.6690228, -0.939061, -5.325245] Beta: [0.66419035, -0.301937, 0.041904487, 0.38963437, -0.38523492, 0.679766] Init Prob: [<tf.Tensor: shape=(), dtype=float32, numpy=0.81278896>] Click Prob: [<tf.Tensor: shape=(), dtype=float32, numpy=0.20807698>]\n",
      "Epoch 108/200\n",
      "40/40 [==============================] - 14s 345ms/step - loss: 5655.0986\n",
      "Mu: [-2.669567, -0.9414912, -5.336596] Beta: [0.6644291, -0.30467218, 0.043189496, 0.39002955, -0.38725978, 0.68177253] Init Prob: [<tf.Tensor: shape=(), dtype=float32, numpy=0.8126863>] Click Prob: [<tf.Tensor: shape=(), dtype=float32, numpy=0.20818475>]\n",
      "Epoch 109/200\n",
      "40/40 [==============================] - 14s 345ms/step - loss: 5655.0142\n",
      "Mu: [-2.6704469, -0.9416611, -5.349279] Beta: [0.66477805, -0.30501717, 0.042896412, 0.38721588, -0.38583383, 0.6824368] Init Prob: [<tf.Tensor: shape=(), dtype=float32, numpy=0.8123722>] Click Prob: [<tf.Tensor: shape=(), dtype=float32, numpy=0.20791823>]\n",
      "Epoch 110/200\n",
      "40/40 [==============================] - 14s 343ms/step - loss: 5654.9702\n",
      "Mu: [-2.6689408, -0.9445782, -5.358779] Beta: [0.66680115, -0.30835462, 0.0464115, 0.391134, -0.3888117, 0.6868084] Init Prob: [<tf.Tensor: shape=(), dtype=float32, numpy=0.81228477>] Click Prob: [<tf.Tensor: shape=(), dtype=float32, numpy=0.20793065>]\n",
      "Epoch 111/200\n",
      "40/40 [==============================] - 14s 342ms/step - loss: 5654.8516\n",
      "Mu: [-2.6719387, -0.94470876, -5.3704767] Beta: [0.66423416, -0.30802462, 0.049722042, 0.3896495, -0.38997275, 0.6871375] Init Prob: [<tf.Tensor: shape=(), dtype=float32, numpy=0.8115102>] Click Prob: [<tf.Tensor: shape=(), dtype=float32, numpy=0.20758545>]\n",
      "Epoch 112/200\n",
      "40/40 [==============================] - 14s 342ms/step - loss: 5654.7847\n",
      "Mu: [-2.670811, -0.94638115, -5.380765] Beta: [0.666014, -0.30976716, 0.0510752, 0.39121342, -0.39112142, 0.6911388] Init Prob: [<tf.Tensor: shape=(), dtype=float32, numpy=0.81110764>] Click Prob: [<tf.Tensor: shape=(), dtype=float32, numpy=0.20732027>]\n",
      "Epoch 113/200\n",
      "40/40 [==============================] - 14s 344ms/step - loss: 5654.7104\n",
      "Mu: [-2.6727622, -0.9470496, -5.3928657] Beta: [0.66435117, -0.31041154, 0.051973335, 0.39020047, -0.39135218, 0.6910234] Init Prob: [<tf.Tensor: shape=(), dtype=float32, numpy=0.811084>] Click Prob: [<tf.Tensor: shape=(), dtype=float32, numpy=0.2070136>]\n",
      "Epoch 114/200\n",
      "40/40 [==============================] - 14s 342ms/step - loss: 5654.6694\n",
      "Mu: [-2.6722927, -0.95007074, -5.40205] Beta: [0.66560835, -0.31381014, 0.056037676, 0.39016026, -0.39369148, 0.6947192] Init Prob: [<tf.Tensor: shape=(), dtype=float32, numpy=0.8107215>] Click Prob: [<tf.Tensor: shape=(), dtype=float32, numpy=0.20722654>]\n",
      "Epoch 115/200\n",
      "40/40 [==============================] - 14s 346ms/step - loss: 5654.5977\n",
      "Mu: [-2.672881, -0.94845283, -5.4133267] Beta: [0.66690576, -0.31307358, 0.057068855, 0.39228886, -0.3939899, 0.6969081] Init Prob: [<tf.Tensor: shape=(), dtype=float32, numpy=0.81070495>] Click Prob: [<tf.Tensor: shape=(), dtype=float32, numpy=0.20680127>]\n",
      "Epoch 116/200\n",
      "40/40 [==============================] - 14s 342ms/step - loss: 5654.5112\n",
      "Mu: [-2.6744406, -0.95129037, -5.425255] Beta: [0.6653283, -0.3146074, 0.057432186, 0.39120615, -0.3962592, 0.6969714] Init Prob: [<tf.Tensor: shape=(), dtype=float32, numpy=0.80998814>] Click Prob: [<tf.Tensor: shape=(), dtype=float32, numpy=0.20704937>]\n",
      "Epoch 117/200\n",
      "40/40 [==============================] - 14s 342ms/step - loss: 5654.4521\n",
      "Mu: [-2.6753297, -0.951765, -5.436111] Beta: [0.66492784, -0.31506568, 0.058734056, 0.39034748, -0.39517137, 0.6990375] Init Prob: [<tf.Tensor: shape=(), dtype=float32, numpy=0.80961967>] Click Prob: [<tf.Tensor: shape=(), dtype=float32, numpy=0.20625857>]\n",
      "Epoch 118/200\n",
      "40/40 [==============================] - 14s 344ms/step - loss: 5654.3647\n",
      "Mu: [-2.677034, -0.95280963, -5.446056] Beta: [0.66544974, -0.3181548, 0.061967537, 0.3897574, -0.39661714, 0.70142895] Init Prob: [<tf.Tensor: shape=(), dtype=float32, numpy=0.8094109>] Click Prob: [<tf.Tensor: shape=(), dtype=float32, numpy=0.20648637>]\n",
      "Epoch 119/200\n",
      "40/40 [==============================] - 14s 343ms/step - loss: 5654.3164\n",
      "Mu: [-2.6760197, -0.9540339, -5.4552956] Beta: [0.6667628, -0.31840953, 0.06585419, 0.38999146, -0.39631122, 0.7040727] Init Prob: [<tf.Tensor: shape=(), dtype=float32, numpy=0.80927813>] Click Prob: [<tf.Tensor: shape=(), dtype=float32, numpy=0.20614615>]\n",
      "Epoch 120/200\n",
      "40/40 [==============================] - 14s 342ms/step - loss: 5654.2979\n",
      "Mu: [-2.6748543, -0.9560189, -5.4672832] Beta: [0.6676683, -0.32002077, 0.06529342, 0.39096737, -0.39830565, 0.7042497] Init Prob: [<tf.Tensor: shape=(), dtype=float32, numpy=0.8089731>] Click Prob: [<tf.Tensor: shape=(), dtype=float32, numpy=0.20612475>]\n",
      "Epoch 121/200\n",
      "40/40 [==============================] - 14s 344ms/step - loss: 5654.1992\n",
      "Mu: [-2.6796608, -0.95587134, -5.475388] Beta: [0.6644499, -0.32029194, 0.068906404, 0.38863093, -0.39892352, 0.7089749] Init Prob: [<tf.Tensor: shape=(), dtype=float32, numpy=0.80926085>] Click Prob: [<tf.Tensor: shape=(), dtype=float32, numpy=0.20560181>]\n",
      "Epoch 122/200\n",
      "40/40 [==============================] - 14s 345ms/step - loss: 5654.1318\n",
      "Mu: [-2.677928, -0.9585617, -5.487011] Beta: [0.6663866, -0.32236686, 0.069745116, 0.39209092, -0.40122795, 0.7091909] Init Prob: [<tf.Tensor: shape=(), dtype=float32, numpy=0.8084938>] Click Prob: [<tf.Tensor: shape=(), dtype=float32, numpy=0.20586735>]\n",
      "Epoch 123/200\n",
      "40/40 [==============================] - 15s 363ms/step - loss: 5654.0815\n",
      "Mu: [-2.678757, -0.95799667, -5.496502] Beta: [0.6680315, -0.3229934, 0.07255394, 0.38854104, -0.39909893, 0.71092373] Init Prob: [<tf.Tensor: shape=(), dtype=float32, numpy=0.80836535>] Click Prob: [<tf.Tensor: shape=(), dtype=float32, numpy=0.20546421>]\n",
      "Epoch 124/200\n",
      "40/40 [==============================] - 14s 351ms/step - loss: 5654.0405\n",
      "Mu: [-2.678974, -0.9600987, -5.506305] Beta: [0.6675555, -0.3246327, 0.07344995, 0.39115608, -0.40208942, 0.7136328] Init Prob: [<tf.Tensor: shape=(), dtype=float32, numpy=0.80777335>] Click Prob: [<tf.Tensor: shape=(), dtype=float32, numpy=0.20562187>]\n",
      "Epoch 125/200\n",
      "40/40 [==============================] - 14s 342ms/step - loss: 5654.0156\n",
      "Mu: [-2.680513, -0.9618946, -5.514124] Beta: [0.6672313, -0.32601336, 0.076748684, 0.39103368, -0.40308097, 0.7173545] Init Prob: [<tf.Tensor: shape=(), dtype=float32, numpy=0.8078699>] Click Prob: [<tf.Tensor: shape=(), dtype=float32, numpy=0.20516515>]\n",
      "Epoch 126/200\n",
      "40/40 [==============================] - 14s 348ms/step - loss: 5653.9365\n",
      "Mu: [-2.6823802, -0.9594795, -5.526118] Beta: [0.6644654, -0.32307175, 0.07635629, 0.39047036, -0.40168312, 0.7158597] Init Prob: [<tf.Tensor: shape=(), dtype=float32, numpy=0.80769515>] Click Prob: [<tf.Tensor: shape=(), dtype=float32, numpy=0.20448315>]\n",
      "Epoch 127/200\n",
      "40/40 [==============================] - 14s 342ms/step - loss: 5653.8750\n",
      "Mu: [-2.680497, -0.9631767, -5.5348644] Beta: [0.66881317, -0.32828507, 0.079036176, 0.39033115, -0.40334794, 0.71842086] Init Prob: [<tf.Tensor: shape=(), dtype=float32, numpy=0.8069954>] Click Prob: [<tf.Tensor: shape=(), dtype=float32, numpy=0.20515034>]\n",
      "Epoch 128/200\n",
      "40/40 [==============================] - 14s 341ms/step - loss: 5653.8457\n",
      "Mu: [-2.68297, -0.96265143, -5.544517] Beta: [0.66460186, -0.3261027, 0.08075134, 0.39043713, -0.4046465, 0.72033995] Init Prob: [<tf.Tensor: shape=(), dtype=float32, numpy=0.8070251>] Click Prob: [<tf.Tensor: shape=(), dtype=float32, numpy=0.20476973>]\n",
      "Epoch 129/200\n",
      "40/40 [==============================] - 14s 356ms/step - loss: 5653.8115\n",
      "Mu: [-2.6822827, -0.96436906, -5.5543036] Beta: [0.66726947, -0.3282854, 0.0822118, 0.39080372, -0.4062237, 0.7206907] Init Prob: [<tf.Tensor: shape=(), dtype=float32, numpy=0.80679667>] Click Prob: [<tf.Tensor: shape=(), dtype=float32, numpy=0.20481825>]\n",
      "Epoch 130/200\n",
      "40/40 [==============================] - 14s 352ms/step - loss: 5653.7847\n",
      "Mu: [-2.6827092, -0.96640885, -5.561525] Beta: [0.66821444, -0.3302198, 0.086476505, 0.39182705, -0.4066276, 0.7250561] Init Prob: [<tf.Tensor: shape=(), dtype=float32, numpy=0.80640495>] Click Prob: [<tf.Tensor: shape=(), dtype=float32, numpy=0.20455745>]\n",
      "Epoch 131/200\n",
      "40/40 [==============================] - 14s 345ms/step - loss: 5653.7290\n",
      "Mu: [-2.6829562, -0.9662678, -5.5723734] Beta: [0.6683527, -0.32983303, 0.08442239, 0.39144576, -0.40665388, 0.7258189] Init Prob: [<tf.Tensor: shape=(), dtype=float32, numpy=0.806808>] Click Prob: [<tf.Tensor: shape=(), dtype=float32, numpy=0.20423716>]\n",
      "Epoch 132/200\n",
      "40/40 [==============================] - 14s 342ms/step - loss: 5653.6870\n",
      "Mu: [-2.684447, -0.9674656, -5.5802073] Beta: [0.6682255, -0.33120292, 0.08887512, 0.38921157, -0.40663737, 0.7275843] Init Prob: [<tf.Tensor: shape=(), dtype=float32, numpy=0.80621195>] Click Prob: [<tf.Tensor: shape=(), dtype=float32, numpy=0.204133>]\n",
      "Epoch 133/200\n",
      "40/40 [==============================] - 14s 341ms/step - loss: 5653.6465\n",
      "Mu: [-2.6836042, -0.9689701, -5.588595] Beta: [0.66838145, -0.33192506, 0.09043411, 0.39110717, -0.40851277, 0.7293191] Init Prob: [<tf.Tensor: shape=(), dtype=float32, numpy=0.80562377>] Click Prob: [<tf.Tensor: shape=(), dtype=float32, numpy=0.20413849>]\n",
      "Epoch 134/200\n",
      "40/40 [==============================] - 14s 341ms/step - loss: 5653.6294\n",
      "Mu: [-2.685261, -0.969792, -5.5988116] Beta: [0.66657674, -0.33176014, 0.09120671, 0.39126536, -0.40960282, 0.72967666] Init Prob: [<tf.Tensor: shape=(), dtype=float32, numpy=0.8054653>] Click Prob: [<tf.Tensor: shape=(), dtype=float32, numpy=0.20394522>]\n",
      "Epoch 135/200\n",
      "40/40 [==============================] - 14s 345ms/step - loss: 5653.5708\n",
      "Mu: [-2.685208, -0.9714948, -5.6061335] Beta: [0.66917545, -0.3349428, 0.092608556, 0.39194787, -0.410804, 0.73238] Init Prob: [<tf.Tensor: shape=(), dtype=float32, numpy=0.80593705>] Click Prob: [<tf.Tensor: shape=(), dtype=float32, numpy=0.20410573>]\n",
      "Epoch 136/200\n",
      "40/40 [==============================] - 14s 342ms/step - loss: 5653.5732\n",
      "Mu: [-2.6848352, -0.97138023, -5.6136174] Beta: [0.6705129, -0.33483106, 0.0957383, 0.39209655, -0.40984702, 0.73409146] Init Prob: [<tf.Tensor: shape=(), dtype=float32, numpy=0.80551076>] Click Prob: [<tf.Tensor: shape=(), dtype=float32, numpy=0.20378259>]\n",
      "Epoch 137/200\n",
      "40/40 [==============================] - 14s 342ms/step - loss: 5653.5156\n",
      "Mu: [-2.6869009, -0.97224396, -5.6224957] Beta: [0.6685094, -0.33513644, 0.09471838, 0.39123416, -0.4106065, 0.7354212] Init Prob: [<tf.Tensor: shape=(), dtype=float32, numpy=0.8054086>] Click Prob: [<tf.Tensor: shape=(), dtype=float32, numpy=0.20363086>]\n",
      "Epoch 138/200\n",
      "40/40 [==============================] - 14s 341ms/step - loss: 5653.4951\n",
      "Mu: [-2.6868935, -0.97299874, -5.6320586] Beta: [0.66899925, -0.33499375, 0.09577354, 0.39196944, -0.41136828, 0.73558104] Init Prob: [<tf.Tensor: shape=(), dtype=float32, numpy=0.8049474>] Click Prob: [<tf.Tensor: shape=(), dtype=float32, numpy=0.20345911>]\n",
      "Epoch 139/200\n",
      "40/40 [==============================] - 14s 341ms/step - loss: 5653.4604\n",
      "Mu: [-2.6883757, -0.97274244, -5.638386] Beta: [0.66795343, -0.33589464, 0.098693684, 0.3910919, -0.41154265, 0.7382283] Init Prob: [<tf.Tensor: shape=(), dtype=float32, numpy=0.80504584>] Click Prob: [<tf.Tensor: shape=(), dtype=float32, numpy=0.20343924>]\n",
      "Epoch 140/200\n",
      "40/40 [==============================] - 14s 344ms/step - loss: 5653.4424\n",
      "Mu: [-2.6871283, -0.975691, -5.6462083] Beta: [0.6687025, -0.3370742, 0.10065692, 0.39226112, -0.41372913, 0.7390857] Init Prob: [<tf.Tensor: shape=(), dtype=float32, numpy=0.80425704>] Click Prob: [<tf.Tensor: shape=(), dtype=float32, numpy=0.20340818>]\n",
      "Epoch 141/200\n",
      "40/40 [==============================] - 14s 342ms/step - loss: 5653.4033\n",
      "Mu: [-2.6891422, -0.9741074, -5.6555333] Beta: [0.6677445, -0.33627605, 0.09946298, 0.39156651, -0.4121419, 0.738989] Init Prob: [<tf.Tensor: shape=(), dtype=float32, numpy=0.80453944>] Click Prob: [<tf.Tensor: shape=(), dtype=float32, numpy=0.20299068>]\n",
      "Epoch 142/200\n",
      "40/40 [==============================] - 14s 341ms/step - loss: 5653.3604\n",
      "Mu: [-2.6878922, -0.9779757, -5.6600866] Beta: [0.669252, -0.33916643, 0.104647204, 0.39131266, -0.41531444, 0.7436386] Init Prob: [<tf.Tensor: shape=(), dtype=float32, numpy=0.80374885>] Click Prob: [<tf.Tensor: shape=(), dtype=float32, numpy=0.20330727>]\n",
      "Epoch 143/200\n",
      "40/40 [==============================] - 14s 343ms/step - loss: 5653.3691\n",
      "Mu: [-2.6867719, -0.97776365, -5.667218] Beta: [0.67065686, -0.33854115, 0.10714273, 0.3938829, -0.41608864, 0.7459837] Init Prob: [<tf.Tensor: shape=(), dtype=float32, numpy=0.8041892>] Click Prob: [<tf.Tensor: shape=(), dtype=float32, numpy=0.20288706>]\n",
      "Epoch 144/200\n",
      "40/40 [==============================] - 14s 350ms/step - loss: 5653.3350\n",
      "Mu: [-2.6911798, -0.97799784, -5.6756873] Beta: [0.6682178, -0.33985513, 0.10616859, 0.38994768, -0.4150754, 0.74570733] Init Prob: [<tf.Tensor: shape=(), dtype=float32, numpy=0.8037853>] Click Prob: [<tf.Tensor: shape=(), dtype=float32, numpy=0.20279631>]\n",
      "Epoch 145/200\n",
      "40/40 [==============================] - 14s 346ms/step - loss: 5653.3057\n",
      "Mu: [-2.6917088, -0.9788618, -5.6847887] Beta: [0.6668586, -0.33951443, 0.10682824, 0.39044166, -0.41617388, 0.74532205] Init Prob: [<tf.Tensor: shape=(), dtype=float32, numpy=0.8032793>] Click Prob: [<tf.Tensor: shape=(), dtype=float32, numpy=0.20285004>]\n",
      "Epoch 146/200\n",
      "40/40 [==============================] - 14s 342ms/step - loss: 5653.3330\n",
      "Mu: [-2.6914835, -0.9776282, -5.690383] Beta: [0.6685465, -0.33863893, 0.108727045, 0.39136443, -0.4147371, 0.74756765] Init Prob: [<tf.Tensor: shape=(), dtype=float32, numpy=0.8038373>] Click Prob: [<tf.Tensor: shape=(), dtype=float32, numpy=0.20244712>]\n",
      "Epoch 147/200\n",
      "40/40 [==============================] - 14s 342ms/step - loss: 5653.3184\n",
      "Mu: [-2.6900816, -0.98077464, -5.6962695] Beta: [0.6700116, -0.34178448, 0.11165226, 0.39455017, -0.41816425, 0.7498606] Init Prob: [<tf.Tensor: shape=(), dtype=float32, numpy=0.803759>] Click Prob: [<tf.Tensor: shape=(), dtype=float32, numpy=0.20274284>]\n",
      "Epoch 148/200\n",
      "40/40 [==============================] - 14s 341ms/step - loss: 5653.2729\n",
      "Mu: [-2.6929505, -0.97908974, -5.70516] Beta: [0.6680301, -0.34011486, 0.10920406, 0.38980255, -0.4156868, 0.7491688] Init Prob: [<tf.Tensor: shape=(), dtype=float32, numpy=0.80373436>] Click Prob: [<tf.Tensor: shape=(), dtype=float32, numpy=0.20215833>]\n",
      "Epoch 149/200\n",
      "40/40 [==============================] - 14s 345ms/step - loss: 5653.2554\n",
      "Mu: [-2.6887517, -0.9846977, -5.7097654] Beta: [0.6726393, -0.34349585, 0.11291393, 0.3941806, -0.42032135, 0.7520731] Init Prob: [<tf.Tensor: shape=(), dtype=float32, numpy=0.80301833>] Click Prob: [<tf.Tensor: shape=(), dtype=float32, numpy=0.20271173>]\n",
      "Epoch 150/200\n",
      "40/40 [==============================] - 14s 342ms/step - loss: 5653.2090\n",
      "Mu: [-2.6935115, -0.9822709, -5.717456] Beta: [0.66906095, -0.3419616, 0.113797165, 0.39105955, -0.41910362, 0.75225586] Init Prob: [<tf.Tensor: shape=(), dtype=float32, numpy=0.80295396>] Click Prob: [<tf.Tensor: shape=(), dtype=float32, numpy=0.20257846>]\n",
      "Epoch 151/200\n",
      "40/40 [==============================] - 14s 342ms/step - loss: 5653.1846\n",
      "Mu: [-2.6932418, -0.983142, -5.7227454] Beta: [0.67018163, -0.34209627, 0.114064366, 0.3914981, -0.4189734, 0.7548253] Init Prob: [<tf.Tensor: shape=(), dtype=float32, numpy=0.8030596>] Click Prob: [<tf.Tensor: shape=(), dtype=float32, numpy=0.20226502>]\n",
      "Epoch 152/200\n",
      "40/40 [==============================] - 14s 342ms/step - loss: 5653.1748\n",
      "Mu: [-2.6941495, -0.98368764, -5.727999] Beta: [0.6698219, -0.343155, 0.116217785, 0.39149705, -0.41936746, 0.75526005] Init Prob: [<tf.Tensor: shape=(), dtype=float32, numpy=0.802192>] Click Prob: [<tf.Tensor: shape=(), dtype=float32, numpy=0.20214456>]\n",
      "Epoch 153/200\n",
      "40/40 [==============================] - 14s 346ms/step - loss: 5653.1855\n",
      "Mu: [-2.6924634, -0.9861953, -5.733702] Beta: [0.6715663, -0.34455827, 0.117778145, 0.39205065, -0.42094648, 0.75655043] Init Prob: [<tf.Tensor: shape=(), dtype=float32, numpy=0.8025713>] Click Prob: [<tf.Tensor: shape=(), dtype=float32, numpy=0.20204741>]\n",
      "Epoch 154/200\n",
      "40/40 [==============================] - 14s 342ms/step - loss: 5653.2017\n",
      "Mu: [-2.6961455, -0.982972, -5.740816] Beta: [0.66863984, -0.3424286, 0.118091606, 0.39216024, -0.41943145, 0.75645846] Init Prob: [<tf.Tensor: shape=(), dtype=float32, numpy=0.80260396>] Click Prob: [<tf.Tensor: shape=(), dtype=float32, numpy=0.20154968>]\n",
      "Epoch 155/200\n",
      "40/40 [==============================] - 15s 365ms/step - loss: 5653.1284\n",
      "Mu: [-2.6947849, -0.9877855, -5.745298] Beta: [0.670241, -0.3450436, 0.120254226, 0.39164123, -0.42198384, 0.75886995] Init Prob: [<tf.Tensor: shape=(), dtype=float32, numpy=0.80221534>] Click Prob: [<tf.Tensor: shape=(), dtype=float32, numpy=0.20216075>]\n",
      "Epoch 156/200\n",
      "40/40 [==============================] - 14s 360ms/step - loss: 5653.1216\n",
      "Mu: [-2.6957567, -0.9878113, -5.751901] Beta: [0.67016375, -0.3460683, 0.11993165, 0.39115256, -0.42238942, 0.75933063] Init Prob: [<tf.Tensor: shape=(), dtype=float32, numpy=0.8021074>] Click Prob: [<tf.Tensor: shape=(), dtype=float32, numpy=0.20201418>]\n",
      "Epoch 157/200\n",
      "40/40 [==============================] - 14s 344ms/step - loss: 5653.1338\n",
      "Mu: [-2.6954331, -0.98830634, -5.756039] Beta: [0.67057204, -0.3452958, 0.12313448, 0.3918538, -0.42111927, 0.7612484] Init Prob: [<tf.Tensor: shape=(), dtype=float32, numpy=0.8017899>] Click Prob: [<tf.Tensor: shape=(), dtype=float32, numpy=0.20164183>]\n",
      "Epoch 158/200\n",
      "40/40 [==============================] - 14s 352ms/step - loss: 5653.1499\n",
      "Mu: [-2.6950366, -0.98911726, -5.7616634] Beta: [0.6703039, -0.34626335, 0.123599485, 0.39247975, -0.4233727, 0.76256156] Init Prob: [<tf.Tensor: shape=(), dtype=float32, numpy=0.8018625>] Click Prob: [<tf.Tensor: shape=(), dtype=float32, numpy=0.2016297>]\n",
      "Epoch 159/200\n",
      "40/40 [==============================] - 15s 366ms/step - loss: 5653.1035\n",
      "Mu: [-2.6982512, -0.98786706, -5.7677064] Beta: [0.66926986, -0.34455347, 0.124637775, 0.3906527, -0.4216145, 0.76315093] Init Prob: [<tf.Tensor: shape=(), dtype=float32, numpy=0.8022633>] Click Prob: [<tf.Tensor: shape=(), dtype=float32, numpy=0.20114881>]\n",
      "Epoch 160/200\n",
      "40/40 [==============================] - 14s 346ms/step - loss: 5653.1309\n",
      "Mu: [-2.698093, -0.9882846, -5.7739544] Beta: [0.6693947, -0.34526956, 0.123199545, 0.39149296, -0.42359474, 0.7625642] Init Prob: [<tf.Tensor: shape=(), dtype=float32, numpy=0.8017995>] Click Prob: [<tf.Tensor: shape=(), dtype=float32, numpy=0.20149705>]\n",
      "Epoch 161/200\n",
      "40/40 [==============================] - 14s 343ms/step - loss: 5653.1318\n",
      "Mu: [-2.6953666, -0.99114615, -5.776307] Beta: [0.6723015, -0.34766632, 0.12679675, 0.39378306, -0.42570773, 0.7655767] Init Prob: [<tf.Tensor: shape=(), dtype=float32, numpy=0.80143046>] Click Prob: [<tf.Tensor: shape=(), dtype=float32, numpy=0.20156726>]\n",
      "Epoch 162/200\n",
      "40/40 [==============================] - 14s 346ms/step - loss: 5653.0679\n",
      "Mu: [-2.6966796, -0.99052507, -5.7830043] Beta: [0.67221737, -0.34784436, 0.12572773, 0.39156196, -0.42262244, 0.76412266] Init Prob: [<tf.Tensor: shape=(), dtype=float32, numpy=0.8015487>] Click Prob: [<tf.Tensor: shape=(), dtype=float32, numpy=0.20150745>]\n",
      "Epoch 163/200\n",
      "40/40 [==============================] - 14s 343ms/step - loss: 5653.0791\n",
      "Mu: [-2.6954243, -0.99341434, -5.7861137] Beta: [0.6723681, -0.34877768, 0.12811263, 0.39322197, -0.42575076, 0.76692265] Init Prob: [<tf.Tensor: shape=(), dtype=float32, numpy=0.8013474>] Click Prob: [<tf.Tensor: shape=(), dtype=float32, numpy=0.20137367>]\n",
      "Epoch 164/200\n",
      "40/40 [==============================] - 14s 342ms/step - loss: 5653.0947\n",
      "Mu: [-2.7019656, -0.98979604, -5.791836] Beta: [0.66808915, -0.3468323, 0.12763016, 0.38997108, -0.42471352, 0.76721424] Init Prob: [<tf.Tensor: shape=(), dtype=float32, numpy=0.80141044>] Click Prob: [<tf.Tensor: shape=(), dtype=float32, numpy=0.20109785>]\n",
      "Epoch 165/200\n",
      "40/40 [==============================] - 14s 342ms/step - loss: 5653.0439\n",
      "Mu: [-2.697914, -0.9912732, -5.7961063] Beta: [0.6715999, -0.34780234, 0.12969932, 0.3918354, -0.42421967, 0.7678242] Init Prob: [<tf.Tensor: shape=(), dtype=float32, numpy=0.80127776>] Click Prob: [<tf.Tensor: shape=(), dtype=float32, numpy=0.20118392>]\n",
      "Epoch 166/200\n",
      "40/40 [==============================] - 14s 348ms/step - loss: 5653.0151\n",
      "Mu: [-2.697494, -0.9945212, -5.8011827] Beta: [0.6729562, -0.34898368, 0.12973529, 0.39189225, -0.4255423, 0.7676536] Init Prob: [<tf.Tensor: shape=(), dtype=float32, numpy=0.80059814>] Click Prob: [<tf.Tensor: shape=(), dtype=float32, numpy=0.20150545>]\n",
      "Epoch 167/200\n",
      "40/40 [==============================] - 14s 360ms/step - loss: 5653.0127\n",
      "Mu: [-2.701454, -0.99136627, -5.8056593] Beta: [0.6698435, -0.3472569, 0.13036518, 0.38954514, -0.42351684, 0.7686519] Init Prob: [<tf.Tensor: shape=(), dtype=float32, numpy=0.8007248>] Click Prob: [<tf.Tensor: shape=(), dtype=float32, numpy=0.2009309>]\n",
      "Epoch 168/200\n",
      "40/40 [==============================] - 14s 343ms/step - loss: 5653.0308\n",
      "Mu: [-2.6987686, -0.99437773, -5.809571] Beta: [0.6714572, -0.34879252, 0.13134496, 0.39401415, -0.42841673, 0.77145535] Init Prob: [<tf.Tensor: shape=(), dtype=float32, numpy=0.8006799>] Click Prob: [<tf.Tensor: shape=(), dtype=float32, numpy=0.20119128>]\n",
      "Epoch 169/200\n",
      "40/40 [==============================] - 14s 343ms/step - loss: 5653.0059\n",
      "Mu: [-2.6983893, -0.99464154, -5.81433] Beta: [0.6726899, -0.3490611, 0.1317876, 0.3922134, -0.4262995, 0.77039045] Init Prob: [<tf.Tensor: shape=(), dtype=float32, numpy=0.80071306>] Click Prob: [<tf.Tensor: shape=(), dtype=float32, numpy=0.2011838>]\n",
      "Epoch 170/200\n",
      "40/40 [==============================] - 14s 345ms/step - loss: 5653.0220\n",
      "Mu: [-2.6994395, -0.9946442, -5.814874] Beta: [0.6727721, -0.35011187, 0.13570665, 0.39357108, -0.42749792, 0.77451545] Init Prob: [<tf.Tensor: shape=(), dtype=float32, numpy=0.8005894>] Click Prob: [<tf.Tensor: shape=(), dtype=float32, numpy=0.20091897>]\n",
      "Epoch 171/200\n",
      "40/40 [==============================] - 14s 343ms/step - loss: 5653.0044\n",
      "Mu: [-2.7006516, -0.99575377, -5.8211308] Beta: [0.67108035, -0.35059473, 0.1347946, 0.39156288, -0.42780563, 0.77327794] Init Prob: [<tf.Tensor: shape=(), dtype=float32, numpy=0.79997313>] Click Prob: [<tf.Tensor: shape=(), dtype=float32, numpy=0.20107743>]\n",
      "Epoch 172/200\n",
      "40/40 [==============================] - 14s 342ms/step - loss: 5652.9824\n",
      "Mu: [-2.6999395, -0.99626976, -5.8244076] Beta: [0.6727796, -0.35041407, 0.1345622, 0.39338064, -0.42863813, 0.773619] Init Prob: [<tf.Tensor: shape=(), dtype=float32, numpy=0.80039996>] Click Prob: [<tf.Tensor: shape=(), dtype=float32, numpy=0.20093906>]\n",
      "Epoch 173/200\n",
      "40/40 [==============================] - 14s 346ms/step - loss: 5652.9746\n",
      "Mu: [-2.7022915, -0.9947937, -5.827759] Beta: [0.6704307, -0.34780663, 0.13511956, 0.39216363, -0.4275142, 0.77469474] Init Prob: [<tf.Tensor: shape=(), dtype=float32, numpy=0.8004024>] Click Prob: [<tf.Tensor: shape=(), dtype=float32, numpy=0.20060733>]\n",
      "Epoch 174/200\n",
      "40/40 [==============================] - 14s 344ms/step - loss: 5652.9829\n",
      "Mu: [-2.698808, -0.99875516, -5.832355] Beta: [0.67439413, -0.35140777, 0.13643008, 0.39566198, -0.43102664, 0.7751065] Init Prob: [<tf.Tensor: shape=(), dtype=float32, numpy=0.80054617>] Click Prob: [<tf.Tensor: shape=(), dtype=float32, numpy=0.20126349>]\n",
      "Epoch 175/200\n",
      "40/40 [==============================] - 14s 345ms/step - loss: 5653.0215\n",
      "Mu: [-2.700965, -0.9987806, -5.8359156] Beta: [0.6725388, -0.35160208, 0.13667771, 0.3927711, -0.42939842, 0.77486414] Init Prob: [<tf.Tensor: shape=(), dtype=float32, numpy=0.7998651>] Click Prob: [<tf.Tensor: shape=(), dtype=float32, numpy=0.20093384>]\n",
      "Epoch 176/200\n",
      "40/40 [==============================] - 14s 343ms/step - loss: 5652.9614\n",
      "Mu: [-2.7007902, -0.99814904, -5.8386807] Beta: [0.673079, -0.35066354, 0.13742492, 0.39229822, -0.42952102, 0.7752142] Init Prob: [<tf.Tensor: shape=(), dtype=float32, numpy=0.8000474>] Click Prob: [<tf.Tensor: shape=(), dtype=float32, numpy=0.20071137>]\n",
      "Epoch 177/200\n",
      "40/40 [==============================] - 14s 342ms/step - loss: 5653.0508\n",
      "Mu: [-2.7045608, -0.99565053, -5.844766] Beta: [0.66980255, -0.34811264, 0.13548642, 0.39080876, -0.42677832, 0.7733597] Init Prob: [<tf.Tensor: shape=(), dtype=float32, numpy=0.7998142>] Click Prob: [<tf.Tensor: shape=(), dtype=float32, numpy=0.20032743>]\n",
      "Epoch 178/200\n",
      "40/40 [==============================] - 14s 342ms/step - loss: 5652.9937\n",
      "Mu: [-2.7015896, -0.9997941, -5.842443] Beta: [0.67408824, -0.3526092, 0.13995329, 0.3938586, -0.4312288, 0.77947557] Init Prob: [<tf.Tensor: shape=(), dtype=float32, numpy=0.800048>] Click Prob: [<tf.Tensor: shape=(), dtype=float32, numpy=0.20089334>]\n",
      "Epoch 179/200\n",
      "40/40 [==============================] - 14s 345ms/step - loss: 5652.9771\n",
      "Mu: [-2.7030365, -0.99704176, -5.848449] Beta: [0.67217207, -0.34912074, 0.138404, 0.39143932, -0.42707866, 0.7767849] Init Prob: [<tf.Tensor: shape=(), dtype=float32, numpy=0.7995578>] Click Prob: [<tf.Tensor: shape=(), dtype=float32, numpy=0.20019743>]\n",
      "Epoch 180/200\n",
      "40/40 [==============================] - 14s 342ms/step - loss: 5652.9639\n",
      "Mu: [-2.7032926, -1.0006168, -5.8529634] Beta: [0.6729453, -0.35300016, 0.13864796, 0.3927781, -0.43062368, 0.7767796] Init Prob: [<tf.Tensor: shape=(), dtype=float32, numpy=0.80000794>] Click Prob: [<tf.Tensor: shape=(), dtype=float32, numpy=0.20073739>]\n",
      "Epoch 181/200\n",
      "40/40 [==============================] - 14s 343ms/step - loss: 5652.9902\n",
      "Mu: [-2.7045307, -0.9983686, -5.8546486] Beta: [0.67163885, -0.34976128, 0.13834754, 0.39278963, -0.42955288, 0.7780821] Init Prob: [<tf.Tensor: shape=(), dtype=float32, numpy=0.7995213>] Click Prob: [<tf.Tensor: shape=(), dtype=float32, numpy=0.20032284>]\n",
      "Epoch 182/200\n",
      "40/40 [==============================] - 14s 342ms/step - loss: 5652.9307\n",
      "Mu: [-2.704527, -1.0002626, -5.856859] Beta: [0.6736127, -0.3527568, 0.14037015, 0.39111814, -0.4302987, 0.77871466] Init Prob: [<tf.Tensor: shape=(), dtype=float32, numpy=0.79971683>] Click Prob: [<tf.Tensor: shape=(), dtype=float32, numpy=0.20058793>]\n",
      "Epoch 183/200\n",
      "40/40 [==============================] - 14s 357ms/step - loss: 5652.9473\n",
      "Mu: [-2.706486, -0.9981758, -5.858388] Beta: [0.6725557, -0.3511203, 0.14165907, 0.39034885, -0.42900836, 0.78098917] Init Prob: [<tf.Tensor: shape=(), dtype=float32, numpy=0.79959196>] Click Prob: [<tf.Tensor: shape=(), dtype=float32, numpy=0.20028362>]\n",
      "Epoch 184/200\n",
      "40/40 [==============================] - 15s 372ms/step - loss: 5652.9590\n",
      "Mu: [-2.703438, -1.0018531, -5.8601613] Beta: [0.6733009, -0.35188514, 0.1423199, 0.39259487, -0.4309304, 0.78195804] Init Prob: [<tf.Tensor: shape=(), dtype=float32, numpy=0.79937416>] Click Prob: [<tf.Tensor: shape=(), dtype=float32, numpy=0.20012307>]\n",
      "Epoch 185/200\n",
      "40/40 [==============================] - 14s 355ms/step - loss: 5652.9336\n",
      "Mu: [-2.7046278, -1.0006348, -5.8667545] Beta: [0.6732069, -0.35182682, 0.1398289, 0.39208442, -0.4295891, 0.77859807] Init Prob: [<tf.Tensor: shape=(), dtype=float32, numpy=0.7997239>] Click Prob: [<tf.Tensor: shape=(), dtype=float32, numpy=0.20028672>]\n",
      "Epoch 186/200\n",
      "40/40 [==============================] - 14s 348ms/step - loss: 5652.9644\n",
      "Mu: [-2.7059953, -1.0021925, -5.8689227] Beta: [0.67420757, -0.35346827, 0.14076391, 0.3895395, -0.4298417, 0.77922314] Init Prob: [<tf.Tensor: shape=(), dtype=float32, numpy=0.79961634>] Click Prob: [<tf.Tensor: shape=(), dtype=float32, numpy=0.20033813>]\n",
      "Epoch 187/200\n",
      "40/40 [==============================] - 14s 342ms/step - loss: 5652.9678\n",
      "Mu: [-2.7049813, -1.002641, -5.870013] Beta: [0.6732021, -0.35281616, 0.1410123, 0.3939339, -0.43160772, 0.7815447] Init Prob: [<tf.Tensor: shape=(), dtype=float32, numpy=0.7993009>] Click Prob: [<tf.Tensor: shape=(), dtype=float32, numpy=0.20058328>]\n",
      "Epoch 188/200\n",
      "40/40 [==============================] - 14s 344ms/step - loss: 5652.9346\n",
      "Mu: [-2.7044191, -1.0040606, -5.871003] Beta: [0.6747375, -0.35407966, 0.14493737, 0.39354712, -0.43272507, 0.7815166] Init Prob: [<tf.Tensor: shape=(), dtype=float32, numpy=0.7992617>] Click Prob: [<tf.Tensor: shape=(), dtype=float32, numpy=0.20029551>]\n",
      "Epoch 189/200\n",
      "40/40 [==============================] - 14s 343ms/step - loss: 5652.9482\n",
      "Mu: [-2.7065902, -1.0018243, -5.874007] Beta: [0.67269254, -0.35207394, 0.14372587, 0.39276224, -0.43165606, 0.7822019] Init Prob: [<tf.Tensor: shape=(), dtype=float32, numpy=0.79926646>] Click Prob: [<tf.Tensor: shape=(), dtype=float32, numpy=0.20013595>]\n",
      "Epoch 190/200\n",
      "40/40 [==============================] - 14s 342ms/step - loss: 5652.9570\n",
      "Mu: [-2.7035954, -1.0049858, -5.875795] Beta: [0.6756594, -0.35493398, 0.14395492, 0.39497057, -0.432981, 0.7821194] Init Prob: [<tf.Tensor: shape=(), dtype=float32, numpy=0.7993706>] Click Prob: [<tf.Tensor: shape=(), dtype=float32, numpy=0.20040002>]\n",
      "Epoch 191/200\n",
      "40/40 [==============================] - 14s 342ms/step - loss: 5652.9214\n",
      "Mu: [-2.704752, -1.0029761, -5.8774743] Beta: [0.6739483, -0.35252163, 0.14508337, 0.39470086, -0.43237484, 0.78384066] Init Prob: [<tf.Tensor: shape=(), dtype=float32, numpy=0.79885757>] Click Prob: [<tf.Tensor: shape=(), dtype=float32, numpy=0.20015335>]\n",
      "Epoch 192/200\n",
      "40/40 [==============================] - 14s 345ms/step - loss: 5652.9761\n",
      "Mu: [-2.7075994, -1.0037133, -5.881584] Beta: [0.6716568, -0.35207155, 0.14370947, 0.39312378, -0.43261564, 0.7824788] Init Prob: [<tf.Tensor: shape=(), dtype=float32, numpy=0.79928756>] Click Prob: [<tf.Tensor: shape=(), dtype=float32, numpy=0.20011127>]\n",
      "Epoch 193/200\n",
      "40/40 [==============================] - 14s 343ms/step - loss: 5652.9526\n",
      "Mu: [-2.7070718, -1.0043849, -5.88321] Beta: [0.673629, -0.3532569, 0.14512868, 0.39308497, -0.4324014, 0.7828524] Init Prob: [<tf.Tensor: shape=(), dtype=float32, numpy=0.7991287>] Click Prob: [<tf.Tensor: shape=(), dtype=float32, numpy=0.20021403>]\n",
      "Epoch 194/200\n",
      "40/40 [==============================] - 14s 343ms/step - loss: 5652.9238\n",
      "Mu: [-2.7066677, -1.0046864, -5.882948] Beta: [0.6748273, -0.35335675, 0.14719291, 0.39309543, -0.4335906, 0.7845927] Init Prob: [<tf.Tensor: shape=(), dtype=float32, numpy=0.7987006>] Click Prob: [<tf.Tensor: shape=(), dtype=float32, numpy=0.20004126>]\n",
      "Epoch 195/200\n",
      "40/40 [==============================] - 14s 342ms/step - loss: 5652.9395\n",
      "Mu: [-2.7087283, -1.0033625, -5.8860164] Beta: [0.672262, -0.35199288, 0.14456668, 0.39099923, -0.4314869, 0.7839554] Init Prob: [<tf.Tensor: shape=(), dtype=float32, numpy=0.7990295>] Click Prob: [<tf.Tensor: shape=(), dtype=float32, numpy=0.19999313>]\n",
      "Epoch 196/200\n",
      "40/40 [==============================] - 14s 342ms/step - loss: 5652.9448\n",
      "Mu: [-2.7078755, -1.0048214, -5.887305] Beta: [0.67449564, -0.35331464, 0.14626035, 0.3906674, -0.43155032, 0.7841436] Init Prob: [<tf.Tensor: shape=(), dtype=float32, numpy=0.7989063>] Click Prob: [<tf.Tensor: shape=(), dtype=float32, numpy=0.19995615>]\n",
      "Epoch 197/200\n",
      "40/40 [==============================] - 14s 346ms/step - loss: 5652.9468\n",
      "Mu: [-2.7082663, -1.0047265, -5.8887496] Beta: [0.6751206, -0.3539958, 0.14811845, 0.39224663, -0.43279853, 0.78596306] Init Prob: [<tf.Tensor: shape=(), dtype=float32, numpy=0.7988052>] Click Prob: [<tf.Tensor: shape=(), dtype=float32, numpy=0.19999933>]\n",
      "Epoch 198/200\n",
      "40/40 [==============================] - 14s 344ms/step - loss: 5652.9541\n",
      "Mu: [-2.7095506, -1.003304, -5.8928823] Beta: [0.6720183, -0.3515234, 0.14603038, 0.39191964, -0.43188837, 0.7850495] Init Prob: [<tf.Tensor: shape=(), dtype=float32, numpy=0.7988137>] Click Prob: [<tf.Tensor: shape=(), dtype=float32, numpy=0.19997323>]\n",
      "Epoch 199/200\n",
      "40/40 [==============================] - 14s 343ms/step - loss: 5652.9360\n",
      "Mu: [-2.708745, -1.0061291, -5.8924084] Beta: [0.6743949, -0.35505983, 0.14768727, 0.39404142, -0.43458673, 0.7858731] Init Prob: [<tf.Tensor: shape=(), dtype=float32, numpy=0.79893255>] Click Prob: [<tf.Tensor: shape=(), dtype=float32, numpy=0.20008433>]\n",
      "Epoch 200/200\n",
      "40/40 [==============================] - 14s 342ms/step - loss: 5652.9429\n"
     ]
    },
    {
     "ename": "ValueError",
     "evalue": "This test already exists in hmm_test_fitting.data!",
     "output_type": "error",
     "traceback": [
      "\u001B[0;31m---------------------------------------------------------------------------\u001B[0m",
      "\u001B[0;31mValueError\u001B[0m                                Traceback (most recent call last)",
      "Input \u001B[0;32mIn [29]\u001B[0m, in \u001B[0;36m<module>\u001B[0;34m\u001B[0m\n\u001B[1;32m     16\u001B[0m BETA \u001B[38;5;241m=\u001B[39m [\u001B[38;5;241m0.7\u001B[39m, \u001B[38;5;241m-\u001B[39m\u001B[38;5;241m0.3\u001B[39m, \u001B[38;5;241m0.15\u001B[39m, \u001B[38;5;241m0.4\u001B[39m, \u001B[38;5;241m-\u001B[39m\u001B[38;5;241m0.4\u001B[39m, \u001B[38;5;241m0.8\u001B[39m]\n\u001B[1;32m     17\u001B[0m history \u001B[38;5;241m=\u001B[39m fit_model(model, adstock, emission_real)\n\u001B[0;32m---> 18\u001B[0m \u001B[43msave_result\u001B[49m\u001B[43m(\u001B[49m\u001B[43mmodel\u001B[49m\u001B[43m,\u001B[49m\u001B[43m \u001B[49m\u001B[43madstock\u001B[49m\u001B[43m,\u001B[49m\u001B[43m \u001B[49m\u001B[43memission_real\u001B[49m\u001B[43m,\u001B[49m\u001B[43m \u001B[49m\u001B[43minitializer\u001B[49m\u001B[43m)\u001B[49m\n",
      "File \u001B[0;32m~/PycharmProjects/AttributionSingleUser/src/hmm_package/generate_hmm.py:426\u001B[0m, in \u001B[0;36msave_result\u001B[0;34m(model, adstock, emission_real, initializer)\u001B[0m\n\u001B[1;32m    424\u001B[0m     data \u001B[38;5;241m=\u001B[39m pickle\u001B[38;5;241m.\u001B[39mload(file)\n\u001B[1;32m    425\u001B[0m \u001B[38;5;28;01mif\u001B[39;00m title \u001B[38;5;129;01min\u001B[39;00m data:\n\u001B[0;32m--> 426\u001B[0m     \u001B[38;5;28;01mraise\u001B[39;00m \u001B[38;5;167;01mValueError\u001B[39;00m(\u001B[38;5;124m\"\u001B[39m\u001B[38;5;124mThis test already exists in hmm_test_fitting.data!\u001B[39m\u001B[38;5;124m\"\u001B[39m)\n\u001B[1;32m    427\u001B[0m data[title] \u001B[38;5;241m=\u001B[39m dict_to_store\n\u001B[1;32m    428\u001B[0m \u001B[38;5;28;01mwith\u001B[39;00m \u001B[38;5;28mopen\u001B[39m(filepath, \u001B[38;5;124m\"\u001B[39m\u001B[38;5;124mwb\u001B[39m\u001B[38;5;124m\"\u001B[39m) \u001B[38;5;28;01mas\u001B[39;00m file:\n",
      "\u001B[0;31mValueError\u001B[0m: This test already exists in hmm_test_fitting.data!"
     ]
    }
   ],
   "source": [
    "inverse_sigmoid = lambda x: np.log(x/(1-x))\n",
    "# Now try to fit the model sampled from the real parameters.\n",
    "initializer={\n",
    "    'BETA': tf.keras.initializers.Constant([ 1., 0., 0., 0., 0., 1.]),\n",
    "    'INIT_PROB': tf.keras.initializers.Constant(inverse_sigmoid(0.75)), #\n",
    "    'CLICK_PROB': tf.keras.initializers.Constant(inverse_sigmoid(0.25))},\n",
    "model = build_hmm_to_fit_beta(cm, mu=MU, initializer=initializer )\n",
    "\n",
    "compiler = CompilerInfoBeta(cm, LR_EXPONENTIAL_DECAY)\n",
    "model.compile(\n",
    "    loss = compiler.loss,\n",
    "    optimizer = compiler.optimizer,\n",
    "    run_eagerly = True\n",
    ")\n",
    "MU = [ -2.7419195, -1.1010361, -5.92728  ]\n",
    "BETA = [0.7, -0.3, 0.15, 0.4, -0.4, 0.8]\n",
    "history = fit_model(cm, model, adstock, emission_real)\n",
    "save_result(cm, model, adstock, emission_real, initializer)\n"
   ],
   "metadata": {
    "collapsed": false,
    "pycharm": {
     "name": "#%%\n"
    }
   }
  },
  {
   "cell_type": "code",
   "execution_count": 30,
   "outputs": [
    {
     "data": {
      "text/plain": "[<matplotlib.lines.Line2D at 0x7fdf9b535580>]"
     },
     "execution_count": 30,
     "metadata": {},
     "output_type": "execute_result"
    },
    {
     "data": {
      "text/plain": "<Figure size 432x288 with 1 Axes>",
      "image/png": "[encoded data removed]"
     },
     "metadata": {
      "needs_background": "light"
     },
     "output_type": "display_data"
    }
   ],
   "source": [
    "plt.plot(model.history.epoch, model.history.history['loss'])"
   ],
   "metadata": {
    "collapsed": false,
    "pycharm": {
     "name": "#%%\n"
    }
   }
  },
  {
   "cell_type": "code",
   "execution_count": 34,
   "outputs": [
    {
     "name": "stdout",
     "output_type": "stream",
     "text": [
      "['N Users:20000,\\n Epochs: 200,\\n Learning rate: LR: Constant, value=0.001']\n"
     ]
    }
   ],
   "source": [
    "print([el for el in a.keys()])"
   ],
   "metadata": {
    "collapsed": false,
    "pycharm": {
     "name": "#%%\n"
    }
   }
  },
  {
   "cell_type": "code",
   "execution_count": 1,
   "outputs": [
    {
     "ename": "NameError",
     "evalue": "name 'tf' is not defined",
     "output_type": "error",
     "traceback": [
      "\u001B[0;31m---------------------------------------------------------------------------\u001B[0m",
      "\u001B[0;31mNameError\u001B[0m                                 Traceback (most recent call last)",
      "Input \u001B[0;32mIn [1]\u001B[0m, in \u001B[0;36m<module>\u001B[0;34m\u001B[0m\n\u001B[0;32m----> 1\u001B[0m \u001B[43mtf\u001B[49m\n",
      "\u001B[0;31mNameError\u001B[0m: name 'tf' is not defined"
     ]
    }
   ],
   "source": [],
   "metadata": {
    "collapsed": false,
    "pycharm": {
     "name": "#%%\n"
    }
   }
  },
  {
   "cell_type": "markdown",
   "source": [
    "Supponiamo che il vettore fittato dal modello sia: #camp1: [ 0.8700186 ,  0.29879373, -0.35601237,  0.14475204,                                                     #camp2:   0.32184145,  0.06852179, -0.33719164,  0.80015075]\n",
    "Dal punto di vista teorico, i valori sono in linea con quelli sperati. Per interpetare i parametri, si tenga conto che: abbiamo 8 valori, di cui 4 per campagna: per ogni campagna il parametro 0 è l’influenza della campagna a passare da stato 0->1, il parametro 1 è l’influenza 0->2, il terzo è l’influenza 1->0 (quindi ci aspettiamo che sia negativo), e il quarto è l'influenza 1->2.\n",
    "Se compariamo i valori, partendo dalla tupla reale, l’obiettivo è osservare che la prima campagna influenzi il passaggio da stato 0 a stato 1 più della seconda campagna, mentre la seconda campagna dovrebbe avere l’effetto opposto, ovvero di influenzare più il passaggio da stato 1 a conversione.\n",
    "Dai valori dei parametri fittati partendo da inizializzazione di zeri, osserviamo alcune cose:\n",
    "1) Alcuni valori sembrano essere stati fittati correttamente. In particolare i valori di transizione da stato 1->2, ovvero 0.15 e 0.8.\n",
    "2) Gli altri pesi attribuiti sono coerenti con quelli reali. La campagna 1 mostra influenze piu alte nello stato zero (peso transizione 0->1 = 0.87, 0->2 = 0.3) rispetto alla campagna 2 (peso transizione 0->1 = 0.32, 0->2 = 0.07), mentre la campagna due mostra peso di transizione da stato intermedio a conversione più alto (1->2 = 0.8, vs campagna 1: 1->2 = 0.14). Pertanto, seppur i valori non siano esattamente quelli reali, viene catturata l'idea di avere campagne con influenze diverse in stati diversi, principale obiettivo del problema di attribution.\n",
    "3) Nel caso di sanity check partendo da parametri esatti, si è osservato che il vettore cambia nonostante la loss rimanga costante. Il vettore fittato da inizializzazione di zeri, sembrerebbe avvicinarsi a questa versione modificata del vettore reale. Comprendere per quale motivo ci si discosta dal vettore reale forse permetterebbe di risolvere questa discrepanza.\n",
    "\n",
    "Sotto, osserviamo anche la differenza media tra matrici di transizione ottenute con i parametri reali e quelli fittati dal modello."
   ],
   "metadata": {
    "collapsed": false,
    "pycharm": {
     "name": "#%% md\n"
    }
   }
  },
  {
   "cell_type": "code",
   "execution_count": null,
   "outputs": [],
   "source": [
    "load_results()\n",
    "matrix_diff = lambda usr: tf.reduce_sum(make_transition_matrix(cm, MU, model_test.weights[0], adstock[usr:usr+1]) - make_transition_matrix(cm, MU,BETA, adstock[usr:usr+1]), axis=1)/30\n",
    "avg_diff = sum(matrix_diff(usr) for usr in range(N_users))/N_users"
   ],
   "metadata": {
    "collapsed": false,
    "pycharm": {
     "name": "#%%\n"
    }
   }
  }
 ],
 "metadata": {
  "kernelspec": {
   "display_name": "Python 3",
   "language": "python",
   "name": "python3"
  },
  "language_info": {
   "codemirror_mode": {
    "name": "ipython",
    "version": 2
   },
   "file_extension": ".py",
   "mimetype": "text/x-python",
   "name": "python",
   "nbconvert_exporter": "python",
   "pygments_lexer": "ipython2",
   "version": "2.7.6"
  }
 },
 "nbformat": 4,
 "nbformat_minor": 0
}