{
 "cells": [
  {
   "cell_type": "markdown",
   "metadata": {},
   "source": [
    "# Attribution Simulator"
   ]
  },
  {
   "cell_type": "markdown",
   "metadata": {},
   "source": [
    "### Comments\n",
    "\n",
    "BISOGNA FINIRE ACTION CHECK. COME METTO DENTRO IL BALZO DI INFLUENZA??\n",
    "\n",
    "Il codice ad ora è molto sensibile alla parametrizzazione. Può essere reso più robusto ma vanno definiti dei comportamenti e delle variabili. \n",
    "\n",
    "Ad esempio: \n",
    "- PROBLEMA: Alzare le probabilita di esposizione rende piu veloce l'aumento di funnel_position, ma spinge TUTTI gli utenti alla conversione. Se il periodo è lungo rischio che convertano tutti. \\\n",
    "  POSSIBILE SOLUZIONE: Ridefinire il calcolo dell'influenza, magari non facendola fissa ma variabile... si aumenterebbe volatilita nel modello ma risultato piu verosimile\n",
    "  \n",
    "- PROBLEMA: La gestione del numero di esposizioni rispetto al numero di utenti è delicata. Se il numero di utenti è vicino al numero di esposizioni, allora va in saturazione molto velocemente e tanti utenti convertono. Se invece il numero di esposizioni è troppo basso, diviene difficile ottenere conversioni sufficienti. \\\n",
    "  POSSIBILE SOLUZIONE: Inserire un ulteriore funzione che gestisca multiple esposizioni in tempi ridotti, anche se questo vorrebbe dire aggiungere altri parametri da modellizzare e potenzialmente un eccesso di complicatezza nel codice.\n",
    "  \n",
    "  \n",
    "punti da confermare:\n",
    "- Funzione per calcolo probabilita esposizione\n",
    "- Funzione per sconto nel tempo\n",
    "- tempo medio di risposta: quanto dev'essere?\n",
    "- comportamento a lungo termine: allungando il tempo prima o poi convertiranno tutti. Risolvo con azzeramento e aumento numero user? In caso con risimulazione target group?\n",
    "- generazione numero esposizioni da budget\n",
    "\n",
    "- la risposta ai traffic potrebbe dipendere dall'attuale stato di funnel_position. questo darebbe un incremento maggiore se usata al tempo giusto!\n",
    "\n",
    "\n",
    "\n",
    "se lo impostassi come MDP, gli stati potrebbero essere le funnel_position degli utenti, ma non sarebbero observable. In piu, sarebbe veramente un MDP? Perche dipende da come ci sono arrivato alle funnel_position se considero che le campagne si influenzano. È anche vero pero che se l'funnel_position è alta verosimilmente so in automatico che le campagne sono state mostrate.\n",
    "In alternativa, se lo stato al tempo t fosse il totale delle campagne mostrate? anche qui tralascio l'ordine ma si potrebbe stimare l'funnel_position da questo dato... \n",
    "\n",
    "\n",
    "\n",
    "### TO DO\n",
    "\n",
    "Cambia entering_time con il giorno di prima esposizione, non quando viene creato\n",
    "\n",
    "leggi su limitazioni tecniche insieme ai paper.\n",
    "limiti: cross-devicing, necessita di piattaforme terze per tracciamento utenti \n",
    "info: feature tipiche"
   ]
  },
  {
   "cell_type": "markdown",
   "metadata": {},
   "source": [
    "# Simulator"
   ]
  },
  {
   "cell_type": "markdown",
   "metadata": {},
   "source": [
    "### Import Libraries"
   ]
  },
  {
   "cell_type": "code",
   "execution_count": 1,
   "metadata": {},
   "outputs": [],
   "source": [
    "# Constants\n",
    "import config.CONSTANTS_SIMULATOR\n",
    "from config.execution_parameters import *\n",
    "\n",
    "# Project libraries\n",
    "import src.plot_and_print_info.plots_and_print_info\n",
    "from src.plot_and_print_info.plots_and_print_info import *\n",
    "import src.simulator_package.simulator_functions\n",
    "from src.simulator_package.simulator_functions import *\n",
    "\n",
    "# Built in libraries\n",
    "import numpy as np\n",
    "import importlib\n",
    "#import skfda\n",
    "#from skfda.exploratory.visualization.clustering import (\n",
    "#    ClusterMembershipLinesPlot,\n",
    "#    ClusterMembershipPlot,\n",
    "#    ClusterPlot,\n",
    "#)\n",
    "#from skfda.ml.clustering import KMeans\n",
    "\n",
    "\n",
    "# Set random seed to repeat simulation\n",
    "random_seed = 0\n",
    "np.random.seed(random_seed)"
   ]
  },
  {
   "cell_type": "code",
   "execution_count": 2,
   "outputs": [],
   "source": [
    "# Reload library if you change code\n",
    "importlib.reload(src.plot_and_print_info.plots_and_print_info)\n",
    "importlib.reload(src.simulator_package.simulator_functions)\n",
    "importlib.reload(config.CONSTANTS_SIMULATOR)\n",
    "from config.CONSTANTS_SIMULATOR import *\n",
    "from src.plot_and_print_info.plots_and_print_info import *\n",
    "from src.simulator_package.simulator_functions import *"
   ],
   "metadata": {
    "collapsed": false,
    "pycharm": {
     "name": "#%%\n"
    }
   }
  },
  {
   "cell_type": "markdown",
   "metadata": {},
   "source": [
    "### Visualize filtering functions"
   ]
  },
  {
   "cell_type": "code",
   "execution_count": 3,
   "metadata": {},
   "outputs": [
    {
     "data": {
      "text/plain": "<Figure size 432x288 with 4 Axes>",
      "image/png": "[encoded data removed]"
     },
     "metadata": {
      "needs_background": "light"
     },
     "output_type": "display_data"
    }
   ],
   "source": [
    "plot_auxiliary_functions()"
   ]
  },
  {
   "cell_type": "markdown",
   "metadata": {},
   "source": [
    "## Simulate"
   ]
  },
  {
   "cell_type": "code",
   "execution_count": 4,
   "metadata": {
    "tags": []
   },
   "outputs": [],
   "source": [
    "advertising_campaign = SimulationClass(ANALYSIS_MODE)\n",
    "advertising_campaign.simulate()"
   ]
  },
  {
   "cell_type": "code",
   "execution_count": 6,
   "outputs": [
    {
     "ename": "KeyboardInterrupt",
     "evalue": "",
     "output_type": "error",
     "traceback": [
      "\u001B[0;31m---------------------------------------------------------------------------\u001B[0m",
      "\u001B[0;31mKeyboardInterrupt\u001B[0m                         Traceback (most recent call last)",
      "Input \u001B[0;32mIn [6]\u001B[0m, in \u001B[0;36m<module>\u001B[0;34m\u001B[0m\n\u001B[0;32m----> 1\u001B[0m \u001B[43madvertising_campaign\u001B[49m\n",
      "Input \u001B[0;32mIn [6]\u001B[0m, in \u001B[0;36m<module>\u001B[0;34m\u001B[0m\n\u001B[0;32m----> 1\u001B[0m \u001B[43madvertising_campaign\u001B[49m\n",
      "File \u001B[0;32m_pydevd_bundle/pydevd_cython_darwin_38_64.pyx:1180\u001B[0m, in \u001B[0;36m_pydevd_bundle.pydevd_cython_darwin_38_64.SafeCallWrapper.__call__\u001B[0;34m()\u001B[0m\n",
      "File \u001B[0;32m_pydevd_bundle/pydevd_cython_darwin_38_64.pyx:621\u001B[0m, in \u001B[0;36m_pydevd_bundle.pydevd_cython_darwin_38_64.PyDBFrame.trace_dispatch\u001B[0;34m()\u001B[0m\n",
      "File \u001B[0;32m_pydevd_bundle/pydevd_cython_darwin_38_64.pyx:930\u001B[0m, in \u001B[0;36m_pydevd_bundle.pydevd_cython_darwin_38_64.PyDBFrame.trace_dispatch\u001B[0;34m()\u001B[0m\n",
      "File \u001B[0;32m_pydevd_bundle/pydevd_cython_darwin_38_64.pyx:921\u001B[0m, in \u001B[0;36m_pydevd_bundle.pydevd_cython_darwin_38_64.PyDBFrame.trace_dispatch\u001B[0;34m()\u001B[0m\n",
      "File \u001B[0;32m_pydevd_bundle/pydevd_cython_darwin_38_64.pyx:318\u001B[0m, in \u001B[0;36m_pydevd_bundle.pydevd_cython_darwin_38_64.PyDBFrame.do_wait_suspend\u001B[0;34m()\u001B[0m\n",
      "File \u001B[0;32m/Applications/PyCharm.app/Contents/plugins/python/helpers/pydev/pydevd.py:1147\u001B[0m, in \u001B[0;36mPyDB.do_wait_suspend\u001B[0;34m(self, thread, frame, event, arg, send_suspend_message, is_unhandled_exception)\u001B[0m\n\u001B[1;32m   1144\u001B[0m         from_this_thread\u001B[38;5;241m.\u001B[39mappend(frame_id)\n\u001B[1;32m   1146\u001B[0m \u001B[38;5;28;01mwith\u001B[39;00m \u001B[38;5;28mself\u001B[39m\u001B[38;5;241m.\u001B[39m_threads_suspended_single_notification\u001B[38;5;241m.\u001B[39mnotify_thread_suspended(thread_id, stop_reason):\n\u001B[0;32m-> 1147\u001B[0m     \u001B[38;5;28;43mself\u001B[39;49m\u001B[38;5;241;43m.\u001B[39;49m\u001B[43m_do_wait_suspend\u001B[49m\u001B[43m(\u001B[49m\u001B[43mthread\u001B[49m\u001B[43m,\u001B[49m\u001B[43m \u001B[49m\u001B[43mframe\u001B[49m\u001B[43m,\u001B[49m\u001B[43m \u001B[49m\u001B[43mevent\u001B[49m\u001B[43m,\u001B[49m\u001B[43m \u001B[49m\u001B[43marg\u001B[49m\u001B[43m,\u001B[49m\u001B[43m \u001B[49m\u001B[43msuspend_type\u001B[49m\u001B[43m,\u001B[49m\u001B[43m \u001B[49m\u001B[43mfrom_this_thread\u001B[49m\u001B[43m)\u001B[49m\n",
      "File \u001B[0;32m/Applications/PyCharm.app/Contents/plugins/python/helpers/pydev/pydevd.py:1162\u001B[0m, in \u001B[0;36mPyDB._do_wait_suspend\u001B[0;34m(self, thread, frame, event, arg, suspend_type, from_this_thread)\u001B[0m\n\u001B[1;32m   1159\u001B[0m             \u001B[38;5;28mself\u001B[39m\u001B[38;5;241m.\u001B[39m_call_mpl_hook()\n\u001B[1;32m   1161\u001B[0m         \u001B[38;5;28mself\u001B[39m\u001B[38;5;241m.\u001B[39mprocess_internal_commands()\n\u001B[0;32m-> 1162\u001B[0m         \u001B[43mtime\u001B[49m\u001B[38;5;241;43m.\u001B[39;49m\u001B[43msleep\u001B[49m\u001B[43m(\u001B[49m\u001B[38;5;241;43m0.01\u001B[39;49m\u001B[43m)\u001B[49m\n\u001B[1;32m   1164\u001B[0m \u001B[38;5;28mself\u001B[39m\u001B[38;5;241m.\u001B[39mcancel_async_evaluation(get_current_thread_id(thread), \u001B[38;5;28mstr\u001B[39m(\u001B[38;5;28mid\u001B[39m(frame)))\n\u001B[1;32m   1166\u001B[0m \u001B[38;5;66;03m# process any stepping instructions\u001B[39;00m\n",
      "\u001B[0;31mKeyboardInterrupt\u001B[0m: "
     ]
    }
   ],
   "source": [
    "advertising_campaign"
   ],
   "metadata": {
    "collapsed": false,
    "pycharm": {
     "name": "#%%\n"
    }
   }
  },
  {
   "cell_type": "markdown",
   "metadata": {},
   "source": [
    "### Plots for inspection"
   ]
  },
  {
   "cell_type": "code",
   "execution_count": null,
   "metadata": {},
   "outputs": [],
   "source": [
    "advertising_campaign.plot_results()"
   ]
  },
  {
   "cell_type": "code",
   "execution_count": null,
   "metadata": {},
   "outputs": [],
   "source": [
    "# Clustered Users funnel_position\n",
    "fd = skfda.FDataGrid(simulation[\"funnel_position_history\"], range(0,time))\n",
    "n_clusters = 3\n",
    "seed = 2\n",
    "\n",
    "colormap = plt.cm.get_cmap('tab20c')\n",
    "type_colors = colormap(np.arange(n_clusters) / (n_clusters - 1))\n",
    "cluster_colors = type_colors[np.array([0, 2, 1])]\n",
    "\n",
    "kmeans = KMeans(n_clusters=n_clusters, random_state=seed)\n",
    "kmeans.fit(fd)\n",
    "print(kmeans.predict(fd))\n",
    "\n",
    "plt.figure()\n",
    "for ii in range(n_clusters):\n",
    "    mean = np.mean(simulation[\"funnel_position_history\"][kmeans.predict(fd)==ii,:], axis=0)\n",
    "    std = np.std(simulation[\"funnel_position_history\"][kmeans.predict(fd)==ii,:], axis=0)\n",
    "    plt.plot(range(0,time), mean, label=\"CLUSTER: \"+str(ii))\n",
    "    plt.fill_between( range(0,time), mean-std, mean+std, alpha=0.3 )\n",
    "plt.legend()\n",
    "ClusterPlot(kmeans, fd, cluster_colors=cluster_colors).plot()\n",
    "\n"
   ]
  },
  {
   "cell_type": "code",
   "execution_count": null,
   "outputs": [],
   "source": [],
   "metadata": {
    "collapsed": false,
    "pycharm": {
     "name": "#%%\n"
    }
   }
  }
 ],
 "metadata": {
  "kernelspec": {
   "display_name": "Python 3 (ipykernel)",
   "language": "python",
   "name": "python3"
  },
  "language_info": {
   "codemirror_mode": {
    "name": "ipython",
    "version": 3
   },
   "file_extension": ".py",
   "mimetype": "text/x-python",
   "name": "python",
   "nbconvert_exporter": "python",
   "pygments_lexer": "ipython3",
   "version": "3.8.5"
  }
 },
 "nbformat": 4,
 "nbformat_minor": 4
}